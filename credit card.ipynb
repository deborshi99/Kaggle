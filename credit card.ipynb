{
 "cells": [
  {
   "cell_type": "code",
   "execution_count": 1,
   "metadata": {
    "collapsed": true
   },
   "outputs": [
    {
     "name": "stdout",
     "output_type": "stream",
     "text": [
      "1056lab-credit-card-fraud-detection.zip: Skipping, found more recently modified local copy (use --force to force download)\n"
     ]
    }
   ],
   "source": [
    "import kaggle\n",
    "import numpy as np\n",
    "!kaggle competitions download -c 1056lab-credit-card-fraud-detection"
   ]
  },
  {
   "cell_type": "code",
   "execution_count": 2,
   "outputs": [],
   "source": [
    "import os\n",
    "from zipfile import ZipFile\n",
    "file = os.listdir()\n",
    "if \"data\" in file:\n",
    "    for i in file:\n",
    "        if i.endswith(\".zip\"):\n",
    "            file_path = os.getcwd() +\"/\"+ i\n",
    "            ZipFile(file_path).extractall(os.getcwd()+\"/data\")\n",
    "            break\n",
    "else:\n",
    "    for i in file:\n",
    "        if i.endswith(\".zip\"):\n",
    "            os.makedirs(os.getcwd()+\"/data\")\n",
    "            file_path = os.getcwd() + \"/\" + i\n",
    "            ZipFile(file_path).extractall(os.getcwd()+\"/data\")\n",
    "            break\n"
   ],
   "metadata": {
    "collapsed": false,
    "pycharm": {
     "name": "#%%\n"
    }
   }
  },
  {
   "cell_type": "code",
   "execution_count": 3,
   "outputs": [],
   "source": [
    "import pandas as pd\n",
    "def get_data():\n",
    "    train_data = pd.read_csv(os.getcwd()+\"//data/train.csv\")\n",
    "    test_data = pd.read_csv(os.getcwd()+\"//data/test.csv\")\n",
    "    return train_data, test_data"
   ],
   "metadata": {
    "collapsed": false,
    "pycharm": {
     "name": "#%%\n"
    }
   }
  },
  {
   "cell_type": "code",
   "execution_count": 4,
   "outputs": [],
   "source": [
    "train_data, test_data = get_data()"
   ],
   "metadata": {
    "collapsed": false,
    "pycharm": {
     "name": "#%%\n"
    }
   }
  },
  {
   "cell_type": "code",
   "execution_count": 5,
   "outputs": [],
   "source": [
    "sub_data = pd.read_csv(\"D:\\my work\\kaggle\\credit card fraud detection\\data\\sampleSubmission.csv\")"
   ],
   "metadata": {
    "collapsed": false,
    "pycharm": {
     "name": "#%%\n"
    }
   }
  },
  {
   "cell_type": "code",
   "execution_count": 6,
   "outputs": [
    {
     "data": {
      "text/plain": "   ID  Time        V1        V2        V3        V4        V5        V6  \\\n0   1   0.0 -1.359807 -0.072781  2.536347  1.378155 -0.338321  0.462388   \n1   2   0.0  1.191857  0.266151  0.166480  0.448154  0.060018 -0.082361   \n2   3   1.0 -1.358354 -1.340163  1.773209  0.379780 -0.503198  1.800499   \n3   4   1.0 -0.966272 -0.185226  1.792993 -0.863291 -0.010309  1.247203   \n4   5   2.0 -1.158233  0.877737  1.548718  0.403034 -0.407193  0.095921   \n\n         V7        V8  ...       V21       V22       V23       V24       V25  \\\n0  0.239599  0.098698  ... -0.018307  0.277838 -0.110474  0.066928  0.128539   \n1 -0.078803  0.085102  ... -0.225775 -0.638672  0.101288 -0.339846  0.167170   \n2  0.791461  0.247676  ...  0.247998  0.771679  0.909412 -0.689281 -0.327642   \n3  0.237609  0.377436  ... -0.108300  0.005274 -0.190321 -1.175575  0.647376   \n4  0.592941 -0.270533  ... -0.009431  0.798278 -0.137458  0.141267 -0.206010   \n\n        V26       V27       V28  Amount  Class  \n0 -0.189115  0.133558 -0.021053  149.62      0  \n1  0.125895 -0.008983  0.014724    2.69      0  \n2 -0.139097 -0.055353 -0.059752  378.66      0  \n3 -0.221929  0.062723  0.061458  123.50      0  \n4  0.502292  0.219422  0.215153   69.99      0  \n\n[5 rows x 32 columns]",
      "text/html": "<div>\n<style scoped>\n    .dataframe tbody tr th:only-of-type {\n        vertical-align: middle;\n    }\n\n    .dataframe tbody tr th {\n        vertical-align: top;\n    }\n\n    .dataframe thead th {\n        text-align: right;\n    }\n</style>\n<table border=\"1\" class=\"dataframe\">\n  <thead>\n    <tr style=\"text-align: right;\">\n      <th></th>\n      <th>ID</th>\n      <th>Time</th>\n      <th>V1</th>\n      <th>V2</th>\n      <th>V3</th>\n      <th>V4</th>\n      <th>V5</th>\n      <th>V6</th>\n      <th>V7</th>\n      <th>V8</th>\n      <th>...</th>\n      <th>V21</th>\n      <th>V22</th>\n      <th>V23</th>\n      <th>V24</th>\n      <th>V25</th>\n      <th>V26</th>\n      <th>V27</th>\n      <th>V28</th>\n      <th>Amount</th>\n      <th>Class</th>\n    </tr>\n  </thead>\n  <tbody>\n    <tr>\n      <th>0</th>\n      <td>1</td>\n      <td>0.0</td>\n      <td>-1.359807</td>\n      <td>-0.072781</td>\n      <td>2.536347</td>\n      <td>1.378155</td>\n      <td>-0.338321</td>\n      <td>0.462388</td>\n      <td>0.239599</td>\n      <td>0.098698</td>\n      <td>...</td>\n      <td>-0.018307</td>\n      <td>0.277838</td>\n      <td>-0.110474</td>\n      <td>0.066928</td>\n      <td>0.128539</td>\n      <td>-0.189115</td>\n      <td>0.133558</td>\n      <td>-0.021053</td>\n      <td>149.62</td>\n      <td>0</td>\n    </tr>\n    <tr>\n      <th>1</th>\n      <td>2</td>\n      <td>0.0</td>\n      <td>1.191857</td>\n      <td>0.266151</td>\n      <td>0.166480</td>\n      <td>0.448154</td>\n      <td>0.060018</td>\n      <td>-0.082361</td>\n      <td>-0.078803</td>\n      <td>0.085102</td>\n      <td>...</td>\n      <td>-0.225775</td>\n      <td>-0.638672</td>\n      <td>0.101288</td>\n      <td>-0.339846</td>\n      <td>0.167170</td>\n      <td>0.125895</td>\n      <td>-0.008983</td>\n      <td>0.014724</td>\n      <td>2.69</td>\n      <td>0</td>\n    </tr>\n    <tr>\n      <th>2</th>\n      <td>3</td>\n      <td>1.0</td>\n      <td>-1.358354</td>\n      <td>-1.340163</td>\n      <td>1.773209</td>\n      <td>0.379780</td>\n      <td>-0.503198</td>\n      <td>1.800499</td>\n      <td>0.791461</td>\n      <td>0.247676</td>\n      <td>...</td>\n      <td>0.247998</td>\n      <td>0.771679</td>\n      <td>0.909412</td>\n      <td>-0.689281</td>\n      <td>-0.327642</td>\n      <td>-0.139097</td>\n      <td>-0.055353</td>\n      <td>-0.059752</td>\n      <td>378.66</td>\n      <td>0</td>\n    </tr>\n    <tr>\n      <th>3</th>\n      <td>4</td>\n      <td>1.0</td>\n      <td>-0.966272</td>\n      <td>-0.185226</td>\n      <td>1.792993</td>\n      <td>-0.863291</td>\n      <td>-0.010309</td>\n      <td>1.247203</td>\n      <td>0.237609</td>\n      <td>0.377436</td>\n      <td>...</td>\n      <td>-0.108300</td>\n      <td>0.005274</td>\n      <td>-0.190321</td>\n      <td>-1.175575</td>\n      <td>0.647376</td>\n      <td>-0.221929</td>\n      <td>0.062723</td>\n      <td>0.061458</td>\n      <td>123.50</td>\n      <td>0</td>\n    </tr>\n    <tr>\n      <th>4</th>\n      <td>5</td>\n      <td>2.0</td>\n      <td>-1.158233</td>\n      <td>0.877737</td>\n      <td>1.548718</td>\n      <td>0.403034</td>\n      <td>-0.407193</td>\n      <td>0.095921</td>\n      <td>0.592941</td>\n      <td>-0.270533</td>\n      <td>...</td>\n      <td>-0.009431</td>\n      <td>0.798278</td>\n      <td>-0.137458</td>\n      <td>0.141267</td>\n      <td>-0.206010</td>\n      <td>0.502292</td>\n      <td>0.219422</td>\n      <td>0.215153</td>\n      <td>69.99</td>\n      <td>0</td>\n    </tr>\n  </tbody>\n</table>\n<p>5 rows × 32 columns</p>\n</div>"
     },
     "execution_count": 6,
     "metadata": {},
     "output_type": "execute_result"
    }
   ],
   "source": [
    "train_data.head()"
   ],
   "metadata": {
    "collapsed": false,
    "pycharm": {
     "name": "#%%\n"
    }
   }
  },
  {
   "cell_type": "code",
   "execution_count": 7,
   "outputs": [
    {
     "name": "stdout",
     "output_type": "stream",
     "text": [
      "<class 'pandas.core.frame.DataFrame'>\n",
      "RangeIndex: 198365 entries, 0 to 198364\n",
      "Data columns (total 32 columns):\n",
      " #   Column  Non-Null Count   Dtype  \n",
      "---  ------  --------------   -----  \n",
      " 0   ID      198365 non-null  int64  \n",
      " 1   Time    198365 non-null  float64\n",
      " 2   V1      198365 non-null  float64\n",
      " 3   V2      198365 non-null  float64\n",
      " 4   V3      198365 non-null  float64\n",
      " 5   V4      198365 non-null  float64\n",
      " 6   V5      198365 non-null  float64\n",
      " 7   V6      198365 non-null  float64\n",
      " 8   V7      198365 non-null  float64\n",
      " 9   V8      198365 non-null  float64\n",
      " 10  V9      198365 non-null  float64\n",
      " 11  V10     198365 non-null  float64\n",
      " 12  V11     198365 non-null  float64\n",
      " 13  V12     198365 non-null  float64\n",
      " 14  V13     198365 non-null  float64\n",
      " 15  V14     198365 non-null  float64\n",
      " 16  V15     198365 non-null  float64\n",
      " 17  V16     198365 non-null  float64\n",
      " 18  V17     198365 non-null  float64\n",
      " 19  V18     198365 non-null  float64\n",
      " 20  V19     198365 non-null  float64\n",
      " 21  V20     198365 non-null  float64\n",
      " 22  V21     198365 non-null  float64\n",
      " 23  V22     198365 non-null  float64\n",
      " 24  V23     198365 non-null  float64\n",
      " 25  V24     198365 non-null  float64\n",
      " 26  V25     198365 non-null  float64\n",
      " 27  V26     198365 non-null  float64\n",
      " 28  V27     198365 non-null  float64\n",
      " 29  V28     198365 non-null  float64\n",
      " 30  Amount  198365 non-null  float64\n",
      " 31  Class   198365 non-null  int64  \n",
      "dtypes: float64(30), int64(2)\n",
      "memory usage: 48.4 MB\n"
     ]
    }
   ],
   "source": [
    "train_data.info()"
   ],
   "metadata": {
    "collapsed": false,
    "pycharm": {
     "name": "#%%\n"
    }
   }
  },
  {
   "cell_type": "code",
   "execution_count": 8,
   "outputs": [
    {
     "data": {
      "text/plain": "                  ID           Time             V1             V2  \\\ncount  198365.000000  198365.000000  198365.000000  198365.000000   \nmean    99183.000000   70130.934414      -0.107339       0.004431   \nstd     57263.187411   34305.103318       1.891453       1.622666   \nmin         1.000000       0.000000     -56.407510     -72.715728   \n25%     49592.000000   44128.000000      -0.962685      -0.580147   \n50%     99183.000000   67005.000000      -0.094105       0.082136   \n75%    148774.000000   90198.000000       1.213058       0.783763   \nmax    198365.000000  132458.000000       2.454930      22.057729   \n\n                  V3             V4             V5             V6  \\\ncount  198365.000000  198365.000000  198365.000000  198365.000000   \nmean        0.325762       0.077514      -0.113668       0.046607   \nstd         1.446295       1.398805       1.360659       1.310315   \nmin       -33.680984      -5.683171     -42.147898     -26.160506   \n25%        -0.327270      -0.790975      -0.785452      -0.709602   \n50%         0.496715       0.078139      -0.171469      -0.218506   \n75%         1.225320       0.889229       0.462401       0.444661   \nmax         9.382558      16.875344      34.801666      22.529298   \n\n                  V7             V8  ...            V21            V22  \\\ncount  198365.000000  198365.000000  ...  198365.000000  198365.000000   \nmean       -0.051740       0.017719  ...      -0.014966      -0.049185   \nstd         1.216025       1.210508  ...       0.738678       0.690646   \nmin       -43.557242     -73.216718  ...     -34.830382     -10.933144   \n25%        -0.576733      -0.180360  ...      -0.227188      -0.538206   \n50%        -0.010989       0.043647  ...      -0.043309      -0.035961   \n75%         0.499504       0.339098  ...       0.150027       0.421133   \nmax        36.677268      20.007208  ...      27.202839      10.503090   \n\n                 V23            V24            V25            V26  \\\ncount  198365.000000  198365.000000  198365.000000  198365.000000   \nmean       -0.015766       0.004333       0.061965       0.006424   \nstd         0.610795       0.603471       0.490441       0.488446   \nmin       -44.807735      -2.836627     -10.295397      -2.604551   \n25%        -0.168622      -0.341607      -0.238794      -0.331187   \n50%        -0.029126       0.052775       0.104492      -0.061019   \n75%         0.114667       0.421534       0.384995       0.261761   \nmax        19.002942       4.022866       7.519589       3.517346   \n\n                 V27            V28         Amount          Class  \ncount  198365.000000  198365.000000  198365.000000  198365.000000  \nmean        0.001587       0.001976      89.703525       0.001931  \nstd         0.394026       0.314154     248.680051       0.043898  \nmin       -22.565679     -11.710896       0.000000       0.000000  \n25%        -0.067367      -0.041312       5.990000       0.000000  \n50%         0.006036       0.018528      22.990000       0.000000  \n75%         0.089128       0.078235      79.200000       0.000000  \nmax        12.152401      33.847808   19656.530000       1.000000  \n\n[8 rows x 32 columns]",
      "text/html": "<div>\n<style scoped>\n    .dataframe tbody tr th:only-of-type {\n        vertical-align: middle;\n    }\n\n    .dataframe tbody tr th {\n        vertical-align: top;\n    }\n\n    .dataframe thead th {\n        text-align: right;\n    }\n</style>\n<table border=\"1\" class=\"dataframe\">\n  <thead>\n    <tr style=\"text-align: right;\">\n      <th></th>\n      <th>ID</th>\n      <th>Time</th>\n      <th>V1</th>\n      <th>V2</th>\n      <th>V3</th>\n      <th>V4</th>\n      <th>V5</th>\n      <th>V6</th>\n      <th>V7</th>\n      <th>V8</th>\n      <th>...</th>\n      <th>V21</th>\n      <th>V22</th>\n      <th>V23</th>\n      <th>V24</th>\n      <th>V25</th>\n      <th>V26</th>\n      <th>V27</th>\n      <th>V28</th>\n      <th>Amount</th>\n      <th>Class</th>\n    </tr>\n  </thead>\n  <tbody>\n    <tr>\n      <th>count</th>\n      <td>198365.000000</td>\n      <td>198365.000000</td>\n      <td>198365.000000</td>\n      <td>198365.000000</td>\n      <td>198365.000000</td>\n      <td>198365.000000</td>\n      <td>198365.000000</td>\n      <td>198365.000000</td>\n      <td>198365.000000</td>\n      <td>198365.000000</td>\n      <td>...</td>\n      <td>198365.000000</td>\n      <td>198365.000000</td>\n      <td>198365.000000</td>\n      <td>198365.000000</td>\n      <td>198365.000000</td>\n      <td>198365.000000</td>\n      <td>198365.000000</td>\n      <td>198365.000000</td>\n      <td>198365.000000</td>\n      <td>198365.000000</td>\n    </tr>\n    <tr>\n      <th>mean</th>\n      <td>99183.000000</td>\n      <td>70130.934414</td>\n      <td>-0.107339</td>\n      <td>0.004431</td>\n      <td>0.325762</td>\n      <td>0.077514</td>\n      <td>-0.113668</td>\n      <td>0.046607</td>\n      <td>-0.051740</td>\n      <td>0.017719</td>\n      <td>...</td>\n      <td>-0.014966</td>\n      <td>-0.049185</td>\n      <td>-0.015766</td>\n      <td>0.004333</td>\n      <td>0.061965</td>\n      <td>0.006424</td>\n      <td>0.001587</td>\n      <td>0.001976</td>\n      <td>89.703525</td>\n      <td>0.001931</td>\n    </tr>\n    <tr>\n      <th>std</th>\n      <td>57263.187411</td>\n      <td>34305.103318</td>\n      <td>1.891453</td>\n      <td>1.622666</td>\n      <td>1.446295</td>\n      <td>1.398805</td>\n      <td>1.360659</td>\n      <td>1.310315</td>\n      <td>1.216025</td>\n      <td>1.210508</td>\n      <td>...</td>\n      <td>0.738678</td>\n      <td>0.690646</td>\n      <td>0.610795</td>\n      <td>0.603471</td>\n      <td>0.490441</td>\n      <td>0.488446</td>\n      <td>0.394026</td>\n      <td>0.314154</td>\n      <td>248.680051</td>\n      <td>0.043898</td>\n    </tr>\n    <tr>\n      <th>min</th>\n      <td>1.000000</td>\n      <td>0.000000</td>\n      <td>-56.407510</td>\n      <td>-72.715728</td>\n      <td>-33.680984</td>\n      <td>-5.683171</td>\n      <td>-42.147898</td>\n      <td>-26.160506</td>\n      <td>-43.557242</td>\n      <td>-73.216718</td>\n      <td>...</td>\n      <td>-34.830382</td>\n      <td>-10.933144</td>\n      <td>-44.807735</td>\n      <td>-2.836627</td>\n      <td>-10.295397</td>\n      <td>-2.604551</td>\n      <td>-22.565679</td>\n      <td>-11.710896</td>\n      <td>0.000000</td>\n      <td>0.000000</td>\n    </tr>\n    <tr>\n      <th>25%</th>\n      <td>49592.000000</td>\n      <td>44128.000000</td>\n      <td>-0.962685</td>\n      <td>-0.580147</td>\n      <td>-0.327270</td>\n      <td>-0.790975</td>\n      <td>-0.785452</td>\n      <td>-0.709602</td>\n      <td>-0.576733</td>\n      <td>-0.180360</td>\n      <td>...</td>\n      <td>-0.227188</td>\n      <td>-0.538206</td>\n      <td>-0.168622</td>\n      <td>-0.341607</td>\n      <td>-0.238794</td>\n      <td>-0.331187</td>\n      <td>-0.067367</td>\n      <td>-0.041312</td>\n      <td>5.990000</td>\n      <td>0.000000</td>\n    </tr>\n    <tr>\n      <th>50%</th>\n      <td>99183.000000</td>\n      <td>67005.000000</td>\n      <td>-0.094105</td>\n      <td>0.082136</td>\n      <td>0.496715</td>\n      <td>0.078139</td>\n      <td>-0.171469</td>\n      <td>-0.218506</td>\n      <td>-0.010989</td>\n      <td>0.043647</td>\n      <td>...</td>\n      <td>-0.043309</td>\n      <td>-0.035961</td>\n      <td>-0.029126</td>\n      <td>0.052775</td>\n      <td>0.104492</td>\n      <td>-0.061019</td>\n      <td>0.006036</td>\n      <td>0.018528</td>\n      <td>22.990000</td>\n      <td>0.000000</td>\n    </tr>\n    <tr>\n      <th>75%</th>\n      <td>148774.000000</td>\n      <td>90198.000000</td>\n      <td>1.213058</td>\n      <td>0.783763</td>\n      <td>1.225320</td>\n      <td>0.889229</td>\n      <td>0.462401</td>\n      <td>0.444661</td>\n      <td>0.499504</td>\n      <td>0.339098</td>\n      <td>...</td>\n      <td>0.150027</td>\n      <td>0.421133</td>\n      <td>0.114667</td>\n      <td>0.421534</td>\n      <td>0.384995</td>\n      <td>0.261761</td>\n      <td>0.089128</td>\n      <td>0.078235</td>\n      <td>79.200000</td>\n      <td>0.000000</td>\n    </tr>\n    <tr>\n      <th>max</th>\n      <td>198365.000000</td>\n      <td>132458.000000</td>\n      <td>2.454930</td>\n      <td>22.057729</td>\n      <td>9.382558</td>\n      <td>16.875344</td>\n      <td>34.801666</td>\n      <td>22.529298</td>\n      <td>36.677268</td>\n      <td>20.007208</td>\n      <td>...</td>\n      <td>27.202839</td>\n      <td>10.503090</td>\n      <td>19.002942</td>\n      <td>4.022866</td>\n      <td>7.519589</td>\n      <td>3.517346</td>\n      <td>12.152401</td>\n      <td>33.847808</td>\n      <td>19656.530000</td>\n      <td>1.000000</td>\n    </tr>\n  </tbody>\n</table>\n<p>8 rows × 32 columns</p>\n</div>"
     },
     "execution_count": 8,
     "metadata": {},
     "output_type": "execute_result"
    }
   ],
   "source": [
    "train_data.describe()"
   ],
   "metadata": {
    "collapsed": false,
    "pycharm": {
     "name": "#%%\n"
    }
   }
  },
  {
   "cell_type": "code",
   "execution_count": 9,
   "outputs": [
    {
     "data": {
      "text/plain": "(198365, 32)"
     },
     "execution_count": 9,
     "metadata": {},
     "output_type": "execute_result"
    }
   ],
   "source": [
    "train_data.shape"
   ],
   "metadata": {
    "collapsed": false,
    "pycharm": {
     "name": "#%%\n"
    }
   }
  },
  {
   "cell_type": "code",
   "execution_count": 10,
   "outputs": [
    {
     "data": {
      "text/plain": "ID        0\nTime      0\nV1        0\nV2        0\nV3        0\nV4        0\nV5        0\nV6        0\nV7        0\nV8        0\nV9        0\nV10       0\nV11       0\nV12       0\nV13       0\nV14       0\nV15       0\nV16       0\nV17       0\nV18       0\nV19       0\nV20       0\nV21       0\nV22       0\nV23       0\nV24       0\nV25       0\nV26       0\nV27       0\nV28       0\nAmount    0\nClass     0\ndtype: int64"
     },
     "execution_count": 10,
     "metadata": {},
     "output_type": "execute_result"
    }
   ],
   "source": [
    "train_data.isnull().sum()"
   ],
   "metadata": {
    "collapsed": false,
    "pycharm": {
     "name": "#%%\n"
    }
   }
  },
  {
   "cell_type": "code",
   "execution_count": 49,
   "outputs": [
    {
     "ename": "IndexError",
     "evalue": "only integers, slices (`:`), ellipsis (`...`), numpy.newaxis (`None`) and integer or boolean arrays are valid indices",
     "output_type": "error",
     "traceback": [
      "\u001B[1;31m---------------------------------------------------------------------------\u001B[0m",
      "\u001B[1;31mIndexError\u001B[0m                                Traceback (most recent call last)",
      "\u001B[1;32m~\\AppData\\Local\\Temp/ipykernel_14104/493261005.py\u001B[0m in \u001B[0;36m<module>\u001B[1;34m\u001B[0m\n\u001B[1;32m----> 1\u001B[1;33m \u001B[0mtest_id\u001B[0m \u001B[1;33m=\u001B[0m \u001B[0mtest_data\u001B[0m\u001B[1;33m[\u001B[0m\u001B[1;34m\"ID\"\u001B[0m\u001B[1;33m]\u001B[0m\u001B[1;33m\u001B[0m\u001B[1;33m\u001B[0m\u001B[0m\n\u001B[0m\u001B[0;32m      2\u001B[0m \u001B[1;33m\u001B[0m\u001B[0m\n",
      "\u001B[1;31mIndexError\u001B[0m: only integers, slices (`:`), ellipsis (`...`), numpy.newaxis (`None`) and integer or boolean arrays are valid indices"
     ]
    }
   ],
   "source": [],
   "metadata": {
    "collapsed": false,
    "pycharm": {
     "name": "#%%\n"
    }
   }
  },
  {
   "cell_type": "code",
   "execution_count": 11,
   "outputs": [
    {
     "data": {
      "text/plain": "array([[<AxesSubplot:title={'center':'ID'}>,\n        <AxesSubplot:title={'center':'Time'}>,\n        <AxesSubplot:title={'center':'V1'}>,\n        <AxesSubplot:title={'center':'V2'}>,\n        <AxesSubplot:title={'center':'V3'}>,\n        <AxesSubplot:title={'center':'V4'}>],\n       [<AxesSubplot:title={'center':'V5'}>,\n        <AxesSubplot:title={'center':'V6'}>,\n        <AxesSubplot:title={'center':'V7'}>,\n        <AxesSubplot:title={'center':'V8'}>,\n        <AxesSubplot:title={'center':'V9'}>,\n        <AxesSubplot:title={'center':'V10'}>],\n       [<AxesSubplot:title={'center':'V11'}>,\n        <AxesSubplot:title={'center':'V12'}>,\n        <AxesSubplot:title={'center':'V13'}>,\n        <AxesSubplot:title={'center':'V14'}>,\n        <AxesSubplot:title={'center':'V15'}>,\n        <AxesSubplot:title={'center':'V16'}>],\n       [<AxesSubplot:title={'center':'V17'}>,\n        <AxesSubplot:title={'center':'V18'}>,\n        <AxesSubplot:title={'center':'V19'}>,\n        <AxesSubplot:title={'center':'V20'}>,\n        <AxesSubplot:title={'center':'V21'}>,\n        <AxesSubplot:title={'center':'V22'}>],\n       [<AxesSubplot:title={'center':'V23'}>,\n        <AxesSubplot:title={'center':'V24'}>,\n        <AxesSubplot:title={'center':'V25'}>,\n        <AxesSubplot:title={'center':'V26'}>,\n        <AxesSubplot:title={'center':'V27'}>,\n        <AxesSubplot:title={'center':'V28'}>],\n       [<AxesSubplot:title={'center':'Amount'}>,\n        <AxesSubplot:title={'center':'Class'}>, <AxesSubplot:>,\n        <AxesSubplot:>, <AxesSubplot:>, <AxesSubplot:>]], dtype=object)"
     },
     "execution_count": 11,
     "metadata": {},
     "output_type": "execute_result"
    },
    {
     "data": {
      "text/plain": "<Figure size 432x288 with 36 Axes>",
      "image/png": "[encoded data removed]"
     },
     "metadata": {
      "needs_background": "light"
     },
     "output_type": "display_data"
    }
   ],
   "source": [
    "import matplotlib.pyplot as plt\n",
    "train_data.hist(bins = 50)"
   ],
   "metadata": {
    "collapsed": false,
    "pycharm": {
     "name": "#%%\n"
    }
   }
  },
  {
   "cell_type": "code",
   "execution_count": 12,
   "outputs": [],
   "source": [
    "train_data.drop(\"ID\", axis = 1, inplace=True)"
   ],
   "metadata": {
    "collapsed": false,
    "pycharm": {
     "name": "#%%\n"
    }
   }
  },
  {
   "cell_type": "code",
   "execution_count": 13,
   "outputs": [
    {
     "data": {
      "text/plain": "Time     -0.011819\nV1       -0.130645\nV2        0.114304\nV3       -0.245296\nV4        0.147454\nV5       -0.129550\nV6       -0.048708\nV7       -0.238810\nV8        0.024672\nV9       -0.107591\nV10      -0.256572\nV11       0.171352\nV12      -0.277587\nV13      -0.002912\nV14      -0.326658\nV15      -0.008347\nV16      -0.235174\nV17      -0.385728\nV18      -0.141394\nV19       0.042972\nV20       0.021344\nV21       0.048237\nV22       0.001755\nV23      -0.001788\nV24      -0.005281\nV25       0.001264\nV26       0.003017\nV27       0.019514\nV28       0.007520\nAmount    0.005174\nClass     1.000000\nName: Class, dtype: float64"
     },
     "execution_count": 13,
     "metadata": {},
     "output_type": "execute_result"
    }
   ],
   "source": [
    "corr_matrix = train_data.corr()\n",
    "corr_matrix[\"Class\"]\n"
   ],
   "metadata": {
    "collapsed": false,
    "pycharm": {
     "name": "#%%\n"
    }
   }
  },
  {
   "cell_type": "code",
   "execution_count": 14,
   "outputs": [
    {
     "data": {
      "text/plain": "<matplotlib.collections.PathCollection at 0x29cab264a90>"
     },
     "execution_count": 14,
     "metadata": {},
     "output_type": "execute_result"
    },
    {
     "data": {
      "text/plain": "<Figure size 432x288 with 1 Axes>",
      "image/png": "[encoded data removed]"
     },
     "metadata": {
      "needs_background": "light"
     },
     "output_type": "display_data"
    }
   ],
   "source": [
    "plt.scatter(train_data[\"Time\"], train_data[\"Amount\"])"
   ],
   "metadata": {
    "collapsed": false,
    "pycharm": {
     "name": "#%%\n"
    }
   }
  },
  {
   "cell_type": "code",
   "execution_count": 15,
   "outputs": [
    {
     "data": {
      "text/plain": "['V1',\n 'V2',\n 'V3',\n 'V4',\n 'V5',\n 'V6',\n 'V7',\n 'V8',\n 'V9',\n 'V10',\n 'V11',\n 'V12',\n 'V13',\n 'V14',\n 'V15',\n 'V16',\n 'V17',\n 'V18',\n 'V19',\n 'V20',\n 'V21',\n 'V22',\n 'V23',\n 'V24',\n 'V25',\n 'V26',\n 'V27',\n 'V28']"
     },
     "execution_count": 15,
     "metadata": {},
     "output_type": "execute_result"
    }
   ],
   "source": [
    "train_data[\"Actual_Amount\"] = train_data[\"Time\"] * train_data[\"Amount\"]\n",
    "l1 = [x for x in train_data.columns if train_data[x].dtype==\"float64\" and \"V\" in x]\n",
    "l1"
   ],
   "metadata": {
    "collapsed": false,
    "pycharm": {
     "name": "#%%\n"
    }
   }
  },
  {
   "cell_type": "code",
   "execution_count": 16,
   "outputs": [
    {
     "data": {
      "text/plain": "0         3.081757\n1         4.439726\n2         1.091311\n3        -2.409596\n4         5.378728\n            ...   \n198360    1.245912\n198361   -5.887309\n198362   -0.178526\n198363   -3.293118\n198364    2.197946\nName: V, Length: 198365, dtype: float64"
     },
     "execution_count": 16,
     "metadata": {},
     "output_type": "execute_result"
    }
   ],
   "source": [
    "import numpy as np\n",
    "#l = np.zeros(train_data.shape[0], train_data[1])\n",
    "train_data[\"V\"] = 0\n",
    "for i in l1:\n",
    "    train_data[\"V\"] = train_data[\"V\"] + train_data[i]\n",
    "train_data[\"V\"]"
   ],
   "metadata": {
    "collapsed": false,
    "pycharm": {
     "name": "#%%\n"
    }
   }
  },
  {
   "cell_type": "code",
   "execution_count": 17,
   "outputs": [
    {
     "data": {
      "text/plain": "Time            -0.011819\nV1              -0.130645\nV2               0.114304\nV3              -0.245296\nV4               0.147454\nV5              -0.129550\nV6              -0.048708\nV7              -0.238810\nV8               0.024672\nV9              -0.107591\nV10             -0.256572\nV11              0.171352\nV12             -0.277587\nV13             -0.002912\nV14             -0.326658\nV15             -0.008347\nV16             -0.235174\nV17             -0.385728\nV18             -0.141394\nV19              0.042972\nV20              0.021344\nV21              0.048237\nV22              0.001755\nV23             -0.001788\nV24             -0.005281\nV25              0.001264\nV26              0.003017\nV27              0.019514\nV28              0.007520\nAmount           0.005174\nClass            1.000000\nActual_Amount    0.003437\nV               -0.374909\nName: Class, dtype: float64"
     },
     "execution_count": 17,
     "metadata": {},
     "output_type": "execute_result"
    }
   ],
   "source": [
    "corr_matrix = train_data.corr()\n",
    "corr_matrix[\"Class\"]"
   ],
   "metadata": {
    "collapsed": false,
    "pycharm": {
     "name": "#%%\n"
    }
   }
  },
  {
   "cell_type": "code",
   "execution_count": 18,
   "outputs": [
    {
     "data": {
      "text/plain": "Time            -0.011819\nV1              -0.130645\nV2               0.114304\nV3              -0.245296\nV4               0.147454\nV5              -0.129550\nV6              -0.048708\nV7              -0.238810\nV8               0.024672\nV9              -0.107591\nV10             -0.256572\nV11              0.171352\nV12             -0.277587\nV13             -0.002912\nV14             -0.326658\nV15             -0.008347\nV16             -0.235174\nV17             -0.385728\nV18             -0.141394\nV19              0.042972\nV20              0.021344\nV21              0.048237\nV22              0.001755\nV23             -0.001788\nV24             -0.005281\nV25              0.001264\nV26              0.003017\nV27              0.019514\nV28              0.007520\nAmount           0.005174\nClass            1.000000\nActual_Amount    0.003437\nV               -0.374909\nName: Class, dtype: float64"
     },
     "execution_count": 18,
     "metadata": {},
     "output_type": "execute_result"
    }
   ],
   "source": [
    "corr_matrix = train_data.corr()\n",
    "corr_matrix[\"Class\"]"
   ],
   "metadata": {
    "collapsed": false,
    "pycharm": {
     "name": "#%%\n"
    }
   }
  },
  {
   "cell_type": "code",
   "execution_count": 19,
   "outputs": [
    {
     "data": {
      "text/plain": "array([0, 1], dtype=int64)"
     },
     "execution_count": 19,
     "metadata": {},
     "output_type": "execute_result"
    }
   ],
   "source": [
    "train_data[\"Class\"].unique()\n"
   ],
   "metadata": {
    "collapsed": false,
    "pycharm": {
     "name": "#%%\n"
    }
   }
  },
  {
   "cell_type": "code",
   "execution_count": 20,
   "outputs": [
    {
     "data": {
      "text/plain": "['Time',\n 'V1',\n 'V2',\n 'V3',\n 'V4',\n 'V5',\n 'V6',\n 'V7',\n 'V8',\n 'V9',\n 'V10',\n 'V11',\n 'V12',\n 'V13',\n 'V14',\n 'V15',\n 'V16',\n 'V17',\n 'V18',\n 'V19',\n 'V20',\n 'V21',\n 'V22',\n 'V23',\n 'V24',\n 'V25',\n 'V26',\n 'V27',\n 'V28',\n 'Amount',\n 'Actual_Amount',\n 'V']"
     },
     "execution_count": 20,
     "metadata": {},
     "output_type": "execute_result"
    }
   ],
   "source": [
    "l1 = [x for x in train_data.columns if x != \"Class\"]\n",
    "l1"
   ],
   "metadata": {
    "collapsed": false,
    "pycharm": {
     "name": "#%%\n"
    }
   }
  },
  {
   "cell_type": "code",
   "execution_count": 21,
   "outputs": [],
   "source": [
    "X = train_data[l1]\n",
    "y = train_data[\"Class\"]"
   ],
   "metadata": {
    "collapsed": false,
    "pycharm": {
     "name": "#%%\n"
    }
   }
  },
  {
   "cell_type": "code",
   "execution_count": 22,
   "outputs": [],
   "source": [
    "from sklearn.preprocessing import StandardScaler\n",
    "sc = StandardScaler()\n",
    "X = sc.fit_transform(X)"
   ],
   "metadata": {
    "collapsed": false,
    "pycharm": {
     "name": "#%%\n"
    }
   }
  },
  {
   "cell_type": "code",
   "execution_count": 23,
   "outputs": [
    {
     "data": {
      "text/plain": "RandomForestClassifier()"
     },
     "execution_count": 23,
     "metadata": {},
     "output_type": "execute_result"
    }
   ],
   "source": [
    "from sklearn.ensemble import  RandomForestClassifier\n",
    "forest_reg = RandomForestClassifier()\n",
    "forest_reg.fit(X,y)"
   ],
   "metadata": {
    "collapsed": false,
    "pycharm": {
     "name": "#%%\n"
    }
   }
  },
  {
   "cell_type": "code",
   "execution_count": 24,
   "outputs": [
    {
     "ename": "KeyboardInterrupt",
     "evalue": "",
     "output_type": "error",
     "traceback": [
      "\u001B[1;31m---------------------------------------------------------------------------\u001B[0m",
      "\u001B[1;31mKeyboardInterrupt\u001B[0m                         Traceback (most recent call last)",
      "\u001B[1;32m~\\AppData\\Local\\Temp/ipykernel_14104/3738645669.py\u001B[0m in \u001B[0;36m<module>\u001B[1;34m\u001B[0m\n\u001B[0;32m      1\u001B[0m \u001B[1;32mfrom\u001B[0m \u001B[0msklearn\u001B[0m\u001B[1;33m.\u001B[0m\u001B[0mmodel_selection\u001B[0m \u001B[1;32mimport\u001B[0m \u001B[0mcross_val_score\u001B[0m\u001B[1;33m\u001B[0m\u001B[1;33m\u001B[0m\u001B[0m\n\u001B[1;32m----> 2\u001B[1;33m scores = cross_val_score(forest_reg, X, y,\n\u001B[0m\u001B[0;32m      3\u001B[0m                          scoring=\"accuracy\", cv=10)\n\u001B[0;32m      4\u001B[0m \u001B[1;33m\u001B[0m\u001B[0m\n",
      "\u001B[1;32md:\\my work\\kaggle\\credit card fraud detection\\venv\\lib\\site-packages\\sklearn\\utils\\validation.py\u001B[0m in \u001B[0;36minner_f\u001B[1;34m(*args, **kwargs)\u001B[0m\n\u001B[0;32m     61\u001B[0m             \u001B[0mextra_args\u001B[0m \u001B[1;33m=\u001B[0m \u001B[0mlen\u001B[0m\u001B[1;33m(\u001B[0m\u001B[0margs\u001B[0m\u001B[1;33m)\u001B[0m \u001B[1;33m-\u001B[0m \u001B[0mlen\u001B[0m\u001B[1;33m(\u001B[0m\u001B[0mall_args\u001B[0m\u001B[1;33m)\u001B[0m\u001B[1;33m\u001B[0m\u001B[1;33m\u001B[0m\u001B[0m\n\u001B[0;32m     62\u001B[0m             \u001B[1;32mif\u001B[0m \u001B[0mextra_args\u001B[0m \u001B[1;33m<=\u001B[0m \u001B[1;36m0\u001B[0m\u001B[1;33m:\u001B[0m\u001B[1;33m\u001B[0m\u001B[1;33m\u001B[0m\u001B[0m\n\u001B[1;32m---> 63\u001B[1;33m                 \u001B[1;32mreturn\u001B[0m \u001B[0mf\u001B[0m\u001B[1;33m(\u001B[0m\u001B[1;33m*\u001B[0m\u001B[0margs\u001B[0m\u001B[1;33m,\u001B[0m \u001B[1;33m**\u001B[0m\u001B[0mkwargs\u001B[0m\u001B[1;33m)\u001B[0m\u001B[1;33m\u001B[0m\u001B[1;33m\u001B[0m\u001B[0m\n\u001B[0m\u001B[0;32m     64\u001B[0m \u001B[1;33m\u001B[0m\u001B[0m\n\u001B[0;32m     65\u001B[0m             \u001B[1;31m# extra_args > 0\u001B[0m\u001B[1;33m\u001B[0m\u001B[1;33m\u001B[0m\u001B[1;33m\u001B[0m\u001B[0m\n",
      "\u001B[1;32md:\\my work\\kaggle\\credit card fraud detection\\venv\\lib\\site-packages\\sklearn\\model_selection\\_validation.py\u001B[0m in \u001B[0;36mcross_val_score\u001B[1;34m(estimator, X, y, groups, scoring, cv, n_jobs, verbose, fit_params, pre_dispatch, error_score)\u001B[0m\n\u001B[0;32m    443\u001B[0m     \u001B[0mscorer\u001B[0m \u001B[1;33m=\u001B[0m \u001B[0mcheck_scoring\u001B[0m\u001B[1;33m(\u001B[0m\u001B[0mestimator\u001B[0m\u001B[1;33m,\u001B[0m \u001B[0mscoring\u001B[0m\u001B[1;33m=\u001B[0m\u001B[0mscoring\u001B[0m\u001B[1;33m)\u001B[0m\u001B[1;33m\u001B[0m\u001B[1;33m\u001B[0m\u001B[0m\n\u001B[0;32m    444\u001B[0m \u001B[1;33m\u001B[0m\u001B[0m\n\u001B[1;32m--> 445\u001B[1;33m     cv_results = cross_validate(estimator=estimator, X=X, y=y, groups=groups,\n\u001B[0m\u001B[0;32m    446\u001B[0m                                 \u001B[0mscoring\u001B[0m\u001B[1;33m=\u001B[0m\u001B[1;33m{\u001B[0m\u001B[1;34m'score'\u001B[0m\u001B[1;33m:\u001B[0m \u001B[0mscorer\u001B[0m\u001B[1;33m}\u001B[0m\u001B[1;33m,\u001B[0m \u001B[0mcv\u001B[0m\u001B[1;33m=\u001B[0m\u001B[0mcv\u001B[0m\u001B[1;33m,\u001B[0m\u001B[1;33m\u001B[0m\u001B[1;33m\u001B[0m\u001B[0m\n\u001B[0;32m    447\u001B[0m                                 \u001B[0mn_jobs\u001B[0m\u001B[1;33m=\u001B[0m\u001B[0mn_jobs\u001B[0m\u001B[1;33m,\u001B[0m \u001B[0mverbose\u001B[0m\u001B[1;33m=\u001B[0m\u001B[0mverbose\u001B[0m\u001B[1;33m,\u001B[0m\u001B[1;33m\u001B[0m\u001B[1;33m\u001B[0m\u001B[0m\n",
      "\u001B[1;32md:\\my work\\kaggle\\credit card fraud detection\\venv\\lib\\site-packages\\sklearn\\utils\\validation.py\u001B[0m in \u001B[0;36minner_f\u001B[1;34m(*args, **kwargs)\u001B[0m\n\u001B[0;32m     61\u001B[0m             \u001B[0mextra_args\u001B[0m \u001B[1;33m=\u001B[0m \u001B[0mlen\u001B[0m\u001B[1;33m(\u001B[0m\u001B[0margs\u001B[0m\u001B[1;33m)\u001B[0m \u001B[1;33m-\u001B[0m \u001B[0mlen\u001B[0m\u001B[1;33m(\u001B[0m\u001B[0mall_args\u001B[0m\u001B[1;33m)\u001B[0m\u001B[1;33m\u001B[0m\u001B[1;33m\u001B[0m\u001B[0m\n\u001B[0;32m     62\u001B[0m             \u001B[1;32mif\u001B[0m \u001B[0mextra_args\u001B[0m \u001B[1;33m<=\u001B[0m \u001B[1;36m0\u001B[0m\u001B[1;33m:\u001B[0m\u001B[1;33m\u001B[0m\u001B[1;33m\u001B[0m\u001B[0m\n\u001B[1;32m---> 63\u001B[1;33m                 \u001B[1;32mreturn\u001B[0m \u001B[0mf\u001B[0m\u001B[1;33m(\u001B[0m\u001B[1;33m*\u001B[0m\u001B[0margs\u001B[0m\u001B[1;33m,\u001B[0m \u001B[1;33m**\u001B[0m\u001B[0mkwargs\u001B[0m\u001B[1;33m)\u001B[0m\u001B[1;33m\u001B[0m\u001B[1;33m\u001B[0m\u001B[0m\n\u001B[0m\u001B[0;32m     64\u001B[0m \u001B[1;33m\u001B[0m\u001B[0m\n\u001B[0;32m     65\u001B[0m             \u001B[1;31m# extra_args > 0\u001B[0m\u001B[1;33m\u001B[0m\u001B[1;33m\u001B[0m\u001B[1;33m\u001B[0m\u001B[0m\n",
      "\u001B[1;32md:\\my work\\kaggle\\credit card fraud detection\\venv\\lib\\site-packages\\sklearn\\model_selection\\_validation.py\u001B[0m in \u001B[0;36mcross_validate\u001B[1;34m(estimator, X, y, groups, scoring, cv, n_jobs, verbose, fit_params, pre_dispatch, return_train_score, return_estimator, error_score)\u001B[0m\n\u001B[0;32m    248\u001B[0m     parallel = Parallel(n_jobs=n_jobs, verbose=verbose,\n\u001B[0;32m    249\u001B[0m                         pre_dispatch=pre_dispatch)\n\u001B[1;32m--> 250\u001B[1;33m     results = parallel(\n\u001B[0m\u001B[0;32m    251\u001B[0m         delayed(_fit_and_score)(\n\u001B[0;32m    252\u001B[0m             \u001B[0mclone\u001B[0m\u001B[1;33m(\u001B[0m\u001B[0mestimator\u001B[0m\u001B[1;33m)\u001B[0m\u001B[1;33m,\u001B[0m \u001B[0mX\u001B[0m\u001B[1;33m,\u001B[0m \u001B[0my\u001B[0m\u001B[1;33m,\u001B[0m \u001B[0mscorers\u001B[0m\u001B[1;33m,\u001B[0m \u001B[0mtrain\u001B[0m\u001B[1;33m,\u001B[0m \u001B[0mtest\u001B[0m\u001B[1;33m,\u001B[0m \u001B[0mverbose\u001B[0m\u001B[1;33m,\u001B[0m \u001B[1;32mNone\u001B[0m\u001B[1;33m,\u001B[0m\u001B[1;33m\u001B[0m\u001B[1;33m\u001B[0m\u001B[0m\n",
      "\u001B[1;32md:\\my work\\kaggle\\credit card fraud detection\\venv\\lib\\site-packages\\joblib\\parallel.py\u001B[0m in \u001B[0;36m__call__\u001B[1;34m(self, iterable)\u001B[0m\n\u001B[0;32m   1039\u001B[0m             \u001B[1;31m# remaining jobs.\u001B[0m\u001B[1;33m\u001B[0m\u001B[1;33m\u001B[0m\u001B[1;33m\u001B[0m\u001B[0m\n\u001B[0;32m   1040\u001B[0m             \u001B[0mself\u001B[0m\u001B[1;33m.\u001B[0m\u001B[0m_iterating\u001B[0m \u001B[1;33m=\u001B[0m \u001B[1;32mFalse\u001B[0m\u001B[1;33m\u001B[0m\u001B[1;33m\u001B[0m\u001B[0m\n\u001B[1;32m-> 1041\u001B[1;33m             \u001B[1;32mif\u001B[0m \u001B[0mself\u001B[0m\u001B[1;33m.\u001B[0m\u001B[0mdispatch_one_batch\u001B[0m\u001B[1;33m(\u001B[0m\u001B[0miterator\u001B[0m\u001B[1;33m)\u001B[0m\u001B[1;33m:\u001B[0m\u001B[1;33m\u001B[0m\u001B[1;33m\u001B[0m\u001B[0m\n\u001B[0m\u001B[0;32m   1042\u001B[0m                 \u001B[0mself\u001B[0m\u001B[1;33m.\u001B[0m\u001B[0m_iterating\u001B[0m \u001B[1;33m=\u001B[0m \u001B[0mself\u001B[0m\u001B[1;33m.\u001B[0m\u001B[0m_original_iterator\u001B[0m \u001B[1;32mis\u001B[0m \u001B[1;32mnot\u001B[0m \u001B[1;32mNone\u001B[0m\u001B[1;33m\u001B[0m\u001B[1;33m\u001B[0m\u001B[0m\n\u001B[0;32m   1043\u001B[0m \u001B[1;33m\u001B[0m\u001B[0m\n",
      "\u001B[1;32md:\\my work\\kaggle\\credit card fraud detection\\venv\\lib\\site-packages\\joblib\\parallel.py\u001B[0m in \u001B[0;36mdispatch_one_batch\u001B[1;34m(self, iterator)\u001B[0m\n\u001B[0;32m    857\u001B[0m                 \u001B[1;32mreturn\u001B[0m \u001B[1;32mFalse\u001B[0m\u001B[1;33m\u001B[0m\u001B[1;33m\u001B[0m\u001B[0m\n\u001B[0;32m    858\u001B[0m             \u001B[1;32melse\u001B[0m\u001B[1;33m:\u001B[0m\u001B[1;33m\u001B[0m\u001B[1;33m\u001B[0m\u001B[0m\n\u001B[1;32m--> 859\u001B[1;33m                 \u001B[0mself\u001B[0m\u001B[1;33m.\u001B[0m\u001B[0m_dispatch\u001B[0m\u001B[1;33m(\u001B[0m\u001B[0mtasks\u001B[0m\u001B[1;33m)\u001B[0m\u001B[1;33m\u001B[0m\u001B[1;33m\u001B[0m\u001B[0m\n\u001B[0m\u001B[0;32m    860\u001B[0m                 \u001B[1;32mreturn\u001B[0m \u001B[1;32mTrue\u001B[0m\u001B[1;33m\u001B[0m\u001B[1;33m\u001B[0m\u001B[0m\n\u001B[0;32m    861\u001B[0m \u001B[1;33m\u001B[0m\u001B[0m\n",
      "\u001B[1;32md:\\my work\\kaggle\\credit card fraud detection\\venv\\lib\\site-packages\\joblib\\parallel.py\u001B[0m in \u001B[0;36m_dispatch\u001B[1;34m(self, batch)\u001B[0m\n\u001B[0;32m    775\u001B[0m         \u001B[1;32mwith\u001B[0m \u001B[0mself\u001B[0m\u001B[1;33m.\u001B[0m\u001B[0m_lock\u001B[0m\u001B[1;33m:\u001B[0m\u001B[1;33m\u001B[0m\u001B[1;33m\u001B[0m\u001B[0m\n\u001B[0;32m    776\u001B[0m             \u001B[0mjob_idx\u001B[0m \u001B[1;33m=\u001B[0m \u001B[0mlen\u001B[0m\u001B[1;33m(\u001B[0m\u001B[0mself\u001B[0m\u001B[1;33m.\u001B[0m\u001B[0m_jobs\u001B[0m\u001B[1;33m)\u001B[0m\u001B[1;33m\u001B[0m\u001B[1;33m\u001B[0m\u001B[0m\n\u001B[1;32m--> 777\u001B[1;33m             \u001B[0mjob\u001B[0m \u001B[1;33m=\u001B[0m \u001B[0mself\u001B[0m\u001B[1;33m.\u001B[0m\u001B[0m_backend\u001B[0m\u001B[1;33m.\u001B[0m\u001B[0mapply_async\u001B[0m\u001B[1;33m(\u001B[0m\u001B[0mbatch\u001B[0m\u001B[1;33m,\u001B[0m \u001B[0mcallback\u001B[0m\u001B[1;33m=\u001B[0m\u001B[0mcb\u001B[0m\u001B[1;33m)\u001B[0m\u001B[1;33m\u001B[0m\u001B[1;33m\u001B[0m\u001B[0m\n\u001B[0m\u001B[0;32m    778\u001B[0m             \u001B[1;31m# A job can complete so quickly than its callback is\u001B[0m\u001B[1;33m\u001B[0m\u001B[1;33m\u001B[0m\u001B[1;33m\u001B[0m\u001B[0m\n\u001B[0;32m    779\u001B[0m             \u001B[1;31m# called before we get here, causing self._jobs to\u001B[0m\u001B[1;33m\u001B[0m\u001B[1;33m\u001B[0m\u001B[1;33m\u001B[0m\u001B[0m\n",
      "\u001B[1;32md:\\my work\\kaggle\\credit card fraud detection\\venv\\lib\\site-packages\\joblib\\_parallel_backends.py\u001B[0m in \u001B[0;36mapply_async\u001B[1;34m(self, func, callback)\u001B[0m\n\u001B[0;32m    206\u001B[0m     \u001B[1;32mdef\u001B[0m \u001B[0mapply_async\u001B[0m\u001B[1;33m(\u001B[0m\u001B[0mself\u001B[0m\u001B[1;33m,\u001B[0m \u001B[0mfunc\u001B[0m\u001B[1;33m,\u001B[0m \u001B[0mcallback\u001B[0m\u001B[1;33m=\u001B[0m\u001B[1;32mNone\u001B[0m\u001B[1;33m)\u001B[0m\u001B[1;33m:\u001B[0m\u001B[1;33m\u001B[0m\u001B[1;33m\u001B[0m\u001B[0m\n\u001B[0;32m    207\u001B[0m         \u001B[1;34m\"\"\"Schedule a func to be run\"\"\"\u001B[0m\u001B[1;33m\u001B[0m\u001B[1;33m\u001B[0m\u001B[0m\n\u001B[1;32m--> 208\u001B[1;33m         \u001B[0mresult\u001B[0m \u001B[1;33m=\u001B[0m \u001B[0mImmediateResult\u001B[0m\u001B[1;33m(\u001B[0m\u001B[0mfunc\u001B[0m\u001B[1;33m)\u001B[0m\u001B[1;33m\u001B[0m\u001B[1;33m\u001B[0m\u001B[0m\n\u001B[0m\u001B[0;32m    209\u001B[0m         \u001B[1;32mif\u001B[0m \u001B[0mcallback\u001B[0m\u001B[1;33m:\u001B[0m\u001B[1;33m\u001B[0m\u001B[1;33m\u001B[0m\u001B[0m\n\u001B[0;32m    210\u001B[0m             \u001B[0mcallback\u001B[0m\u001B[1;33m(\u001B[0m\u001B[0mresult\u001B[0m\u001B[1;33m)\u001B[0m\u001B[1;33m\u001B[0m\u001B[1;33m\u001B[0m\u001B[0m\n",
      "\u001B[1;32md:\\my work\\kaggle\\credit card fraud detection\\venv\\lib\\site-packages\\joblib\\_parallel_backends.py\u001B[0m in \u001B[0;36m__init__\u001B[1;34m(self, batch)\u001B[0m\n\u001B[0;32m    570\u001B[0m         \u001B[1;31m# Don't delay the application, to avoid keeping the input\u001B[0m\u001B[1;33m\u001B[0m\u001B[1;33m\u001B[0m\u001B[1;33m\u001B[0m\u001B[0m\n\u001B[0;32m    571\u001B[0m         \u001B[1;31m# arguments in memory\u001B[0m\u001B[1;33m\u001B[0m\u001B[1;33m\u001B[0m\u001B[1;33m\u001B[0m\u001B[0m\n\u001B[1;32m--> 572\u001B[1;33m         \u001B[0mself\u001B[0m\u001B[1;33m.\u001B[0m\u001B[0mresults\u001B[0m \u001B[1;33m=\u001B[0m \u001B[0mbatch\u001B[0m\u001B[1;33m(\u001B[0m\u001B[1;33m)\u001B[0m\u001B[1;33m\u001B[0m\u001B[1;33m\u001B[0m\u001B[0m\n\u001B[0m\u001B[0;32m    573\u001B[0m \u001B[1;33m\u001B[0m\u001B[0m\n\u001B[0;32m    574\u001B[0m     \u001B[1;32mdef\u001B[0m \u001B[0mget\u001B[0m\u001B[1;33m(\u001B[0m\u001B[0mself\u001B[0m\u001B[1;33m)\u001B[0m\u001B[1;33m:\u001B[0m\u001B[1;33m\u001B[0m\u001B[1;33m\u001B[0m\u001B[0m\n",
      "\u001B[1;32md:\\my work\\kaggle\\credit card fraud detection\\venv\\lib\\site-packages\\joblib\\parallel.py\u001B[0m in \u001B[0;36m__call__\u001B[1;34m(self)\u001B[0m\n\u001B[0;32m    260\u001B[0m         \u001B[1;31m# change the default number of processes to -1\u001B[0m\u001B[1;33m\u001B[0m\u001B[1;33m\u001B[0m\u001B[1;33m\u001B[0m\u001B[0m\n\u001B[0;32m    261\u001B[0m         \u001B[1;32mwith\u001B[0m \u001B[0mparallel_backend\u001B[0m\u001B[1;33m(\u001B[0m\u001B[0mself\u001B[0m\u001B[1;33m.\u001B[0m\u001B[0m_backend\u001B[0m\u001B[1;33m,\u001B[0m \u001B[0mn_jobs\u001B[0m\u001B[1;33m=\u001B[0m\u001B[0mself\u001B[0m\u001B[1;33m.\u001B[0m\u001B[0m_n_jobs\u001B[0m\u001B[1;33m)\u001B[0m\u001B[1;33m:\u001B[0m\u001B[1;33m\u001B[0m\u001B[1;33m\u001B[0m\u001B[0m\n\u001B[1;32m--> 262\u001B[1;33m             return [func(*args, **kwargs)\n\u001B[0m\u001B[0;32m    263\u001B[0m                     for func, args, kwargs in self.items]\n\u001B[0;32m    264\u001B[0m \u001B[1;33m\u001B[0m\u001B[0m\n",
      "\u001B[1;32md:\\my work\\kaggle\\credit card fraud detection\\venv\\lib\\site-packages\\joblib\\parallel.py\u001B[0m in \u001B[0;36m<listcomp>\u001B[1;34m(.0)\u001B[0m\n\u001B[0;32m    260\u001B[0m         \u001B[1;31m# change the default number of processes to -1\u001B[0m\u001B[1;33m\u001B[0m\u001B[1;33m\u001B[0m\u001B[1;33m\u001B[0m\u001B[0m\n\u001B[0;32m    261\u001B[0m         \u001B[1;32mwith\u001B[0m \u001B[0mparallel_backend\u001B[0m\u001B[1;33m(\u001B[0m\u001B[0mself\u001B[0m\u001B[1;33m.\u001B[0m\u001B[0m_backend\u001B[0m\u001B[1;33m,\u001B[0m \u001B[0mn_jobs\u001B[0m\u001B[1;33m=\u001B[0m\u001B[0mself\u001B[0m\u001B[1;33m.\u001B[0m\u001B[0m_n_jobs\u001B[0m\u001B[1;33m)\u001B[0m\u001B[1;33m:\u001B[0m\u001B[1;33m\u001B[0m\u001B[1;33m\u001B[0m\u001B[0m\n\u001B[1;32m--> 262\u001B[1;33m             return [func(*args, **kwargs)\n\u001B[0m\u001B[0;32m    263\u001B[0m                     for func, args, kwargs in self.items]\n\u001B[0;32m    264\u001B[0m \u001B[1;33m\u001B[0m\u001B[0m\n",
      "\u001B[1;32md:\\my work\\kaggle\\credit card fraud detection\\venv\\lib\\site-packages\\sklearn\\utils\\fixes.py\u001B[0m in \u001B[0;36m__call__\u001B[1;34m(self, *args, **kwargs)\u001B[0m\n\u001B[0;32m    220\u001B[0m     \u001B[1;32mdef\u001B[0m \u001B[0m__call__\u001B[0m\u001B[1;33m(\u001B[0m\u001B[0mself\u001B[0m\u001B[1;33m,\u001B[0m \u001B[1;33m*\u001B[0m\u001B[0margs\u001B[0m\u001B[1;33m,\u001B[0m \u001B[1;33m**\u001B[0m\u001B[0mkwargs\u001B[0m\u001B[1;33m)\u001B[0m\u001B[1;33m:\u001B[0m\u001B[1;33m\u001B[0m\u001B[1;33m\u001B[0m\u001B[0m\n\u001B[0;32m    221\u001B[0m         \u001B[1;32mwith\u001B[0m \u001B[0mconfig_context\u001B[0m\u001B[1;33m(\u001B[0m\u001B[1;33m**\u001B[0m\u001B[0mself\u001B[0m\u001B[1;33m.\u001B[0m\u001B[0mconfig\u001B[0m\u001B[1;33m)\u001B[0m\u001B[1;33m:\u001B[0m\u001B[1;33m\u001B[0m\u001B[1;33m\u001B[0m\u001B[0m\n\u001B[1;32m--> 222\u001B[1;33m             \u001B[1;32mreturn\u001B[0m \u001B[0mself\u001B[0m\u001B[1;33m.\u001B[0m\u001B[0mfunction\u001B[0m\u001B[1;33m(\u001B[0m\u001B[1;33m*\u001B[0m\u001B[0margs\u001B[0m\u001B[1;33m,\u001B[0m \u001B[1;33m**\u001B[0m\u001B[0mkwargs\u001B[0m\u001B[1;33m)\u001B[0m\u001B[1;33m\u001B[0m\u001B[1;33m\u001B[0m\u001B[0m\n\u001B[0m",
      "\u001B[1;32md:\\my work\\kaggle\\credit card fraud detection\\venv\\lib\\site-packages\\sklearn\\model_selection\\_validation.py\u001B[0m in \u001B[0;36m_fit_and_score\u001B[1;34m(estimator, X, y, scorer, train, test, verbose, parameters, fit_params, return_train_score, return_parameters, return_n_test_samples, return_times, return_estimator, split_progress, candidate_progress, error_score)\u001B[0m\n\u001B[0;32m    596\u001B[0m             \u001B[0mestimator\u001B[0m\u001B[1;33m.\u001B[0m\u001B[0mfit\u001B[0m\u001B[1;33m(\u001B[0m\u001B[0mX_train\u001B[0m\u001B[1;33m,\u001B[0m \u001B[1;33m**\u001B[0m\u001B[0mfit_params\u001B[0m\u001B[1;33m)\u001B[0m\u001B[1;33m\u001B[0m\u001B[1;33m\u001B[0m\u001B[0m\n\u001B[0;32m    597\u001B[0m         \u001B[1;32melse\u001B[0m\u001B[1;33m:\u001B[0m\u001B[1;33m\u001B[0m\u001B[1;33m\u001B[0m\u001B[0m\n\u001B[1;32m--> 598\u001B[1;33m             \u001B[0mestimator\u001B[0m\u001B[1;33m.\u001B[0m\u001B[0mfit\u001B[0m\u001B[1;33m(\u001B[0m\u001B[0mX_train\u001B[0m\u001B[1;33m,\u001B[0m \u001B[0my_train\u001B[0m\u001B[1;33m,\u001B[0m \u001B[1;33m**\u001B[0m\u001B[0mfit_params\u001B[0m\u001B[1;33m)\u001B[0m\u001B[1;33m\u001B[0m\u001B[1;33m\u001B[0m\u001B[0m\n\u001B[0m\u001B[0;32m    599\u001B[0m \u001B[1;33m\u001B[0m\u001B[0m\n\u001B[0;32m    600\u001B[0m     \u001B[1;32mexcept\u001B[0m \u001B[0mException\u001B[0m \u001B[1;32mas\u001B[0m \u001B[0me\u001B[0m\u001B[1;33m:\u001B[0m\u001B[1;33m\u001B[0m\u001B[1;33m\u001B[0m\u001B[0m\n",
      "\u001B[1;32md:\\my work\\kaggle\\credit card fraud detection\\venv\\lib\\site-packages\\sklearn\\ensemble\\_forest.py\u001B[0m in \u001B[0;36mfit\u001B[1;34m(self, X, y, sample_weight)\u001B[0m\n\u001B[0;32m    385\u001B[0m             \u001B[1;31m# parallel_backend contexts set at a higher level,\u001B[0m\u001B[1;33m\u001B[0m\u001B[1;33m\u001B[0m\u001B[1;33m\u001B[0m\u001B[0m\n\u001B[0;32m    386\u001B[0m             \u001B[1;31m# since correctness does not rely on using threads.\u001B[0m\u001B[1;33m\u001B[0m\u001B[1;33m\u001B[0m\u001B[1;33m\u001B[0m\u001B[0m\n\u001B[1;32m--> 387\u001B[1;33m             trees = Parallel(n_jobs=self.n_jobs, verbose=self.verbose,\n\u001B[0m\u001B[0;32m    388\u001B[0m                              \u001B[1;33m**\u001B[0m\u001B[0m_joblib_parallel_args\u001B[0m\u001B[1;33m(\u001B[0m\u001B[0mprefer\u001B[0m\u001B[1;33m=\u001B[0m\u001B[1;34m'threads'\u001B[0m\u001B[1;33m)\u001B[0m\u001B[1;33m)\u001B[0m\u001B[1;33m(\u001B[0m\u001B[1;33m\u001B[0m\u001B[1;33m\u001B[0m\u001B[0m\n\u001B[0;32m    389\u001B[0m                 delayed(_parallel_build_trees)(\n",
      "\u001B[1;32md:\\my work\\kaggle\\credit card fraud detection\\venv\\lib\\site-packages\\joblib\\parallel.py\u001B[0m in \u001B[0;36m__call__\u001B[1;34m(self, iterable)\u001B[0m\n\u001B[0;32m   1042\u001B[0m                 \u001B[0mself\u001B[0m\u001B[1;33m.\u001B[0m\u001B[0m_iterating\u001B[0m \u001B[1;33m=\u001B[0m \u001B[0mself\u001B[0m\u001B[1;33m.\u001B[0m\u001B[0m_original_iterator\u001B[0m \u001B[1;32mis\u001B[0m \u001B[1;32mnot\u001B[0m \u001B[1;32mNone\u001B[0m\u001B[1;33m\u001B[0m\u001B[1;33m\u001B[0m\u001B[0m\n\u001B[0;32m   1043\u001B[0m \u001B[1;33m\u001B[0m\u001B[0m\n\u001B[1;32m-> 1044\u001B[1;33m             \u001B[1;32mwhile\u001B[0m \u001B[0mself\u001B[0m\u001B[1;33m.\u001B[0m\u001B[0mdispatch_one_batch\u001B[0m\u001B[1;33m(\u001B[0m\u001B[0miterator\u001B[0m\u001B[1;33m)\u001B[0m\u001B[1;33m:\u001B[0m\u001B[1;33m\u001B[0m\u001B[1;33m\u001B[0m\u001B[0m\n\u001B[0m\u001B[0;32m   1045\u001B[0m                 \u001B[1;32mpass\u001B[0m\u001B[1;33m\u001B[0m\u001B[1;33m\u001B[0m\u001B[0m\n\u001B[0;32m   1046\u001B[0m \u001B[1;33m\u001B[0m\u001B[0m\n",
      "\u001B[1;32md:\\my work\\kaggle\\credit card fraud detection\\venv\\lib\\site-packages\\joblib\\parallel.py\u001B[0m in \u001B[0;36mdispatch_one_batch\u001B[1;34m(self, iterator)\u001B[0m\n\u001B[0;32m    857\u001B[0m                 \u001B[1;32mreturn\u001B[0m \u001B[1;32mFalse\u001B[0m\u001B[1;33m\u001B[0m\u001B[1;33m\u001B[0m\u001B[0m\n\u001B[0;32m    858\u001B[0m             \u001B[1;32melse\u001B[0m\u001B[1;33m:\u001B[0m\u001B[1;33m\u001B[0m\u001B[1;33m\u001B[0m\u001B[0m\n\u001B[1;32m--> 859\u001B[1;33m                 \u001B[0mself\u001B[0m\u001B[1;33m.\u001B[0m\u001B[0m_dispatch\u001B[0m\u001B[1;33m(\u001B[0m\u001B[0mtasks\u001B[0m\u001B[1;33m)\u001B[0m\u001B[1;33m\u001B[0m\u001B[1;33m\u001B[0m\u001B[0m\n\u001B[0m\u001B[0;32m    860\u001B[0m                 \u001B[1;32mreturn\u001B[0m \u001B[1;32mTrue\u001B[0m\u001B[1;33m\u001B[0m\u001B[1;33m\u001B[0m\u001B[0m\n\u001B[0;32m    861\u001B[0m \u001B[1;33m\u001B[0m\u001B[0m\n",
      "\u001B[1;32md:\\my work\\kaggle\\credit card fraud detection\\venv\\lib\\site-packages\\joblib\\parallel.py\u001B[0m in \u001B[0;36m_dispatch\u001B[1;34m(self, batch)\u001B[0m\n\u001B[0;32m    775\u001B[0m         \u001B[1;32mwith\u001B[0m \u001B[0mself\u001B[0m\u001B[1;33m.\u001B[0m\u001B[0m_lock\u001B[0m\u001B[1;33m:\u001B[0m\u001B[1;33m\u001B[0m\u001B[1;33m\u001B[0m\u001B[0m\n\u001B[0;32m    776\u001B[0m             \u001B[0mjob_idx\u001B[0m \u001B[1;33m=\u001B[0m \u001B[0mlen\u001B[0m\u001B[1;33m(\u001B[0m\u001B[0mself\u001B[0m\u001B[1;33m.\u001B[0m\u001B[0m_jobs\u001B[0m\u001B[1;33m)\u001B[0m\u001B[1;33m\u001B[0m\u001B[1;33m\u001B[0m\u001B[0m\n\u001B[1;32m--> 777\u001B[1;33m             \u001B[0mjob\u001B[0m \u001B[1;33m=\u001B[0m \u001B[0mself\u001B[0m\u001B[1;33m.\u001B[0m\u001B[0m_backend\u001B[0m\u001B[1;33m.\u001B[0m\u001B[0mapply_async\u001B[0m\u001B[1;33m(\u001B[0m\u001B[0mbatch\u001B[0m\u001B[1;33m,\u001B[0m \u001B[0mcallback\u001B[0m\u001B[1;33m=\u001B[0m\u001B[0mcb\u001B[0m\u001B[1;33m)\u001B[0m\u001B[1;33m\u001B[0m\u001B[1;33m\u001B[0m\u001B[0m\n\u001B[0m\u001B[0;32m    778\u001B[0m             \u001B[1;31m# A job can complete so quickly than its callback is\u001B[0m\u001B[1;33m\u001B[0m\u001B[1;33m\u001B[0m\u001B[1;33m\u001B[0m\u001B[0m\n\u001B[0;32m    779\u001B[0m             \u001B[1;31m# called before we get here, causing self._jobs to\u001B[0m\u001B[1;33m\u001B[0m\u001B[1;33m\u001B[0m\u001B[1;33m\u001B[0m\u001B[0m\n",
      "\u001B[1;32md:\\my work\\kaggle\\credit card fraud detection\\venv\\lib\\site-packages\\joblib\\_parallel_backends.py\u001B[0m in \u001B[0;36mapply_async\u001B[1;34m(self, func, callback)\u001B[0m\n\u001B[0;32m    206\u001B[0m     \u001B[1;32mdef\u001B[0m \u001B[0mapply_async\u001B[0m\u001B[1;33m(\u001B[0m\u001B[0mself\u001B[0m\u001B[1;33m,\u001B[0m \u001B[0mfunc\u001B[0m\u001B[1;33m,\u001B[0m \u001B[0mcallback\u001B[0m\u001B[1;33m=\u001B[0m\u001B[1;32mNone\u001B[0m\u001B[1;33m)\u001B[0m\u001B[1;33m:\u001B[0m\u001B[1;33m\u001B[0m\u001B[1;33m\u001B[0m\u001B[0m\n\u001B[0;32m    207\u001B[0m         \u001B[1;34m\"\"\"Schedule a func to be run\"\"\"\u001B[0m\u001B[1;33m\u001B[0m\u001B[1;33m\u001B[0m\u001B[0m\n\u001B[1;32m--> 208\u001B[1;33m         \u001B[0mresult\u001B[0m \u001B[1;33m=\u001B[0m \u001B[0mImmediateResult\u001B[0m\u001B[1;33m(\u001B[0m\u001B[0mfunc\u001B[0m\u001B[1;33m)\u001B[0m\u001B[1;33m\u001B[0m\u001B[1;33m\u001B[0m\u001B[0m\n\u001B[0m\u001B[0;32m    209\u001B[0m         \u001B[1;32mif\u001B[0m \u001B[0mcallback\u001B[0m\u001B[1;33m:\u001B[0m\u001B[1;33m\u001B[0m\u001B[1;33m\u001B[0m\u001B[0m\n\u001B[0;32m    210\u001B[0m             \u001B[0mcallback\u001B[0m\u001B[1;33m(\u001B[0m\u001B[0mresult\u001B[0m\u001B[1;33m)\u001B[0m\u001B[1;33m\u001B[0m\u001B[1;33m\u001B[0m\u001B[0m\n",
      "\u001B[1;32md:\\my work\\kaggle\\credit card fraud detection\\venv\\lib\\site-packages\\joblib\\_parallel_backends.py\u001B[0m in \u001B[0;36m__init__\u001B[1;34m(self, batch)\u001B[0m\n\u001B[0;32m    570\u001B[0m         \u001B[1;31m# Don't delay the application, to avoid keeping the input\u001B[0m\u001B[1;33m\u001B[0m\u001B[1;33m\u001B[0m\u001B[1;33m\u001B[0m\u001B[0m\n\u001B[0;32m    571\u001B[0m         \u001B[1;31m# arguments in memory\u001B[0m\u001B[1;33m\u001B[0m\u001B[1;33m\u001B[0m\u001B[1;33m\u001B[0m\u001B[0m\n\u001B[1;32m--> 572\u001B[1;33m         \u001B[0mself\u001B[0m\u001B[1;33m.\u001B[0m\u001B[0mresults\u001B[0m \u001B[1;33m=\u001B[0m \u001B[0mbatch\u001B[0m\u001B[1;33m(\u001B[0m\u001B[1;33m)\u001B[0m\u001B[1;33m\u001B[0m\u001B[1;33m\u001B[0m\u001B[0m\n\u001B[0m\u001B[0;32m    573\u001B[0m \u001B[1;33m\u001B[0m\u001B[0m\n\u001B[0;32m    574\u001B[0m     \u001B[1;32mdef\u001B[0m \u001B[0mget\u001B[0m\u001B[1;33m(\u001B[0m\u001B[0mself\u001B[0m\u001B[1;33m)\u001B[0m\u001B[1;33m:\u001B[0m\u001B[1;33m\u001B[0m\u001B[1;33m\u001B[0m\u001B[0m\n",
      "\u001B[1;32md:\\my work\\kaggle\\credit card fraud detection\\venv\\lib\\site-packages\\joblib\\parallel.py\u001B[0m in \u001B[0;36m__call__\u001B[1;34m(self)\u001B[0m\n\u001B[0;32m    260\u001B[0m         \u001B[1;31m# change the default number of processes to -1\u001B[0m\u001B[1;33m\u001B[0m\u001B[1;33m\u001B[0m\u001B[1;33m\u001B[0m\u001B[0m\n\u001B[0;32m    261\u001B[0m         \u001B[1;32mwith\u001B[0m \u001B[0mparallel_backend\u001B[0m\u001B[1;33m(\u001B[0m\u001B[0mself\u001B[0m\u001B[1;33m.\u001B[0m\u001B[0m_backend\u001B[0m\u001B[1;33m,\u001B[0m \u001B[0mn_jobs\u001B[0m\u001B[1;33m=\u001B[0m\u001B[0mself\u001B[0m\u001B[1;33m.\u001B[0m\u001B[0m_n_jobs\u001B[0m\u001B[1;33m)\u001B[0m\u001B[1;33m:\u001B[0m\u001B[1;33m\u001B[0m\u001B[1;33m\u001B[0m\u001B[0m\n\u001B[1;32m--> 262\u001B[1;33m             return [func(*args, **kwargs)\n\u001B[0m\u001B[0;32m    263\u001B[0m                     for func, args, kwargs in self.items]\n\u001B[0;32m    264\u001B[0m \u001B[1;33m\u001B[0m\u001B[0m\n",
      "\u001B[1;32md:\\my work\\kaggle\\credit card fraud detection\\venv\\lib\\site-packages\\joblib\\parallel.py\u001B[0m in \u001B[0;36m<listcomp>\u001B[1;34m(.0)\u001B[0m\n\u001B[0;32m    260\u001B[0m         \u001B[1;31m# change the default number of processes to -1\u001B[0m\u001B[1;33m\u001B[0m\u001B[1;33m\u001B[0m\u001B[1;33m\u001B[0m\u001B[0m\n\u001B[0;32m    261\u001B[0m         \u001B[1;32mwith\u001B[0m \u001B[0mparallel_backend\u001B[0m\u001B[1;33m(\u001B[0m\u001B[0mself\u001B[0m\u001B[1;33m.\u001B[0m\u001B[0m_backend\u001B[0m\u001B[1;33m,\u001B[0m \u001B[0mn_jobs\u001B[0m\u001B[1;33m=\u001B[0m\u001B[0mself\u001B[0m\u001B[1;33m.\u001B[0m\u001B[0m_n_jobs\u001B[0m\u001B[1;33m)\u001B[0m\u001B[1;33m:\u001B[0m\u001B[1;33m\u001B[0m\u001B[1;33m\u001B[0m\u001B[0m\n\u001B[1;32m--> 262\u001B[1;33m             return [func(*args, **kwargs)\n\u001B[0m\u001B[0;32m    263\u001B[0m                     for func, args, kwargs in self.items]\n\u001B[0;32m    264\u001B[0m \u001B[1;33m\u001B[0m\u001B[0m\n",
      "\u001B[1;32md:\\my work\\kaggle\\credit card fraud detection\\venv\\lib\\site-packages\\sklearn\\utils\\fixes.py\u001B[0m in \u001B[0;36m__call__\u001B[1;34m(self, *args, **kwargs)\u001B[0m\n\u001B[0;32m    220\u001B[0m     \u001B[1;32mdef\u001B[0m \u001B[0m__call__\u001B[0m\u001B[1;33m(\u001B[0m\u001B[0mself\u001B[0m\u001B[1;33m,\u001B[0m \u001B[1;33m*\u001B[0m\u001B[0margs\u001B[0m\u001B[1;33m,\u001B[0m \u001B[1;33m**\u001B[0m\u001B[0mkwargs\u001B[0m\u001B[1;33m)\u001B[0m\u001B[1;33m:\u001B[0m\u001B[1;33m\u001B[0m\u001B[1;33m\u001B[0m\u001B[0m\n\u001B[0;32m    221\u001B[0m         \u001B[1;32mwith\u001B[0m \u001B[0mconfig_context\u001B[0m\u001B[1;33m(\u001B[0m\u001B[1;33m**\u001B[0m\u001B[0mself\u001B[0m\u001B[1;33m.\u001B[0m\u001B[0mconfig\u001B[0m\u001B[1;33m)\u001B[0m\u001B[1;33m:\u001B[0m\u001B[1;33m\u001B[0m\u001B[1;33m\u001B[0m\u001B[0m\n\u001B[1;32m--> 222\u001B[1;33m             \u001B[1;32mreturn\u001B[0m \u001B[0mself\u001B[0m\u001B[1;33m.\u001B[0m\u001B[0mfunction\u001B[0m\u001B[1;33m(\u001B[0m\u001B[1;33m*\u001B[0m\u001B[0margs\u001B[0m\u001B[1;33m,\u001B[0m \u001B[1;33m**\u001B[0m\u001B[0mkwargs\u001B[0m\u001B[1;33m)\u001B[0m\u001B[1;33m\u001B[0m\u001B[1;33m\u001B[0m\u001B[0m\n\u001B[0m",
      "\u001B[1;32md:\\my work\\kaggle\\credit card fraud detection\\venv\\lib\\site-packages\\sklearn\\ensemble\\_forest.py\u001B[0m in \u001B[0;36m_parallel_build_trees\u001B[1;34m(tree, forest, X, y, sample_weight, tree_idx, n_trees, verbose, class_weight, n_samples_bootstrap)\u001B[0m\n\u001B[0;32m    167\u001B[0m                                                         indices=indices)\n\u001B[0;32m    168\u001B[0m \u001B[1;33m\u001B[0m\u001B[0m\n\u001B[1;32m--> 169\u001B[1;33m         \u001B[0mtree\u001B[0m\u001B[1;33m.\u001B[0m\u001B[0mfit\u001B[0m\u001B[1;33m(\u001B[0m\u001B[0mX\u001B[0m\u001B[1;33m,\u001B[0m \u001B[0my\u001B[0m\u001B[1;33m,\u001B[0m \u001B[0msample_weight\u001B[0m\u001B[1;33m=\u001B[0m\u001B[0mcurr_sample_weight\u001B[0m\u001B[1;33m,\u001B[0m \u001B[0mcheck_input\u001B[0m\u001B[1;33m=\u001B[0m\u001B[1;32mFalse\u001B[0m\u001B[1;33m)\u001B[0m\u001B[1;33m\u001B[0m\u001B[1;33m\u001B[0m\u001B[0m\n\u001B[0m\u001B[0;32m    170\u001B[0m     \u001B[1;32melse\u001B[0m\u001B[1;33m:\u001B[0m\u001B[1;33m\u001B[0m\u001B[1;33m\u001B[0m\u001B[0m\n\u001B[0;32m    171\u001B[0m         \u001B[0mtree\u001B[0m\u001B[1;33m.\u001B[0m\u001B[0mfit\u001B[0m\u001B[1;33m(\u001B[0m\u001B[0mX\u001B[0m\u001B[1;33m,\u001B[0m \u001B[0my\u001B[0m\u001B[1;33m,\u001B[0m \u001B[0msample_weight\u001B[0m\u001B[1;33m=\u001B[0m\u001B[0msample_weight\u001B[0m\u001B[1;33m,\u001B[0m \u001B[0mcheck_input\u001B[0m\u001B[1;33m=\u001B[0m\u001B[1;32mFalse\u001B[0m\u001B[1;33m)\u001B[0m\u001B[1;33m\u001B[0m\u001B[1;33m\u001B[0m\u001B[0m\n",
      "\u001B[1;32md:\\my work\\kaggle\\credit card fraud detection\\venv\\lib\\site-packages\\sklearn\\tree\\_classes.py\u001B[0m in \u001B[0;36mfit\u001B[1;34m(self, X, y, sample_weight, check_input, X_idx_sorted)\u001B[0m\n\u001B[0;32m    901\u001B[0m         \"\"\"\n\u001B[0;32m    902\u001B[0m \u001B[1;33m\u001B[0m\u001B[0m\n\u001B[1;32m--> 903\u001B[1;33m         super().fit(\n\u001B[0m\u001B[0;32m    904\u001B[0m             \u001B[0mX\u001B[0m\u001B[1;33m,\u001B[0m \u001B[0my\u001B[0m\u001B[1;33m,\u001B[0m\u001B[1;33m\u001B[0m\u001B[1;33m\u001B[0m\u001B[0m\n\u001B[0;32m    905\u001B[0m             \u001B[0msample_weight\u001B[0m\u001B[1;33m=\u001B[0m\u001B[0msample_weight\u001B[0m\u001B[1;33m,\u001B[0m\u001B[1;33m\u001B[0m\u001B[1;33m\u001B[0m\u001B[0m\n",
      "\u001B[1;32md:\\my work\\kaggle\\credit card fraud detection\\venv\\lib\\site-packages\\sklearn\\tree\\_classes.py\u001B[0m in \u001B[0;36mfit\u001B[1;34m(self, X, y, sample_weight, check_input, X_idx_sorted)\u001B[0m\n\u001B[0;32m    392\u001B[0m                                            min_impurity_split)\n\u001B[0;32m    393\u001B[0m \u001B[1;33m\u001B[0m\u001B[0m\n\u001B[1;32m--> 394\u001B[1;33m         \u001B[0mbuilder\u001B[0m\u001B[1;33m.\u001B[0m\u001B[0mbuild\u001B[0m\u001B[1;33m(\u001B[0m\u001B[0mself\u001B[0m\u001B[1;33m.\u001B[0m\u001B[0mtree_\u001B[0m\u001B[1;33m,\u001B[0m \u001B[0mX\u001B[0m\u001B[1;33m,\u001B[0m \u001B[0my\u001B[0m\u001B[1;33m,\u001B[0m \u001B[0msample_weight\u001B[0m\u001B[1;33m)\u001B[0m\u001B[1;33m\u001B[0m\u001B[1;33m\u001B[0m\u001B[0m\n\u001B[0m\u001B[0;32m    395\u001B[0m \u001B[1;33m\u001B[0m\u001B[0m\n\u001B[0;32m    396\u001B[0m         \u001B[1;32mif\u001B[0m \u001B[0mself\u001B[0m\u001B[1;33m.\u001B[0m\u001B[0mn_outputs_\u001B[0m \u001B[1;33m==\u001B[0m \u001B[1;36m1\u001B[0m \u001B[1;32mand\u001B[0m \u001B[0mis_classifier\u001B[0m\u001B[1;33m(\u001B[0m\u001B[0mself\u001B[0m\u001B[1;33m)\u001B[0m\u001B[1;33m:\u001B[0m\u001B[1;33m\u001B[0m\u001B[1;33m\u001B[0m\u001B[0m\n",
      "\u001B[1;31mKeyboardInterrupt\u001B[0m: "
     ]
    }
   ],
   "source": [
    "from sklearn.model_selection import cross_val_score\n",
    "scores = cross_val_score(forest_reg, X, y,\n",
    "                         scoring=\"accuracy\", cv=10)"
   ],
   "metadata": {
    "collapsed": false,
    "pycharm": {
     "name": "#%%\n"
    }
   }
  },
  {
   "cell_type": "code",
   "execution_count": null,
   "outputs": [],
   "source": [
    "scores"
   ],
   "metadata": {
    "collapsed": false,
    "pycharm": {
     "name": "#%%\n"
    }
   }
  },
  {
   "cell_type": "code",
   "execution_count": 25,
   "outputs": [
    {
     "data": {
      "text/plain": "SVC()"
     },
     "execution_count": 25,
     "metadata": {},
     "output_type": "execute_result"
    }
   ],
   "source": [
    "from sklearn.svm import SVC\n",
    "SVC_clf = SVC()\n",
    "SVC_clf.fit(X,y)"
   ],
   "metadata": {
    "collapsed": false,
    "pycharm": {
     "name": "#%%\n"
    }
   }
  },
  {
   "cell_type": "code",
   "execution_count": null,
   "outputs": [],
   "source": [
    "from sklearn.model_selection import cross_val_score\n",
    "scores_SVC = cross_val_score(SVC_clf, X, y,\n",
    "                         scoring=\"accuracy\", cv=10)"
   ],
   "metadata": {
    "collapsed": false,
    "pycharm": {
     "name": "#%%\n"
    }
   }
  },
  {
   "cell_type": "code",
   "execution_count": null,
   "outputs": [],
   "source": [
    "scores_SVC"
   ],
   "metadata": {
    "collapsed": false,
    "pycharm": {
     "name": "#%%\n"
    }
   }
  },
  {
   "cell_type": "code",
   "execution_count": 26,
   "outputs": [
    {
     "data": {
      "text/plain": "array([[197982,      0],\n       [     0,    383]], dtype=int64)"
     },
     "execution_count": 26,
     "metadata": {},
     "output_type": "execute_result"
    }
   ],
   "source": [
    "y_forest_pred = forest_reg.predict(X)\n",
    "y_SVC_pred = SVC_clf.predict(X)\n",
    "from sklearn.metrics import confusion_matrix\n",
    "cm = confusion_matrix(y_forest_pred, y)\n",
    "cm"
   ],
   "metadata": {
    "collapsed": false,
    "pycharm": {
     "name": "#%%\n"
    }
   }
  },
  {
   "cell_type": "code",
   "execution_count": 27,
   "outputs": [
    {
     "data": {
      "text/plain": "array([[197974,     59],\n       [     8,    324]], dtype=int64)"
     },
     "execution_count": 27,
     "metadata": {},
     "output_type": "execute_result"
    }
   ],
   "source": [
    "cm_svc = confusion_matrix(y_SVC_pred, y)\n",
    "cm_svc"
   ],
   "metadata": {
    "collapsed": false,
    "pycharm": {
     "name": "#%%\n"
    }
   }
  },
  {
   "cell_type": "code",
   "execution_count": 28,
   "outputs": [
    {
     "name": "stdout",
     "output_type": "stream",
     "text": [
      "383\n"
     ]
    }
   ],
   "source": [
    "count = 0\n",
    "for i in train_data[\"Class\"]:\n",
    "    if i == 1:\n",
    "        count = count + 1\n",
    "print(count)"
   ],
   "metadata": {
    "collapsed": false,
    "pycharm": {
     "name": "#%%\n"
    }
   }
  },
  {
   "cell_type": "markdown",
   "source": [
    "So from the above matrix we can clearly see that random forest makes the model much more accurate\n",
    "Random forest will be used for testing as well\n",
    "\n"
   ],
   "metadata": {
    "collapsed": false,
    "pycharm": {
     "name": "#%% md\n"
    }
   }
  },
  {
   "cell_type": "code",
   "execution_count": 29,
   "outputs": [
    {
     "data": {
      "text/plain": "           ID    Time         V1         V2        V3        V4        V5  \\\n0      198366  132459   2.079192   0.052662 -1.755167  0.418802  0.310472   \n1      198367  132460   1.596563  -1.588177 -1.186718 -1.710578 -0.378661   \n2      198368  132460   2.273454  -1.447207 -0.946779 -1.738063 -1.074172   \n3      198369  132460   1.987406   0.140840 -2.001286  1.071763  0.717042   \n4      198370  132461  -0.398751   1.370313 -0.715049 -0.867699  1.157188   \n...       ...     ...        ...        ...       ...       ...       ...   \n86437  284803  172786 -11.881118  10.071785 -9.834783 -2.066656 -5.364473   \n86438  284804  172787  -0.732789  -0.055080  2.035030 -0.738589  0.868229   \n86439  284805  172788   1.919565  -0.301254 -3.249640 -0.557828  2.630515   \n86440  284806  172788  -0.240440   0.530483  0.702510  0.689799 -0.377961   \n86441  284807  172792  -0.533413  -0.189733  0.703337 -0.506271 -0.012546   \n\n             V6        V7        V8  ...       V20       V21       V22  \\\n0     -0.886053  0.083326 -0.149153  ... -0.250318 -0.385564 -1.074903   \n1      0.906028 -0.796517  0.443712  ...  0.016012  0.395564  0.993546   \n2     -0.139592 -1.266807 -0.047025  ... -0.384806 -0.142609  0.098889   \n3     -0.880590  0.670095 -0.288313  ... -0.274861  0.158934  0.427937   \n4     -0.364107  1.151124 -0.316554  ...  0.475877  0.182382  1.126963   \n...         ...       ...       ...  ...       ...       ...       ...   \n86437 -2.606837 -4.918215  7.305334  ...  1.475829  0.213454  0.111864   \n86438  1.058415  0.024330  0.294869  ...  0.059616  0.214205  0.924384   \n86439  3.031260 -0.296827  0.708417  ...  0.001396  0.232045  0.578229   \n86440  0.623708 -0.686180  0.679145  ...  0.127434  0.265245  0.800049   \n86441 -0.649617  1.577006 -0.414650  ...  0.382948  0.261057  0.643078   \n\n            V23       V24       V25       V26       V27       V28  Amount  \n0      0.351592  0.441535 -0.300612  0.179993 -0.072265 -0.034296    0.99  \n1     -0.024412 -1.613532 -0.392005 -0.055686  0.033064 -0.042575  183.02  \n2      0.150236 -0.813565 -0.193346 -0.148293  0.020379 -0.063042   21.00  \n3     -0.082711 -0.493515  0.434758 -0.473680 -0.045832 -0.075119   35.00  \n4     -0.183504  0.047153 -0.570891 -0.222038  0.657472  0.278362    0.89  \n...         ...       ...       ...       ...       ...       ...     ...  \n86437  1.014480 -0.509348  1.436807  0.250034  0.943651  0.823731    0.77  \n86438  0.012463 -1.016226 -0.606624 -0.395255  0.068472 -0.053527   24.79  \n86439 -0.037501  0.640134  0.265745 -0.087371  0.004455 -0.026561   67.88  \n86440 -0.163298  0.123205 -0.569159  0.546668  0.108821  0.104533   10.00  \n86441  0.376777  0.008797 -0.473649 -0.818267 -0.002415  0.013649  217.00  \n\n[86442 rows x 31 columns]",
      "text/html": "<div>\n<style scoped>\n    .dataframe tbody tr th:only-of-type {\n        vertical-align: middle;\n    }\n\n    .dataframe tbody tr th {\n        vertical-align: top;\n    }\n\n    .dataframe thead th {\n        text-align: right;\n    }\n</style>\n<table border=\"1\" class=\"dataframe\">\n  <thead>\n    <tr style=\"text-align: right;\">\n      <th></th>\n      <th>ID</th>\n      <th>Time</th>\n      <th>V1</th>\n      <th>V2</th>\n      <th>V3</th>\n      <th>V4</th>\n      <th>V5</th>\n      <th>V6</th>\n      <th>V7</th>\n      <th>V8</th>\n      <th>...</th>\n      <th>V20</th>\n      <th>V21</th>\n      <th>V22</th>\n      <th>V23</th>\n      <th>V24</th>\n      <th>V25</th>\n      <th>V26</th>\n      <th>V27</th>\n      <th>V28</th>\n      <th>Amount</th>\n    </tr>\n  </thead>\n  <tbody>\n    <tr>\n      <th>0</th>\n      <td>198366</td>\n      <td>132459</td>\n      <td>2.079192</td>\n      <td>0.052662</td>\n      <td>-1.755167</td>\n      <td>0.418802</td>\n      <td>0.310472</td>\n      <td>-0.886053</td>\n      <td>0.083326</td>\n      <td>-0.149153</td>\n      <td>...</td>\n      <td>-0.250318</td>\n      <td>-0.385564</td>\n      <td>-1.074903</td>\n      <td>0.351592</td>\n      <td>0.441535</td>\n      <td>-0.300612</td>\n      <td>0.179993</td>\n      <td>-0.072265</td>\n      <td>-0.034296</td>\n      <td>0.99</td>\n    </tr>\n    <tr>\n      <th>1</th>\n      <td>198367</td>\n      <td>132460</td>\n      <td>1.596563</td>\n      <td>-1.588177</td>\n      <td>-1.186718</td>\n      <td>-1.710578</td>\n      <td>-0.378661</td>\n      <td>0.906028</td>\n      <td>-0.796517</td>\n      <td>0.443712</td>\n      <td>...</td>\n      <td>0.016012</td>\n      <td>0.395564</td>\n      <td>0.993546</td>\n      <td>-0.024412</td>\n      <td>-1.613532</td>\n      <td>-0.392005</td>\n      <td>-0.055686</td>\n      <td>0.033064</td>\n      <td>-0.042575</td>\n      <td>183.02</td>\n    </tr>\n    <tr>\n      <th>2</th>\n      <td>198368</td>\n      <td>132460</td>\n      <td>2.273454</td>\n      <td>-1.447207</td>\n      <td>-0.946779</td>\n      <td>-1.738063</td>\n      <td>-1.074172</td>\n      <td>-0.139592</td>\n      <td>-1.266807</td>\n      <td>-0.047025</td>\n      <td>...</td>\n      <td>-0.384806</td>\n      <td>-0.142609</td>\n      <td>0.098889</td>\n      <td>0.150236</td>\n      <td>-0.813565</td>\n      <td>-0.193346</td>\n      <td>-0.148293</td>\n      <td>0.020379</td>\n      <td>-0.063042</td>\n      <td>21.00</td>\n    </tr>\n    <tr>\n      <th>3</th>\n      <td>198369</td>\n      <td>132460</td>\n      <td>1.987406</td>\n      <td>0.140840</td>\n      <td>-2.001286</td>\n      <td>1.071763</td>\n      <td>0.717042</td>\n      <td>-0.880590</td>\n      <td>0.670095</td>\n      <td>-0.288313</td>\n      <td>...</td>\n      <td>-0.274861</td>\n      <td>0.158934</td>\n      <td>0.427937</td>\n      <td>-0.082711</td>\n      <td>-0.493515</td>\n      <td>0.434758</td>\n      <td>-0.473680</td>\n      <td>-0.045832</td>\n      <td>-0.075119</td>\n      <td>35.00</td>\n    </tr>\n    <tr>\n      <th>4</th>\n      <td>198370</td>\n      <td>132461</td>\n      <td>-0.398751</td>\n      <td>1.370313</td>\n      <td>-0.715049</td>\n      <td>-0.867699</td>\n      <td>1.157188</td>\n      <td>-0.364107</td>\n      <td>1.151124</td>\n      <td>-0.316554</td>\n      <td>...</td>\n      <td>0.475877</td>\n      <td>0.182382</td>\n      <td>1.126963</td>\n      <td>-0.183504</td>\n      <td>0.047153</td>\n      <td>-0.570891</td>\n      <td>-0.222038</td>\n      <td>0.657472</td>\n      <td>0.278362</td>\n      <td>0.89</td>\n    </tr>\n    <tr>\n      <th>...</th>\n      <td>...</td>\n      <td>...</td>\n      <td>...</td>\n      <td>...</td>\n      <td>...</td>\n      <td>...</td>\n      <td>...</td>\n      <td>...</td>\n      <td>...</td>\n      <td>...</td>\n      <td>...</td>\n      <td>...</td>\n      <td>...</td>\n      <td>...</td>\n      <td>...</td>\n      <td>...</td>\n      <td>...</td>\n      <td>...</td>\n      <td>...</td>\n      <td>...</td>\n      <td>...</td>\n    </tr>\n    <tr>\n      <th>86437</th>\n      <td>284803</td>\n      <td>172786</td>\n      <td>-11.881118</td>\n      <td>10.071785</td>\n      <td>-9.834783</td>\n      <td>-2.066656</td>\n      <td>-5.364473</td>\n      <td>-2.606837</td>\n      <td>-4.918215</td>\n      <td>7.305334</td>\n      <td>...</td>\n      <td>1.475829</td>\n      <td>0.213454</td>\n      <td>0.111864</td>\n      <td>1.014480</td>\n      <td>-0.509348</td>\n      <td>1.436807</td>\n      <td>0.250034</td>\n      <td>0.943651</td>\n      <td>0.823731</td>\n      <td>0.77</td>\n    </tr>\n    <tr>\n      <th>86438</th>\n      <td>284804</td>\n      <td>172787</td>\n      <td>-0.732789</td>\n      <td>-0.055080</td>\n      <td>2.035030</td>\n      <td>-0.738589</td>\n      <td>0.868229</td>\n      <td>1.058415</td>\n      <td>0.024330</td>\n      <td>0.294869</td>\n      <td>...</td>\n      <td>0.059616</td>\n      <td>0.214205</td>\n      <td>0.924384</td>\n      <td>0.012463</td>\n      <td>-1.016226</td>\n      <td>-0.606624</td>\n      <td>-0.395255</td>\n      <td>0.068472</td>\n      <td>-0.053527</td>\n      <td>24.79</td>\n    </tr>\n    <tr>\n      <th>86439</th>\n      <td>284805</td>\n      <td>172788</td>\n      <td>1.919565</td>\n      <td>-0.301254</td>\n      <td>-3.249640</td>\n      <td>-0.557828</td>\n      <td>2.630515</td>\n      <td>3.031260</td>\n      <td>-0.296827</td>\n      <td>0.708417</td>\n      <td>...</td>\n      <td>0.001396</td>\n      <td>0.232045</td>\n      <td>0.578229</td>\n      <td>-0.037501</td>\n      <td>0.640134</td>\n      <td>0.265745</td>\n      <td>-0.087371</td>\n      <td>0.004455</td>\n      <td>-0.026561</td>\n      <td>67.88</td>\n    </tr>\n    <tr>\n      <th>86440</th>\n      <td>284806</td>\n      <td>172788</td>\n      <td>-0.240440</td>\n      <td>0.530483</td>\n      <td>0.702510</td>\n      <td>0.689799</td>\n      <td>-0.377961</td>\n      <td>0.623708</td>\n      <td>-0.686180</td>\n      <td>0.679145</td>\n      <td>...</td>\n      <td>0.127434</td>\n      <td>0.265245</td>\n      <td>0.800049</td>\n      <td>-0.163298</td>\n      <td>0.123205</td>\n      <td>-0.569159</td>\n      <td>0.546668</td>\n      <td>0.108821</td>\n      <td>0.104533</td>\n      <td>10.00</td>\n    </tr>\n    <tr>\n      <th>86441</th>\n      <td>284807</td>\n      <td>172792</td>\n      <td>-0.533413</td>\n      <td>-0.189733</td>\n      <td>0.703337</td>\n      <td>-0.506271</td>\n      <td>-0.012546</td>\n      <td>-0.649617</td>\n      <td>1.577006</td>\n      <td>-0.414650</td>\n      <td>...</td>\n      <td>0.382948</td>\n      <td>0.261057</td>\n      <td>0.643078</td>\n      <td>0.376777</td>\n      <td>0.008797</td>\n      <td>-0.473649</td>\n      <td>-0.818267</td>\n      <td>-0.002415</td>\n      <td>0.013649</td>\n      <td>217.00</td>\n    </tr>\n  </tbody>\n</table>\n<p>86442 rows × 31 columns</p>\n</div>"
     },
     "execution_count": 29,
     "metadata": {},
     "output_type": "execute_result"
    }
   ],
   "source": [
    "test_data\n"
   ],
   "metadata": {
    "collapsed": false,
    "pycharm": {
     "name": "#%%\n"
    }
   }
  },
  {
   "cell_type": "code",
   "execution_count": 30,
   "outputs": [
    {
     "data": {
      "text/plain": "           ID  Class\n0      198366      0\n1      198367      0\n2      198368      0\n3      198369      0\n4      198370      0\n...       ...    ...\n86437  284803      0\n86438  284804      0\n86439  284805      0\n86440  284806      0\n86441  284807      0\n\n[86442 rows x 2 columns]",
      "text/html": "<div>\n<style scoped>\n    .dataframe tbody tr th:only-of-type {\n        vertical-align: middle;\n    }\n\n    .dataframe tbody tr th {\n        vertical-align: top;\n    }\n\n    .dataframe thead th {\n        text-align: right;\n    }\n</style>\n<table border=\"1\" class=\"dataframe\">\n  <thead>\n    <tr style=\"text-align: right;\">\n      <th></th>\n      <th>ID</th>\n      <th>Class</th>\n    </tr>\n  </thead>\n  <tbody>\n    <tr>\n      <th>0</th>\n      <td>198366</td>\n      <td>0</td>\n    </tr>\n    <tr>\n      <th>1</th>\n      <td>198367</td>\n      <td>0</td>\n    </tr>\n    <tr>\n      <th>2</th>\n      <td>198368</td>\n      <td>0</td>\n    </tr>\n    <tr>\n      <th>3</th>\n      <td>198369</td>\n      <td>0</td>\n    </tr>\n    <tr>\n      <th>4</th>\n      <td>198370</td>\n      <td>0</td>\n    </tr>\n    <tr>\n      <th>...</th>\n      <td>...</td>\n      <td>...</td>\n    </tr>\n    <tr>\n      <th>86437</th>\n      <td>284803</td>\n      <td>0</td>\n    </tr>\n    <tr>\n      <th>86438</th>\n      <td>284804</td>\n      <td>0</td>\n    </tr>\n    <tr>\n      <th>86439</th>\n      <td>284805</td>\n      <td>0</td>\n    </tr>\n    <tr>\n      <th>86440</th>\n      <td>284806</td>\n      <td>0</td>\n    </tr>\n    <tr>\n      <th>86441</th>\n      <td>284807</td>\n      <td>0</td>\n    </tr>\n  </tbody>\n</table>\n<p>86442 rows × 2 columns</p>\n</div>"
     },
     "execution_count": 30,
     "metadata": {},
     "output_type": "execute_result"
    }
   ],
   "source": [
    "sub_data\n"
   ],
   "metadata": {
    "collapsed": false,
    "pycharm": {
     "name": "#%%\n"
    }
   }
  },
  {
   "cell_type": "code",
   "execution_count": 31,
   "outputs": [],
   "source": [
    "test_data.drop(\"ID\", axis=1, inplace=True)"
   ],
   "metadata": {
    "collapsed": false,
    "pycharm": {
     "name": "#%%\n"
    }
   }
  },
  {
   "cell_type": "code",
   "execution_count": 32,
   "outputs": [
    {
     "data": {
      "text/plain": "0       -2.798623\n1       -0.400558\n2       -5.236415\n3        1.058044\n4        2.399819\n           ...   \n86437   -0.204756\n86438    0.536769\n86439    6.784787\n86440    5.644074\n86441   -2.417888\nName: V, Length: 86442, dtype: float64"
     },
     "execution_count": 32,
     "metadata": {},
     "output_type": "execute_result"
    }
   ],
   "source": [
    "#test_data.drop(\"ID\", axis=1, inplace=True)\n",
    "test_data[\"Actual_Amount\"] = test_data[\"Time\"] * test_data[\"Amount\"]\n",
    "l1 = [x for x in test_data.columns if test_data[x].dtype==\"float64\" and \"V\" in x]\n",
    "test_data[\"V\"] = 0\n",
    "for i in l1:\n",
    "    test_data[\"V\"] = test_data[\"V\"] + test_data[i]\n",
    "test_data[\"V\"]"
   ],
   "metadata": {
    "collapsed": false,
    "pycharm": {
     "name": "#%%\n"
    }
   }
  },
  {
   "cell_type": "code",
   "execution_count": 33,
   "outputs": [],
   "source": [
    "sub_data.drop(\"ID\", axis=1, inplace=True)"
   ],
   "metadata": {
    "collapsed": false,
    "pycharm": {
     "name": "#%%\n"
    }
   }
  },
  {
   "cell_type": "code",
   "execution_count": 34,
   "outputs": [],
   "source": [
    "test_data = sc.transform(test_data)"
   ],
   "metadata": {
    "collapsed": false,
    "pycharm": {
     "name": "#%%\n"
    }
   }
  },
  {
   "cell_type": "code",
   "execution_count": 35,
   "outputs": [],
   "source": [
    "y_test_pred_forest = forest_reg.predict(test_data)\n",
    "y_test_pred_SVC = SVC_clf.predict(test_data)"
   ],
   "metadata": {
    "collapsed": false,
    "pycharm": {
     "name": "#%%\n"
    }
   }
  },
  {
   "cell_type": "code",
   "execution_count": 36,
   "outputs": [
    {
     "data": {
      "text/plain": "array([[86369,     0],\n       [   73,     0]], dtype=int64)"
     },
     "execution_count": 36,
     "metadata": {},
     "output_type": "execute_result"
    }
   ],
   "source": [
    "from sklearn.metrics import confusion_matrix\n",
    "cm_test_forest = confusion_matrix(y_test_pred_forest, sub_data)\n",
    "cm_test_forest"
   ],
   "metadata": {
    "collapsed": false,
    "pycharm": {
     "name": "#%%\n"
    }
   }
  },
  {
   "cell_type": "code",
   "execution_count": 37,
   "outputs": [
    {
     "data": {
      "text/plain": "array([[86395,     0],\n       [   47,     0]], dtype=int64)"
     },
     "execution_count": 37,
     "metadata": {},
     "output_type": "execute_result"
    }
   ],
   "source": [
    "cm_test_SVC = confusion_matrix(y_test_pred_SVC, sub_data)\n",
    "cm_test_SVC\n"
   ],
   "metadata": {
    "collapsed": false,
    "pycharm": {
     "name": "#%%\n"
    }
   }
  },
  {
   "cell_type": "code",
   "execution_count": 38,
   "outputs": [
    {
     "data": {
      "text/plain": "numpy.ndarray"
     },
     "execution_count": 38,
     "metadata": {},
     "output_type": "execute_result"
    }
   ],
   "source": [
    "type(y_test_pred_forest)"
   ],
   "metadata": {
    "collapsed": false,
    "pycharm": {
     "name": "#%%\n"
    }
   }
  },
  {
   "cell_type": "code",
   "execution_count": 58,
   "outputs": [
    {
     "data": {
      "text/plain": "           ID    Time         V1         V2        V3        V4        V5  \\\n0      198366  132459   2.079192   0.052662 -1.755167  0.418802  0.310472   \n1      198367  132460   1.596563  -1.588177 -1.186718 -1.710578 -0.378661   \n2      198368  132460   2.273454  -1.447207 -0.946779 -1.738063 -1.074172   \n3      198369  132460   1.987406   0.140840 -2.001286  1.071763  0.717042   \n4      198370  132461  -0.398751   1.370313 -0.715049 -0.867699  1.157188   \n...       ...     ...        ...        ...       ...       ...       ...   \n86437  284803  172786 -11.881118  10.071785 -9.834783 -2.066656 -5.364473   \n86438  284804  172787  -0.732789  -0.055080  2.035030 -0.738589  0.868229   \n86439  284805  172788   1.919565  -0.301254 -3.249640 -0.557828  2.630515   \n86440  284806  172788  -0.240440   0.530483  0.702510  0.689799 -0.377961   \n86441  284807  172792  -0.533413  -0.189733  0.703337 -0.506271 -0.012546   \n\n             V6        V7        V8  ...       V20       V21       V22  \\\n0     -0.886053  0.083326 -0.149153  ... -0.250318 -0.385564 -1.074903   \n1      0.906028 -0.796517  0.443712  ...  0.016012  0.395564  0.993546   \n2     -0.139592 -1.266807 -0.047025  ... -0.384806 -0.142609  0.098889   \n3     -0.880590  0.670095 -0.288313  ... -0.274861  0.158934  0.427937   \n4     -0.364107  1.151124 -0.316554  ...  0.475877  0.182382  1.126963   \n...         ...       ...       ...  ...       ...       ...       ...   \n86437 -2.606837 -4.918215  7.305334  ...  1.475829  0.213454  0.111864   \n86438  1.058415  0.024330  0.294869  ...  0.059616  0.214205  0.924384   \n86439  3.031260 -0.296827  0.708417  ...  0.001396  0.232045  0.578229   \n86440  0.623708 -0.686180  0.679145  ...  0.127434  0.265245  0.800049   \n86441 -0.649617  1.577006 -0.414650  ...  0.382948  0.261057  0.643078   \n\n            V23       V24       V25       V26       V27       V28  Amount  \n0      0.351592  0.441535 -0.300612  0.179993 -0.072265 -0.034296    0.99  \n1     -0.024412 -1.613532 -0.392005 -0.055686  0.033064 -0.042575  183.02  \n2      0.150236 -0.813565 -0.193346 -0.148293  0.020379 -0.063042   21.00  \n3     -0.082711 -0.493515  0.434758 -0.473680 -0.045832 -0.075119   35.00  \n4     -0.183504  0.047153 -0.570891 -0.222038  0.657472  0.278362    0.89  \n...         ...       ...       ...       ...       ...       ...     ...  \n86437  1.014480 -0.509348  1.436807  0.250034  0.943651  0.823731    0.77  \n86438  0.012463 -1.016226 -0.606624 -0.395255  0.068472 -0.053527   24.79  \n86439 -0.037501  0.640134  0.265745 -0.087371  0.004455 -0.026561   67.88  \n86440 -0.163298  0.123205 -0.569159  0.546668  0.108821  0.104533   10.00  \n86441  0.376777  0.008797 -0.473649 -0.818267 -0.002415  0.013649  217.00  \n\n[86442 rows x 31 columns]",
      "text/html": "<div>\n<style scoped>\n    .dataframe tbody tr th:only-of-type {\n        vertical-align: middle;\n    }\n\n    .dataframe tbody tr th {\n        vertical-align: top;\n    }\n\n    .dataframe thead th {\n        text-align: right;\n    }\n</style>\n<table border=\"1\" class=\"dataframe\">\n  <thead>\n    <tr style=\"text-align: right;\">\n      <th></th>\n      <th>ID</th>\n      <th>Time</th>\n      <th>V1</th>\n      <th>V2</th>\n      <th>V3</th>\n      <th>V4</th>\n      <th>V5</th>\n      <th>V6</th>\n      <th>V7</th>\n      <th>V8</th>\n      <th>...</th>\n      <th>V20</th>\n      <th>V21</th>\n      <th>V22</th>\n      <th>V23</th>\n      <th>V24</th>\n      <th>V25</th>\n      <th>V26</th>\n      <th>V27</th>\n      <th>V28</th>\n      <th>Amount</th>\n    </tr>\n  </thead>\n  <tbody>\n    <tr>\n      <th>0</th>\n      <td>198366</td>\n      <td>132459</td>\n      <td>2.079192</td>\n      <td>0.052662</td>\n      <td>-1.755167</td>\n      <td>0.418802</td>\n      <td>0.310472</td>\n      <td>-0.886053</td>\n      <td>0.083326</td>\n      <td>-0.149153</td>\n      <td>...</td>\n      <td>-0.250318</td>\n      <td>-0.385564</td>\n      <td>-1.074903</td>\n      <td>0.351592</td>\n      <td>0.441535</td>\n      <td>-0.300612</td>\n      <td>0.179993</td>\n      <td>-0.072265</td>\n      <td>-0.034296</td>\n      <td>0.99</td>\n    </tr>\n    <tr>\n      <th>1</th>\n      <td>198367</td>\n      <td>132460</td>\n      <td>1.596563</td>\n      <td>-1.588177</td>\n      <td>-1.186718</td>\n      <td>-1.710578</td>\n      <td>-0.378661</td>\n      <td>0.906028</td>\n      <td>-0.796517</td>\n      <td>0.443712</td>\n      <td>...</td>\n      <td>0.016012</td>\n      <td>0.395564</td>\n      <td>0.993546</td>\n      <td>-0.024412</td>\n      <td>-1.613532</td>\n      <td>-0.392005</td>\n      <td>-0.055686</td>\n      <td>0.033064</td>\n      <td>-0.042575</td>\n      <td>183.02</td>\n    </tr>\n    <tr>\n      <th>2</th>\n      <td>198368</td>\n      <td>132460</td>\n      <td>2.273454</td>\n      <td>-1.447207</td>\n      <td>-0.946779</td>\n      <td>-1.738063</td>\n      <td>-1.074172</td>\n      <td>-0.139592</td>\n      <td>-1.266807</td>\n      <td>-0.047025</td>\n      <td>...</td>\n      <td>-0.384806</td>\n      <td>-0.142609</td>\n      <td>0.098889</td>\n      <td>0.150236</td>\n      <td>-0.813565</td>\n      <td>-0.193346</td>\n      <td>-0.148293</td>\n      <td>0.020379</td>\n      <td>-0.063042</td>\n      <td>21.00</td>\n    </tr>\n    <tr>\n      <th>3</th>\n      <td>198369</td>\n      <td>132460</td>\n      <td>1.987406</td>\n      <td>0.140840</td>\n      <td>-2.001286</td>\n      <td>1.071763</td>\n      <td>0.717042</td>\n      <td>-0.880590</td>\n      <td>0.670095</td>\n      <td>-0.288313</td>\n      <td>...</td>\n      <td>-0.274861</td>\n      <td>0.158934</td>\n      <td>0.427937</td>\n      <td>-0.082711</td>\n      <td>-0.493515</td>\n      <td>0.434758</td>\n      <td>-0.473680</td>\n      <td>-0.045832</td>\n      <td>-0.075119</td>\n      <td>35.00</td>\n    </tr>\n    <tr>\n      <th>4</th>\n      <td>198370</td>\n      <td>132461</td>\n      <td>-0.398751</td>\n      <td>1.370313</td>\n      <td>-0.715049</td>\n      <td>-0.867699</td>\n      <td>1.157188</td>\n      <td>-0.364107</td>\n      <td>1.151124</td>\n      <td>-0.316554</td>\n      <td>...</td>\n      <td>0.475877</td>\n      <td>0.182382</td>\n      <td>1.126963</td>\n      <td>-0.183504</td>\n      <td>0.047153</td>\n      <td>-0.570891</td>\n      <td>-0.222038</td>\n      <td>0.657472</td>\n      <td>0.278362</td>\n      <td>0.89</td>\n    </tr>\n    <tr>\n      <th>...</th>\n      <td>...</td>\n      <td>...</td>\n      <td>...</td>\n      <td>...</td>\n      <td>...</td>\n      <td>...</td>\n      <td>...</td>\n      <td>...</td>\n      <td>...</td>\n      <td>...</td>\n      <td>...</td>\n      <td>...</td>\n      <td>...</td>\n      <td>...</td>\n      <td>...</td>\n      <td>...</td>\n      <td>...</td>\n      <td>...</td>\n      <td>...</td>\n      <td>...</td>\n      <td>...</td>\n    </tr>\n    <tr>\n      <th>86437</th>\n      <td>284803</td>\n      <td>172786</td>\n      <td>-11.881118</td>\n      <td>10.071785</td>\n      <td>-9.834783</td>\n      <td>-2.066656</td>\n      <td>-5.364473</td>\n      <td>-2.606837</td>\n      <td>-4.918215</td>\n      <td>7.305334</td>\n      <td>...</td>\n      <td>1.475829</td>\n      <td>0.213454</td>\n      <td>0.111864</td>\n      <td>1.014480</td>\n      <td>-0.509348</td>\n      <td>1.436807</td>\n      <td>0.250034</td>\n      <td>0.943651</td>\n      <td>0.823731</td>\n      <td>0.77</td>\n    </tr>\n    <tr>\n      <th>86438</th>\n      <td>284804</td>\n      <td>172787</td>\n      <td>-0.732789</td>\n      <td>-0.055080</td>\n      <td>2.035030</td>\n      <td>-0.738589</td>\n      <td>0.868229</td>\n      <td>1.058415</td>\n      <td>0.024330</td>\n      <td>0.294869</td>\n      <td>...</td>\n      <td>0.059616</td>\n      <td>0.214205</td>\n      <td>0.924384</td>\n      <td>0.012463</td>\n      <td>-1.016226</td>\n      <td>-0.606624</td>\n      <td>-0.395255</td>\n      <td>0.068472</td>\n      <td>-0.053527</td>\n      <td>24.79</td>\n    </tr>\n    <tr>\n      <th>86439</th>\n      <td>284805</td>\n      <td>172788</td>\n      <td>1.919565</td>\n      <td>-0.301254</td>\n      <td>-3.249640</td>\n      <td>-0.557828</td>\n      <td>2.630515</td>\n      <td>3.031260</td>\n      <td>-0.296827</td>\n      <td>0.708417</td>\n      <td>...</td>\n      <td>0.001396</td>\n      <td>0.232045</td>\n      <td>0.578229</td>\n      <td>-0.037501</td>\n      <td>0.640134</td>\n      <td>0.265745</td>\n      <td>-0.087371</td>\n      <td>0.004455</td>\n      <td>-0.026561</td>\n      <td>67.88</td>\n    </tr>\n    <tr>\n      <th>86440</th>\n      <td>284806</td>\n      <td>172788</td>\n      <td>-0.240440</td>\n      <td>0.530483</td>\n      <td>0.702510</td>\n      <td>0.689799</td>\n      <td>-0.377961</td>\n      <td>0.623708</td>\n      <td>-0.686180</td>\n      <td>0.679145</td>\n      <td>...</td>\n      <td>0.127434</td>\n      <td>0.265245</td>\n      <td>0.800049</td>\n      <td>-0.163298</td>\n      <td>0.123205</td>\n      <td>-0.569159</td>\n      <td>0.546668</td>\n      <td>0.108821</td>\n      <td>0.104533</td>\n      <td>10.00</td>\n    </tr>\n    <tr>\n      <th>86441</th>\n      <td>284807</td>\n      <td>172792</td>\n      <td>-0.533413</td>\n      <td>-0.189733</td>\n      <td>0.703337</td>\n      <td>-0.506271</td>\n      <td>-0.012546</td>\n      <td>-0.649617</td>\n      <td>1.577006</td>\n      <td>-0.414650</td>\n      <td>...</td>\n      <td>0.382948</td>\n      <td>0.261057</td>\n      <td>0.643078</td>\n      <td>0.376777</td>\n      <td>0.008797</td>\n      <td>-0.473649</td>\n      <td>-0.818267</td>\n      <td>-0.002415</td>\n      <td>0.013649</td>\n      <td>217.00</td>\n    </tr>\n  </tbody>\n</table>\n<p>86442 rows × 31 columns</p>\n</div>"
     },
     "execution_count": 58,
     "metadata": {},
     "output_type": "execute_result"
    }
   ],
   "source": [
    "test_data_1 = pd.read_csv(\"D:\\my work\\kaggle\\credit card fraud detection\\data\\\\test.csv\")\n",
    "test_data_1"
   ],
   "metadata": {
    "collapsed": false,
    "pycharm": {
     "name": "#%%\n"
    }
   }
  },
  {
   "cell_type": "code",
   "execution_count": 59,
   "outputs": [],
   "source": [
    "df = pd.DataFrame(y_test_pred_forest, columns=['Class'])\n",
    "df.to_csv('submission.csv', index=False)"
   ],
   "metadata": {
    "collapsed": false,
    "pycharm": {
     "name": "#%%\n"
    }
   }
  },
  {
   "cell_type": "code",
   "execution_count": 2,
   "outputs": [
    {
     "data": {
      "text/plain": "       Class\n0          0\n1          0\n2          0\n3          0\n4          0\n...      ...\n86437      0\n86438      0\n86439      0\n86440      0\n86441      0\n\n[86442 rows x 1 columns]",
      "text/html": "<div>\n<style scoped>\n    .dataframe tbody tr th:only-of-type {\n        vertical-align: middle;\n    }\n\n    .dataframe tbody tr th {\n        vertical-align: top;\n    }\n\n    .dataframe thead th {\n        text-align: right;\n    }\n</style>\n<table border=\"1\" class=\"dataframe\">\n  <thead>\n    <tr style=\"text-align: right;\">\n      <th></th>\n      <th>Class</th>\n    </tr>\n  </thead>\n  <tbody>\n    <tr>\n      <th>0</th>\n      <td>0</td>\n    </tr>\n    <tr>\n      <th>1</th>\n      <td>0</td>\n    </tr>\n    <tr>\n      <th>2</th>\n      <td>0</td>\n    </tr>\n    <tr>\n      <th>3</th>\n      <td>0</td>\n    </tr>\n    <tr>\n      <th>4</th>\n      <td>0</td>\n    </tr>\n    <tr>\n      <th>...</th>\n      <td>...</td>\n    </tr>\n    <tr>\n      <th>86437</th>\n      <td>0</td>\n    </tr>\n    <tr>\n      <th>86438</th>\n      <td>0</td>\n    </tr>\n    <tr>\n      <th>86439</th>\n      <td>0</td>\n    </tr>\n    <tr>\n      <th>86440</th>\n      <td>0</td>\n    </tr>\n    <tr>\n      <th>86441</th>\n      <td>0</td>\n    </tr>\n  </tbody>\n</table>\n<p>86442 rows × 1 columns</p>\n</div>"
     },
     "execution_count": 2,
     "metadata": {},
     "output_type": "execute_result"
    }
   ],
   "source": [
    "import pandas as pd\n",
    "submission = pd.read_csv(\"D:\\my work\\kaggle\\credit card fraud detection\\submission.csv\")\n",
    "submission"
   ],
   "metadata": {
    "collapsed": false,
    "pycharm": {
     "name": "#%%\n"
    }
   }
  },
  {
   "cell_type": "code",
   "execution_count": 4,
   "outputs": [
    {
     "ename": "ValueError",
     "evalue": "cannot insert ID, already exists",
     "output_type": "error",
     "traceback": [
      "\u001B[1;31m---------------------------------------------------------------------------\u001B[0m",
      "\u001B[1;31mValueError\u001B[0m                                Traceback (most recent call last)",
      "\u001B[1;32m~\\AppData\\Local\\Temp/ipykernel_19100/1206604703.py\u001B[0m in \u001B[0;36m<module>\u001B[1;34m\u001B[0m\n\u001B[0;32m      2\u001B[0m \u001B[1;32mfor\u001B[0m \u001B[0mi\u001B[0m \u001B[1;32min\u001B[0m \u001B[0mrange\u001B[0m\u001B[1;33m(\u001B[0m\u001B[1;36m198366\u001B[0m\u001B[1;33m,\u001B[0m \u001B[1;36m284808\u001B[0m\u001B[1;33m)\u001B[0m\u001B[1;33m:\u001B[0m\u001B[1;33m\u001B[0m\u001B[1;33m\u001B[0m\u001B[0m\n\u001B[0;32m      3\u001B[0m     \u001B[0mid\u001B[0m\u001B[1;33m.\u001B[0m\u001B[0mappend\u001B[0m\u001B[1;33m(\u001B[0m\u001B[0mi\u001B[0m\u001B[1;33m)\u001B[0m\u001B[1;33m\u001B[0m\u001B[1;33m\u001B[0m\u001B[0m\n\u001B[1;32m----> 4\u001B[1;33m \u001B[0msubmission\u001B[0m\u001B[1;33m.\u001B[0m\u001B[0minsert\u001B[0m\u001B[1;33m(\u001B[0m\u001B[1;36m0\u001B[0m\u001B[1;33m,\u001B[0m \u001B[1;34m'ID'\u001B[0m\u001B[1;33m,\u001B[0m \u001B[0mid\u001B[0m\u001B[1;33m)\u001B[0m\u001B[1;33m\u001B[0m\u001B[1;33m\u001B[0m\u001B[0m\n\u001B[0m\u001B[0;32m      5\u001B[0m \u001B[0msubmission\u001B[0m\u001B[1;33m\u001B[0m\u001B[1;33m\u001B[0m\u001B[0m\n",
      "\u001B[1;32md:\\my work\\kaggle\\credit card fraud detection\\venv\\lib\\site-packages\\pandas\\core\\frame.py\u001B[0m in \u001B[0;36minsert\u001B[1;34m(self, loc, column, value, allow_duplicates)\u001B[0m\n\u001B[0;32m   4407\u001B[0m         \u001B[1;32mif\u001B[0m \u001B[1;32mnot\u001B[0m \u001B[0mallow_duplicates\u001B[0m \u001B[1;32mand\u001B[0m \u001B[0mcolumn\u001B[0m \u001B[1;32min\u001B[0m \u001B[0mself\u001B[0m\u001B[1;33m.\u001B[0m\u001B[0mcolumns\u001B[0m\u001B[1;33m:\u001B[0m\u001B[1;33m\u001B[0m\u001B[1;33m\u001B[0m\u001B[0m\n\u001B[0;32m   4408\u001B[0m             \u001B[1;31m# Should this be a different kind of error??\u001B[0m\u001B[1;33m\u001B[0m\u001B[1;33m\u001B[0m\u001B[1;33m\u001B[0m\u001B[0m\n\u001B[1;32m-> 4409\u001B[1;33m             \u001B[1;32mraise\u001B[0m \u001B[0mValueError\u001B[0m\u001B[1;33m(\u001B[0m\u001B[1;34mf\"cannot insert {column}, already exists\"\u001B[0m\u001B[1;33m)\u001B[0m\u001B[1;33m\u001B[0m\u001B[1;33m\u001B[0m\u001B[0m\n\u001B[0m\u001B[0;32m   4410\u001B[0m         \u001B[1;32mif\u001B[0m \u001B[1;32mnot\u001B[0m \u001B[0misinstance\u001B[0m\u001B[1;33m(\u001B[0m\u001B[0mloc\u001B[0m\u001B[1;33m,\u001B[0m \u001B[0mint\u001B[0m\u001B[1;33m)\u001B[0m\u001B[1;33m:\u001B[0m\u001B[1;33m\u001B[0m\u001B[1;33m\u001B[0m\u001B[0m\n\u001B[0;32m   4411\u001B[0m             \u001B[1;32mraise\u001B[0m \u001B[0mTypeError\u001B[0m\u001B[1;33m(\u001B[0m\u001B[1;34m\"loc must be int\"\u001B[0m\u001B[1;33m)\u001B[0m\u001B[1;33m\u001B[0m\u001B[1;33m\u001B[0m\u001B[0m\n",
      "\u001B[1;31mValueError\u001B[0m: cannot insert ID, already exists"
     ]
    }
   ],
   "source": [
    "id = []\n",
    "for i in range(198366, 284808):\n",
    "    id.append(i)\n",
    "submission.insert(0, 'ID', id)\n"
   ],
   "metadata": {
    "collapsed": false,
    "pycharm": {
     "name": "#%%\n"
    }
   }
  },
  {
   "cell_type": "code",
   "execution_count": 6,
   "outputs": [],
   "source": [
    "submission.to_csv(\"final_submission.csv\")"
   ],
   "metadata": {
    "collapsed": false,
    "pycharm": {
     "name": "#%%\n"
    }
   }
  }
 ],
 "metadata": {
  "kernelspec": {
   "display_name": "Python 3",
   "language": "python",
   "name": "python3"
  },
  "language_info": {
   "codemirror_mode": {
    "name": "ipython",
    "version": 2
   },
   "file_extension": ".py",
   "mimetype": "text/x-python",
   "name": "python",
   "nbconvert_exporter": "python",
   "pygments_lexer": "ipython2",
   "version": "2.7.6"
  }
 },
 "nbformat": 4,
 "nbformat_minor": 0
}