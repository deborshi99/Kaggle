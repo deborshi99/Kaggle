{
 "cells": [
  {
   "cell_type": "code",
   "execution_count": 216,
   "metadata": {
    "collapsed": true
   },
   "outputs": [
    {
     "name": "stdout",
     "output_type": "stream",
     "text": [
      "data-science-london-scikit-learn.zip: Skipping, found more recently modified local copy (use --force to force download)\n"
     ]
    }
   ],
   "source": [
    "import kaggle\n",
    "!kaggle competitions download -c data-science-london-scikit-learn\n"
   ]
  },
  {
   "cell_type": "code",
   "execution_count": 217,
   "outputs": [],
   "source": [
    "import os\n",
    "from zipfile import ZipFile\n",
    "file = os.listdir()\n",
    "if \"data\" in file:\n",
    "    for i in file:\n",
    "        if i.endswith(\".zip\"):\n",
    "            file_path = os.getcwd() + \"/\"+ i\n",
    "            ZipFile(file_path).extractall(os.getcwd()+\"/data\")\n",
    "else:\n",
    "    for i in file:\n",
    "        if i.endswith(\".zip\"):\n",
    "            os.makedirs(os.getcwd() + \"/data\")\n",
    "            file_path = os.getcwd() + \"/\"+ i\n",
    "            ZipFile(file_path).extractall(os.getcwd()+\"/data\")"
   ],
   "metadata": {
    "collapsed": false,
    "pycharm": {
     "name": "#%%\n"
    }
   }
  },
  {
   "cell_type": "code",
   "execution_count": 218,
   "outputs": [],
   "source": [
    "import pandas as pd\n",
    "def fetch_data():\n",
    "    train_data = pd.read_csv(\"D:\\my work\\kaggle\\sickit learn\\data\\\\train.csv\", header=None)\n",
    "    test_data = pd.read_csv(\"D:\\my work\\kaggle\\sickit learn\\data\\\\test.csv\", header=None)\n",
    "    sub_data = pd.read_csv(\"D:\\my work\\kaggle\\sickit learn\\data\\\\trainLabels.csv\", header=None)\n",
    "    return  train_data, test_data, sub_data"
   ],
   "metadata": {
    "collapsed": false,
    "pycharm": {
     "name": "#%%\n"
    }
   }
  },
  {
   "cell_type": "code",
   "execution_count": 219,
   "outputs": [],
   "source": [
    "train_data, test_data, y_data = fetch_data()"
   ],
   "metadata": {
    "collapsed": false,
    "pycharm": {
     "name": "#%%\n"
    }
   }
  },
  {
   "cell_type": "code",
   "execution_count": 220,
   "outputs": [
    {
     "data": {
      "text/plain": "         0         1         2         3         4         5         6   \\\n0  0.299403 -1.226624  1.498425 -1.176150  5.289853  0.208297  2.404498   \n1 -1.174176  0.332157  0.949919 -1.285328  2.199061 -0.151268 -0.427039   \n2  1.192222 -0.414371  0.067054 -2.233568  3.658881  0.089007  0.203439   \n3  1.573270 -0.580318 -0.866332 -0.603812  3.125716  0.870321 -0.161992   \n4 -0.613071 -0.644204  1.112558 -0.032397  3.490142 -0.011935  1.443521   \n\n         7         8         9   ...        30        31        32        33  \\\n0  1.594506 -0.051608  0.663234  ... -0.850465 -0.622990 -1.833057  0.293024   \n1  2.619246 -0.765884 -0.093780  ... -0.819750  0.012037  2.038836  0.468579   \n2 -4.219054 -1.184919 -1.240310  ... -0.604501  0.750054 -3.360521  0.856988   \n3  4.499666  1.038741 -1.092716  ...  1.022959  1.275598 -3.480110 -1.065252   \n4 -4.290282 -1.761308  0.807652  ...  0.513906 -1.803473  0.518579 -0.205029   \n\n         34        35        36        37        38        39  \n0  3.552681  0.717611  3.305972 -2.715559 -2.682409  0.101050  \n1 -0.517657  0.422326  0.803699  1.213219  1.382932 -1.817761  \n2 -2.751451 -1.582735  1.672246  0.656438 -0.932473  2.987436  \n3  2.153133  1.563539  2.767117  0.215748  0.619645  1.883397  \n4 -4.744566 -1.520015  1.830651  0.870772 -1.894609  0.408332  \n\n[5 rows x 40 columns]",
      "text/html": "<div>\n<style scoped>\n    .dataframe tbody tr th:only-of-type {\n        vertical-align: middle;\n    }\n\n    .dataframe tbody tr th {\n        vertical-align: top;\n    }\n\n    .dataframe thead th {\n        text-align: right;\n    }\n</style>\n<table border=\"1\" class=\"dataframe\">\n  <thead>\n    <tr style=\"text-align: right;\">\n      <th></th>\n      <th>0</th>\n      <th>1</th>\n      <th>2</th>\n      <th>3</th>\n      <th>4</th>\n      <th>5</th>\n      <th>6</th>\n      <th>7</th>\n      <th>8</th>\n      <th>9</th>\n      <th>...</th>\n      <th>30</th>\n      <th>31</th>\n      <th>32</th>\n      <th>33</th>\n      <th>34</th>\n      <th>35</th>\n      <th>36</th>\n      <th>37</th>\n      <th>38</th>\n      <th>39</th>\n    </tr>\n  </thead>\n  <tbody>\n    <tr>\n      <th>0</th>\n      <td>0.299403</td>\n      <td>-1.226624</td>\n      <td>1.498425</td>\n      <td>-1.176150</td>\n      <td>5.289853</td>\n      <td>0.208297</td>\n      <td>2.404498</td>\n      <td>1.594506</td>\n      <td>-0.051608</td>\n      <td>0.663234</td>\n      <td>...</td>\n      <td>-0.850465</td>\n      <td>-0.622990</td>\n      <td>-1.833057</td>\n      <td>0.293024</td>\n      <td>3.552681</td>\n      <td>0.717611</td>\n      <td>3.305972</td>\n      <td>-2.715559</td>\n      <td>-2.682409</td>\n      <td>0.101050</td>\n    </tr>\n    <tr>\n      <th>1</th>\n      <td>-1.174176</td>\n      <td>0.332157</td>\n      <td>0.949919</td>\n      <td>-1.285328</td>\n      <td>2.199061</td>\n      <td>-0.151268</td>\n      <td>-0.427039</td>\n      <td>2.619246</td>\n      <td>-0.765884</td>\n      <td>-0.093780</td>\n      <td>...</td>\n      <td>-0.819750</td>\n      <td>0.012037</td>\n      <td>2.038836</td>\n      <td>0.468579</td>\n      <td>-0.517657</td>\n      <td>0.422326</td>\n      <td>0.803699</td>\n      <td>1.213219</td>\n      <td>1.382932</td>\n      <td>-1.817761</td>\n    </tr>\n    <tr>\n      <th>2</th>\n      <td>1.192222</td>\n      <td>-0.414371</td>\n      <td>0.067054</td>\n      <td>-2.233568</td>\n      <td>3.658881</td>\n      <td>0.089007</td>\n      <td>0.203439</td>\n      <td>-4.219054</td>\n      <td>-1.184919</td>\n      <td>-1.240310</td>\n      <td>...</td>\n      <td>-0.604501</td>\n      <td>0.750054</td>\n      <td>-3.360521</td>\n      <td>0.856988</td>\n      <td>-2.751451</td>\n      <td>-1.582735</td>\n      <td>1.672246</td>\n      <td>0.656438</td>\n      <td>-0.932473</td>\n      <td>2.987436</td>\n    </tr>\n    <tr>\n      <th>3</th>\n      <td>1.573270</td>\n      <td>-0.580318</td>\n      <td>-0.866332</td>\n      <td>-0.603812</td>\n      <td>3.125716</td>\n      <td>0.870321</td>\n      <td>-0.161992</td>\n      <td>4.499666</td>\n      <td>1.038741</td>\n      <td>-1.092716</td>\n      <td>...</td>\n      <td>1.022959</td>\n      <td>1.275598</td>\n      <td>-3.480110</td>\n      <td>-1.065252</td>\n      <td>2.153133</td>\n      <td>1.563539</td>\n      <td>2.767117</td>\n      <td>0.215748</td>\n      <td>0.619645</td>\n      <td>1.883397</td>\n    </tr>\n    <tr>\n      <th>4</th>\n      <td>-0.613071</td>\n      <td>-0.644204</td>\n      <td>1.112558</td>\n      <td>-0.032397</td>\n      <td>3.490142</td>\n      <td>-0.011935</td>\n      <td>1.443521</td>\n      <td>-4.290282</td>\n      <td>-1.761308</td>\n      <td>0.807652</td>\n      <td>...</td>\n      <td>0.513906</td>\n      <td>-1.803473</td>\n      <td>0.518579</td>\n      <td>-0.205029</td>\n      <td>-4.744566</td>\n      <td>-1.520015</td>\n      <td>1.830651</td>\n      <td>0.870772</td>\n      <td>-1.894609</td>\n      <td>0.408332</td>\n    </tr>\n  </tbody>\n</table>\n<p>5 rows × 40 columns</p>\n</div>"
     },
     "execution_count": 220,
     "metadata": {},
     "output_type": "execute_result"
    }
   ],
   "source": [
    "train_data.head()\n"
   ],
   "metadata": {
    "collapsed": false,
    "pycharm": {
     "name": "#%%\n"
    }
   }
  },
  {
   "cell_type": "code",
   "execution_count": 221,
   "outputs": [
    {
     "data": {
      "text/plain": "           0         1         2         3          4         5         6   \\\n0    0.299403 -1.226624  1.498425 -1.176150   5.289853  0.208297  2.404498   \n1   -1.174176  0.332157  0.949919 -1.285328   2.199061 -0.151268 -0.427039   \n2    1.192222 -0.414371  0.067054 -2.233568   3.658881  0.089007  0.203439   \n3    1.573270 -0.580318 -0.866332 -0.603812   3.125716  0.870321 -0.161992   \n4   -0.613071 -0.644204  1.112558 -0.032397   3.490142 -0.011935  1.443521   \n..        ...       ...       ...       ...        ...       ...       ...   \n995 -0.310429  0.826811 -0.952245  0.768850   1.877520  1.320646  1.944609   \n996 -1.853879  0.246726  0.459921 -2.074267   7.599220 -0.138355 -4.501900   \n997  0.912748 -1.734039 -1.047035  0.217573  13.457812  0.162771 -2.250521   \n998  2.439780 -0.735511 -0.902426  1.365036 -10.430299 -0.856859  2.686474   \n999  0.228994 -0.085453  0.876582  1.057401  -1.404015 -1.091965  0.639176   \n\n           7         8         9   ...        30        31        32  \\\n0    1.594506 -0.051608  0.663234  ... -0.850465 -0.622990 -1.833057   \n1    2.619246 -0.765884 -0.093780  ... -0.819750  0.012037  2.038836   \n2   -4.219054 -1.184919 -1.240310  ... -0.604501  0.750054 -3.360521   \n3    4.499666  1.038741 -1.092716  ...  1.022959  1.275598 -3.480110   \n4   -4.290282 -1.761308  0.807652  ...  0.513906 -1.803473  0.518579   \n..        ...       ...       ...  ...       ...       ...       ...   \n995  1.191420 -0.127724  0.070937  ... -0.600411 -0.383792  0.745596   \n996  0.630634 -1.590533 -1.112949  ...  0.361736  0.240052 -0.856196   \n997  2.216161 -0.378326  0.642114  ...  1.195896 -1.073806 -2.754369   \n998  0.292035  0.585388 -0.876965  ...  2.262326 -0.039488  0.773876   \n999  0.701332 -0.906577 -0.390940  ...  0.471415  1.024757 -1.796571   \n\n           33        34        35        36        37        38        39  \n0    0.293024  3.552681  0.717611  3.305972 -2.715559 -2.682409  0.101050  \n1    0.468579 -0.517657  0.422326  0.803699  1.213219  1.382932 -1.817761  \n2    0.856988 -2.751451 -1.582735  1.672246  0.656438 -0.932473  2.987436  \n3   -1.065252  2.153133  1.563539  2.767117  0.215748  0.619645  1.883397  \n4   -0.205029 -4.744566 -1.520015  1.830651  0.870772 -1.894609  0.408332  \n..        ...       ...       ...       ...       ...       ...       ...  \n995 -0.698598 -2.729937 -0.431535  0.372873  1.019092 -2.672811 -0.295141  \n996 -0.072481 -2.935896  0.582411 -2.613407  0.036687  2.809310  4.412567  \n997  1.814864 -4.190105 -1.116441 -2.100125  0.061513  0.895536  0.813686  \n998 -0.916066  2.604827 -0.649874 -3.423674  0.229748 -2.311088 -3.422217  \n999  0.603161  0.862705  0.747234  3.275681  0.400372 -3.431031  2.370080  \n\n[1000 rows x 40 columns]",
      "text/html": "<div>\n<style scoped>\n    .dataframe tbody tr th:only-of-type {\n        vertical-align: middle;\n    }\n\n    .dataframe tbody tr th {\n        vertical-align: top;\n    }\n\n    .dataframe thead th {\n        text-align: right;\n    }\n</style>\n<table border=\"1\" class=\"dataframe\">\n  <thead>\n    <tr style=\"text-align: right;\">\n      <th></th>\n      <th>0</th>\n      <th>1</th>\n      <th>2</th>\n      <th>3</th>\n      <th>4</th>\n      <th>5</th>\n      <th>6</th>\n      <th>7</th>\n      <th>8</th>\n      <th>9</th>\n      <th>...</th>\n      <th>30</th>\n      <th>31</th>\n      <th>32</th>\n      <th>33</th>\n      <th>34</th>\n      <th>35</th>\n      <th>36</th>\n      <th>37</th>\n      <th>38</th>\n      <th>39</th>\n    </tr>\n  </thead>\n  <tbody>\n    <tr>\n      <th>0</th>\n      <td>0.299403</td>\n      <td>-1.226624</td>\n      <td>1.498425</td>\n      <td>-1.176150</td>\n      <td>5.289853</td>\n      <td>0.208297</td>\n      <td>2.404498</td>\n      <td>1.594506</td>\n      <td>-0.051608</td>\n      <td>0.663234</td>\n      <td>...</td>\n      <td>-0.850465</td>\n      <td>-0.622990</td>\n      <td>-1.833057</td>\n      <td>0.293024</td>\n      <td>3.552681</td>\n      <td>0.717611</td>\n      <td>3.305972</td>\n      <td>-2.715559</td>\n      <td>-2.682409</td>\n      <td>0.101050</td>\n    </tr>\n    <tr>\n      <th>1</th>\n      <td>-1.174176</td>\n      <td>0.332157</td>\n      <td>0.949919</td>\n      <td>-1.285328</td>\n      <td>2.199061</td>\n      <td>-0.151268</td>\n      <td>-0.427039</td>\n      <td>2.619246</td>\n      <td>-0.765884</td>\n      <td>-0.093780</td>\n      <td>...</td>\n      <td>-0.819750</td>\n      <td>0.012037</td>\n      <td>2.038836</td>\n      <td>0.468579</td>\n      <td>-0.517657</td>\n      <td>0.422326</td>\n      <td>0.803699</td>\n      <td>1.213219</td>\n      <td>1.382932</td>\n      <td>-1.817761</td>\n    </tr>\n    <tr>\n      <th>2</th>\n      <td>1.192222</td>\n      <td>-0.414371</td>\n      <td>0.067054</td>\n      <td>-2.233568</td>\n      <td>3.658881</td>\n      <td>0.089007</td>\n      <td>0.203439</td>\n      <td>-4.219054</td>\n      <td>-1.184919</td>\n      <td>-1.240310</td>\n      <td>...</td>\n      <td>-0.604501</td>\n      <td>0.750054</td>\n      <td>-3.360521</td>\n      <td>0.856988</td>\n      <td>-2.751451</td>\n      <td>-1.582735</td>\n      <td>1.672246</td>\n      <td>0.656438</td>\n      <td>-0.932473</td>\n      <td>2.987436</td>\n    </tr>\n    <tr>\n      <th>3</th>\n      <td>1.573270</td>\n      <td>-0.580318</td>\n      <td>-0.866332</td>\n      <td>-0.603812</td>\n      <td>3.125716</td>\n      <td>0.870321</td>\n      <td>-0.161992</td>\n      <td>4.499666</td>\n      <td>1.038741</td>\n      <td>-1.092716</td>\n      <td>...</td>\n      <td>1.022959</td>\n      <td>1.275598</td>\n      <td>-3.480110</td>\n      <td>-1.065252</td>\n      <td>2.153133</td>\n      <td>1.563539</td>\n      <td>2.767117</td>\n      <td>0.215748</td>\n      <td>0.619645</td>\n      <td>1.883397</td>\n    </tr>\n    <tr>\n      <th>4</th>\n      <td>-0.613071</td>\n      <td>-0.644204</td>\n      <td>1.112558</td>\n      <td>-0.032397</td>\n      <td>3.490142</td>\n      <td>-0.011935</td>\n      <td>1.443521</td>\n      <td>-4.290282</td>\n      <td>-1.761308</td>\n      <td>0.807652</td>\n      <td>...</td>\n      <td>0.513906</td>\n      <td>-1.803473</td>\n      <td>0.518579</td>\n      <td>-0.205029</td>\n      <td>-4.744566</td>\n      <td>-1.520015</td>\n      <td>1.830651</td>\n      <td>0.870772</td>\n      <td>-1.894609</td>\n      <td>0.408332</td>\n    </tr>\n    <tr>\n      <th>...</th>\n      <td>...</td>\n      <td>...</td>\n      <td>...</td>\n      <td>...</td>\n      <td>...</td>\n      <td>...</td>\n      <td>...</td>\n      <td>...</td>\n      <td>...</td>\n      <td>...</td>\n      <td>...</td>\n      <td>...</td>\n      <td>...</td>\n      <td>...</td>\n      <td>...</td>\n      <td>...</td>\n      <td>...</td>\n      <td>...</td>\n      <td>...</td>\n      <td>...</td>\n      <td>...</td>\n    </tr>\n    <tr>\n      <th>995</th>\n      <td>-0.310429</td>\n      <td>0.826811</td>\n      <td>-0.952245</td>\n      <td>0.768850</td>\n      <td>1.877520</td>\n      <td>1.320646</td>\n      <td>1.944609</td>\n      <td>1.191420</td>\n      <td>-0.127724</td>\n      <td>0.070937</td>\n      <td>...</td>\n      <td>-0.600411</td>\n      <td>-0.383792</td>\n      <td>0.745596</td>\n      <td>-0.698598</td>\n      <td>-2.729937</td>\n      <td>-0.431535</td>\n      <td>0.372873</td>\n      <td>1.019092</td>\n      <td>-2.672811</td>\n      <td>-0.295141</td>\n    </tr>\n    <tr>\n      <th>996</th>\n      <td>-1.853879</td>\n      <td>0.246726</td>\n      <td>0.459921</td>\n      <td>-2.074267</td>\n      <td>7.599220</td>\n      <td>-0.138355</td>\n      <td>-4.501900</td>\n      <td>0.630634</td>\n      <td>-1.590533</td>\n      <td>-1.112949</td>\n      <td>...</td>\n      <td>0.361736</td>\n      <td>0.240052</td>\n      <td>-0.856196</td>\n      <td>-0.072481</td>\n      <td>-2.935896</td>\n      <td>0.582411</td>\n      <td>-2.613407</td>\n      <td>0.036687</td>\n      <td>2.809310</td>\n      <td>4.412567</td>\n    </tr>\n    <tr>\n      <th>997</th>\n      <td>0.912748</td>\n      <td>-1.734039</td>\n      <td>-1.047035</td>\n      <td>0.217573</td>\n      <td>13.457812</td>\n      <td>0.162771</td>\n      <td>-2.250521</td>\n      <td>2.216161</td>\n      <td>-0.378326</td>\n      <td>0.642114</td>\n      <td>...</td>\n      <td>1.195896</td>\n      <td>-1.073806</td>\n      <td>-2.754369</td>\n      <td>1.814864</td>\n      <td>-4.190105</td>\n      <td>-1.116441</td>\n      <td>-2.100125</td>\n      <td>0.061513</td>\n      <td>0.895536</td>\n      <td>0.813686</td>\n    </tr>\n    <tr>\n      <th>998</th>\n      <td>2.439780</td>\n      <td>-0.735511</td>\n      <td>-0.902426</td>\n      <td>1.365036</td>\n      <td>-10.430299</td>\n      <td>-0.856859</td>\n      <td>2.686474</td>\n      <td>0.292035</td>\n      <td>0.585388</td>\n      <td>-0.876965</td>\n      <td>...</td>\n      <td>2.262326</td>\n      <td>-0.039488</td>\n      <td>0.773876</td>\n      <td>-0.916066</td>\n      <td>2.604827</td>\n      <td>-0.649874</td>\n      <td>-3.423674</td>\n      <td>0.229748</td>\n      <td>-2.311088</td>\n      <td>-3.422217</td>\n    </tr>\n    <tr>\n      <th>999</th>\n      <td>0.228994</td>\n      <td>-0.085453</td>\n      <td>0.876582</td>\n      <td>1.057401</td>\n      <td>-1.404015</td>\n      <td>-1.091965</td>\n      <td>0.639176</td>\n      <td>0.701332</td>\n      <td>-0.906577</td>\n      <td>-0.390940</td>\n      <td>...</td>\n      <td>0.471415</td>\n      <td>1.024757</td>\n      <td>-1.796571</td>\n      <td>0.603161</td>\n      <td>0.862705</td>\n      <td>0.747234</td>\n      <td>3.275681</td>\n      <td>0.400372</td>\n      <td>-3.431031</td>\n      <td>2.370080</td>\n    </tr>\n  </tbody>\n</table>\n<p>1000 rows × 40 columns</p>\n</div>"
     },
     "execution_count": 221,
     "metadata": {},
     "output_type": "execute_result"
    }
   ],
   "source": [
    "train_data\n"
   ],
   "metadata": {
    "collapsed": false,
    "pycharm": {
     "name": "#%%\n"
    }
   }
  },
  {
   "cell_type": "code",
   "execution_count": 222,
   "outputs": [
    {
     "data": {
      "text/plain": "(1000, 40)"
     },
     "execution_count": 222,
     "metadata": {},
     "output_type": "execute_result"
    }
   ],
   "source": [
    "train_data.shape"
   ],
   "metadata": {
    "collapsed": false,
    "pycharm": {
     "name": "#%%\n"
    }
   }
  },
  {
   "cell_type": "code",
   "execution_count": 223,
   "outputs": [],
   "source": [
    "X_train = train_data.copy()\n",
    "y_train = y_data"
   ],
   "metadata": {
    "collapsed": false,
    "pycharm": {
     "name": "#%%\n"
    }
   }
  },
  {
   "cell_type": "code",
   "execution_count": 224,
   "outputs": [
    {
     "name": "stdout",
     "output_type": "stream",
     "text": [
      "<class 'pandas.core.frame.DataFrame'>\n",
      "RangeIndex: 1000 entries, 0 to 999\n",
      "Data columns (total 40 columns):\n",
      " #   Column  Non-Null Count  Dtype  \n",
      "---  ------  --------------  -----  \n",
      " 0   0       1000 non-null   float64\n",
      " 1   1       1000 non-null   float64\n",
      " 2   2       1000 non-null   float64\n",
      " 3   3       1000 non-null   float64\n",
      " 4   4       1000 non-null   float64\n",
      " 5   5       1000 non-null   float64\n",
      " 6   6       1000 non-null   float64\n",
      " 7   7       1000 non-null   float64\n",
      " 8   8       1000 non-null   float64\n",
      " 9   9       1000 non-null   float64\n",
      " 10  10      1000 non-null   float64\n",
      " 11  11      1000 non-null   float64\n",
      " 12  12      1000 non-null   float64\n",
      " 13  13      1000 non-null   float64\n",
      " 14  14      1000 non-null   float64\n",
      " 15  15      1000 non-null   float64\n",
      " 16  16      1000 non-null   float64\n",
      " 17  17      1000 non-null   float64\n",
      " 18  18      1000 non-null   float64\n",
      " 19  19      1000 non-null   float64\n",
      " 20  20      1000 non-null   float64\n",
      " 21  21      1000 non-null   float64\n",
      " 22  22      1000 non-null   float64\n",
      " 23  23      1000 non-null   float64\n",
      " 24  24      1000 non-null   float64\n",
      " 25  25      1000 non-null   float64\n",
      " 26  26      1000 non-null   float64\n",
      " 27  27      1000 non-null   float64\n",
      " 28  28      1000 non-null   float64\n",
      " 29  29      1000 non-null   float64\n",
      " 30  30      1000 non-null   float64\n",
      " 31  31      1000 non-null   float64\n",
      " 32  32      1000 non-null   float64\n",
      " 33  33      1000 non-null   float64\n",
      " 34  34      1000 non-null   float64\n",
      " 35  35      1000 non-null   float64\n",
      " 36  36      1000 non-null   float64\n",
      " 37  37      1000 non-null   float64\n",
      " 38  38      1000 non-null   float64\n",
      " 39  39      1000 non-null   float64\n",
      "dtypes: float64(40)\n",
      "memory usage: 312.6 KB\n"
     ]
    }
   ],
   "source": [
    "X_train.info()"
   ],
   "metadata": {
    "collapsed": false,
    "pycharm": {
     "name": "#%%\n"
    }
   }
  },
  {
   "cell_type": "code",
   "execution_count": 225,
   "outputs": [
    {
     "data": {
      "text/plain": "                0            1            2            3            4   \\\ncount  1000.000000  1000.000000  1000.000000  1000.000000  1000.000000   \nmean      0.025596    -0.024526    -0.024088    -0.002271     1.092329   \nstd       1.008282     1.016298     0.979109     0.970575     4.538834   \nmin      -3.365711    -3.492086    -2.695602    -3.460471   -16.421901   \n25%      -0.669010    -0.693937    -0.698830    -0.617557    -1.801997   \n50%       0.027895    -0.033194     0.008145     0.002327     0.862818   \n75%       0.762520     0.682753     0.661434     0.640743     3.843172   \nmax       3.326246     3.583870     2.546507     3.088738    17.565345   \n\n                5            6            7            8            9   ...  \\\ncount  1000.000000  1000.000000  1000.000000  1000.000000  1000.000000  ...   \nmean     -0.006250     0.497342    -0.037883     0.026391    -0.003597  ...   \nstd       0.989128     2.118819     2.232256     1.001064     1.013520  ...   \nmin      -3.041250    -7.224761    -6.509084    -3.145588    -2.749812  ...   \n25%      -0.732265    -0.838619    -1.604037    -0.677562    -0.682220  ...   \n50%       0.027041     0.582321     0.018809     0.022092    -0.036110  ...   \n75%       0.671456     1.913664     1.438304     0.741310     0.665364  ...   \nmax       3.102997     7.592666     7.130097     3.145258     3.919426  ...   \n\n                30           31           32           33           34  \\\ncount  1000.000000  1000.000000  1000.000000  1000.000000  1000.000000   \nmean      0.030651     0.022951    -0.542491    -0.011608    -0.483507   \nstd       1.011645     1.001375     2.239939     1.022456     2.121281   \nmin      -3.379194    -2.971125    -7.840890    -2.999564    -7.124105   \n25%      -0.659457    -0.696032    -2.121943    -0.664550    -1.879247   \n50%       0.049416     0.049778    -0.568262    -0.028097    -0.493575   \n75%       0.747031     0.699917     0.939348     0.651374     1.005795   \nmax       2.844792     3.688047     7.160379     3.353631     6.005818   \n\n                35           36           37           38           39  \ncount  1000.000000  1000.000000  1000.000000  1000.000000  1000.000000  \nmean      0.033371     0.567185     0.006849    -0.892659     0.609451  \nstd       1.007044     2.227876     0.997635     2.022022     2.045439  \nmin      -2.952358    -5.452254    -3.473913    -8.051722    -7.799086  \n25%      -0.642861    -1.059786    -0.691162    -2.220126    -0.565041  \n50%       0.037732     0.455474     0.038284    -0.855470     0.779944  \n75%       0.691800     2.122157     0.693535     0.388698     1.992193  \nmax       3.420561     6.603499     3.492548     5.774120     6.803984  \n\n[8 rows x 40 columns]",
      "text/html": "<div>\n<style scoped>\n    .dataframe tbody tr th:only-of-type {\n        vertical-align: middle;\n    }\n\n    .dataframe tbody tr th {\n        vertical-align: top;\n    }\n\n    .dataframe thead th {\n        text-align: right;\n    }\n</style>\n<table border=\"1\" class=\"dataframe\">\n  <thead>\n    <tr style=\"text-align: right;\">\n      <th></th>\n      <th>0</th>\n      <th>1</th>\n      <th>2</th>\n      <th>3</th>\n      <th>4</th>\n      <th>5</th>\n      <th>6</th>\n      <th>7</th>\n      <th>8</th>\n      <th>9</th>\n      <th>...</th>\n      <th>30</th>\n      <th>31</th>\n      <th>32</th>\n      <th>33</th>\n      <th>34</th>\n      <th>35</th>\n      <th>36</th>\n      <th>37</th>\n      <th>38</th>\n      <th>39</th>\n    </tr>\n  </thead>\n  <tbody>\n    <tr>\n      <th>count</th>\n      <td>1000.000000</td>\n      <td>1000.000000</td>\n      <td>1000.000000</td>\n      <td>1000.000000</td>\n      <td>1000.000000</td>\n      <td>1000.000000</td>\n      <td>1000.000000</td>\n      <td>1000.000000</td>\n      <td>1000.000000</td>\n      <td>1000.000000</td>\n      <td>...</td>\n      <td>1000.000000</td>\n      <td>1000.000000</td>\n      <td>1000.000000</td>\n      <td>1000.000000</td>\n      <td>1000.000000</td>\n      <td>1000.000000</td>\n      <td>1000.000000</td>\n      <td>1000.000000</td>\n      <td>1000.000000</td>\n      <td>1000.000000</td>\n    </tr>\n    <tr>\n      <th>mean</th>\n      <td>0.025596</td>\n      <td>-0.024526</td>\n      <td>-0.024088</td>\n      <td>-0.002271</td>\n      <td>1.092329</td>\n      <td>-0.006250</td>\n      <td>0.497342</td>\n      <td>-0.037883</td>\n      <td>0.026391</td>\n      <td>-0.003597</td>\n      <td>...</td>\n      <td>0.030651</td>\n      <td>0.022951</td>\n      <td>-0.542491</td>\n      <td>-0.011608</td>\n      <td>-0.483507</td>\n      <td>0.033371</td>\n      <td>0.567185</td>\n      <td>0.006849</td>\n      <td>-0.892659</td>\n      <td>0.609451</td>\n    </tr>\n    <tr>\n      <th>std</th>\n      <td>1.008282</td>\n      <td>1.016298</td>\n      <td>0.979109</td>\n      <td>0.970575</td>\n      <td>4.538834</td>\n      <td>0.989128</td>\n      <td>2.118819</td>\n      <td>2.232256</td>\n      <td>1.001064</td>\n      <td>1.013520</td>\n      <td>...</td>\n      <td>1.011645</td>\n      <td>1.001375</td>\n      <td>2.239939</td>\n      <td>1.022456</td>\n      <td>2.121281</td>\n      <td>1.007044</td>\n      <td>2.227876</td>\n      <td>0.997635</td>\n      <td>2.022022</td>\n      <td>2.045439</td>\n    </tr>\n    <tr>\n      <th>min</th>\n      <td>-3.365711</td>\n      <td>-3.492086</td>\n      <td>-2.695602</td>\n      <td>-3.460471</td>\n      <td>-16.421901</td>\n      <td>-3.041250</td>\n      <td>-7.224761</td>\n      <td>-6.509084</td>\n      <td>-3.145588</td>\n      <td>-2.749812</td>\n      <td>...</td>\n      <td>-3.379194</td>\n      <td>-2.971125</td>\n      <td>-7.840890</td>\n      <td>-2.999564</td>\n      <td>-7.124105</td>\n      <td>-2.952358</td>\n      <td>-5.452254</td>\n      <td>-3.473913</td>\n      <td>-8.051722</td>\n      <td>-7.799086</td>\n    </tr>\n    <tr>\n      <th>25%</th>\n      <td>-0.669010</td>\n      <td>-0.693937</td>\n      <td>-0.698830</td>\n      <td>-0.617557</td>\n      <td>-1.801997</td>\n      <td>-0.732265</td>\n      <td>-0.838619</td>\n      <td>-1.604037</td>\n      <td>-0.677562</td>\n      <td>-0.682220</td>\n      <td>...</td>\n      <td>-0.659457</td>\n      <td>-0.696032</td>\n      <td>-2.121943</td>\n      <td>-0.664550</td>\n      <td>-1.879247</td>\n      <td>-0.642861</td>\n      <td>-1.059786</td>\n      <td>-0.691162</td>\n      <td>-2.220126</td>\n      <td>-0.565041</td>\n    </tr>\n    <tr>\n      <th>50%</th>\n      <td>0.027895</td>\n      <td>-0.033194</td>\n      <td>0.008145</td>\n      <td>0.002327</td>\n      <td>0.862818</td>\n      <td>0.027041</td>\n      <td>0.582321</td>\n      <td>0.018809</td>\n      <td>0.022092</td>\n      <td>-0.036110</td>\n      <td>...</td>\n      <td>0.049416</td>\n      <td>0.049778</td>\n      <td>-0.568262</td>\n      <td>-0.028097</td>\n      <td>-0.493575</td>\n      <td>0.037732</td>\n      <td>0.455474</td>\n      <td>0.038284</td>\n      <td>-0.855470</td>\n      <td>0.779944</td>\n    </tr>\n    <tr>\n      <th>75%</th>\n      <td>0.762520</td>\n      <td>0.682753</td>\n      <td>0.661434</td>\n      <td>0.640743</td>\n      <td>3.843172</td>\n      <td>0.671456</td>\n      <td>1.913664</td>\n      <td>1.438304</td>\n      <td>0.741310</td>\n      <td>0.665364</td>\n      <td>...</td>\n      <td>0.747031</td>\n      <td>0.699917</td>\n      <td>0.939348</td>\n      <td>0.651374</td>\n      <td>1.005795</td>\n      <td>0.691800</td>\n      <td>2.122157</td>\n      <td>0.693535</td>\n      <td>0.388698</td>\n      <td>1.992193</td>\n    </tr>\n    <tr>\n      <th>max</th>\n      <td>3.326246</td>\n      <td>3.583870</td>\n      <td>2.546507</td>\n      <td>3.088738</td>\n      <td>17.565345</td>\n      <td>3.102997</td>\n      <td>7.592666</td>\n      <td>7.130097</td>\n      <td>3.145258</td>\n      <td>3.919426</td>\n      <td>...</td>\n      <td>2.844792</td>\n      <td>3.688047</td>\n      <td>7.160379</td>\n      <td>3.353631</td>\n      <td>6.005818</td>\n      <td>3.420561</td>\n      <td>6.603499</td>\n      <td>3.492548</td>\n      <td>5.774120</td>\n      <td>6.803984</td>\n    </tr>\n  </tbody>\n</table>\n<p>8 rows × 40 columns</p>\n</div>"
     },
     "execution_count": 225,
     "metadata": {},
     "output_type": "execute_result"
    }
   ],
   "source": [
    "X_train.describe()"
   ],
   "metadata": {
    "collapsed": false,
    "pycharm": {
     "name": "#%%\n"
    }
   }
  },
  {
   "cell_type": "code",
   "execution_count": 226,
   "outputs": [
    {
     "data": {
      "text/plain": "0     0\n1     0\n2     0\n3     0\n4     0\n5     0\n6     0\n7     0\n8     0\n9     0\n10    0\n11    0\n12    0\n13    0\n14    0\n15    0\n16    0\n17    0\n18    0\n19    0\n20    0\n21    0\n22    0\n23    0\n24    0\n25    0\n26    0\n27    0\n28    0\n29    0\n30    0\n31    0\n32    0\n33    0\n34    0\n35    0\n36    0\n37    0\n38    0\n39    0\ndtype: int64"
     },
     "execution_count": 226,
     "metadata": {},
     "output_type": "execute_result"
    }
   ],
   "source": [
    "X_train.isnull().sum()"
   ],
   "metadata": {
    "collapsed": false,
    "pycharm": {
     "name": "#%%\n"
    }
   }
  },
  {
   "cell_type": "code",
   "execution_count": 227,
   "outputs": [
    {
     "data": {
      "text/plain": "array([[<AxesSubplot:title={'center':'0'}>,\n        <AxesSubplot:title={'center':'1'}>,\n        <AxesSubplot:title={'center':'2'}>,\n        <AxesSubplot:title={'center':'3'}>,\n        <AxesSubplot:title={'center':'4'}>,\n        <AxesSubplot:title={'center':'5'}>],\n       [<AxesSubplot:title={'center':'6'}>,\n        <AxesSubplot:title={'center':'7'}>,\n        <AxesSubplot:title={'center':'8'}>,\n        <AxesSubplot:title={'center':'9'}>,\n        <AxesSubplot:title={'center':'10'}>,\n        <AxesSubplot:title={'center':'11'}>],\n       [<AxesSubplot:title={'center':'12'}>,\n        <AxesSubplot:title={'center':'13'}>,\n        <AxesSubplot:title={'center':'14'}>,\n        <AxesSubplot:title={'center':'15'}>,\n        <AxesSubplot:title={'center':'16'}>,\n        <AxesSubplot:title={'center':'17'}>],\n       [<AxesSubplot:title={'center':'18'}>,\n        <AxesSubplot:title={'center':'19'}>,\n        <AxesSubplot:title={'center':'20'}>,\n        <AxesSubplot:title={'center':'21'}>,\n        <AxesSubplot:title={'center':'22'}>,\n        <AxesSubplot:title={'center':'23'}>],\n       [<AxesSubplot:title={'center':'24'}>,\n        <AxesSubplot:title={'center':'25'}>,\n        <AxesSubplot:title={'center':'26'}>,\n        <AxesSubplot:title={'center':'27'}>,\n        <AxesSubplot:title={'center':'28'}>,\n        <AxesSubplot:title={'center':'29'}>],\n       [<AxesSubplot:title={'center':'30'}>,\n        <AxesSubplot:title={'center':'31'}>,\n        <AxesSubplot:title={'center':'32'}>,\n        <AxesSubplot:title={'center':'33'}>,\n        <AxesSubplot:title={'center':'34'}>,\n        <AxesSubplot:title={'center':'35'}>],\n       [<AxesSubplot:title={'center':'36'}>,\n        <AxesSubplot:title={'center':'37'}>,\n        <AxesSubplot:title={'center':'38'}>,\n        <AxesSubplot:title={'center':'39'}>, <AxesSubplot:>,\n        <AxesSubplot:>]], dtype=object)"
     },
     "execution_count": 227,
     "metadata": {},
     "output_type": "execute_result"
    },
    {
     "data": {
      "text/plain": "<Figure size 432x288 with 42 Axes>",
      "image/png": "[encoded data removed]"
     },
     "metadata": {
      "needs_background": "light"
     },
     "output_type": "display_data"
    }
   ],
   "source": [
    "import matplotlib.pyplot as plt\n",
    "X_train.hist(bins=50)"
   ],
   "metadata": {
    "collapsed": false,
    "pycharm": {
     "name": "#%%\n"
    }
   }
  },
  {
   "cell_type": "code",
   "execution_count": 228,
   "outputs": [
    {
     "data": {
      "text/plain": "           1         0         0         1         0         1         0  \\\n0  -0.029022  1.000000  1.000000 -0.029022  1.000000 -0.029022  1.000000   \n1   1.000000 -0.029022 -0.029022  1.000000 -0.029022  1.000000 -0.029022   \n2   0.014202  0.033437  0.033437  0.014202  0.033437  0.014202  0.033437   \n3   0.009663  0.012054  0.012054  0.009663  0.012054  0.009663  0.012054   \n4   0.044758 -0.022404 -0.022404  0.044758 -0.022404  0.044758 -0.022404   \n5  -0.034173  0.037209  0.037209 -0.034173  0.037209 -0.034173  0.037209   \n6  -0.008474  0.019134  0.019134 -0.008474  0.019134 -0.008474  0.019134   \n7   0.006568  0.015277  0.015277  0.006568  0.015277  0.006568  0.015277   \n8   0.039895 -0.045568 -0.045568  0.039895 -0.045568  0.039895 -0.045568   \n9   0.008368 -0.023777 -0.023777  0.008368 -0.023777  0.008368 -0.023777   \n10  0.022105 -0.037427 -0.037427  0.022105 -0.037427  0.022105 -0.037427   \n11 -0.034953  0.012477  0.012477 -0.034953  0.012477 -0.034953  0.012477   \n12 -0.065364 -0.004410 -0.004410 -0.065364 -0.004410 -0.065364 -0.004410   \n13 -0.039695  0.044999  0.044999 -0.039695  0.044999 -0.039695  0.044999   \n14 -0.069600  0.002984  0.002984 -0.069600  0.002984 -0.069600  0.002984   \n15 -0.001228  0.006890  0.006890 -0.001228  0.006890 -0.001228  0.006890   \n16 -0.033658  0.023151  0.023151 -0.033658  0.023151 -0.033658  0.023151   \n17  0.044709  0.039499  0.039499  0.044709  0.039499  0.044709  0.039499   \n18  0.018864 -0.051614 -0.051614  0.018864 -0.051614  0.018864 -0.051614   \n19  0.009298  0.004408  0.004408  0.009298  0.004408  0.009298  0.004408   \n20  0.021246 -0.001347 -0.001347  0.021246 -0.001347  0.021246 -0.001347   \n21  0.020263  0.016485  0.016485  0.020263  0.016485  0.020263  0.016485   \n22  0.044744  0.021047  0.021047  0.044744  0.021047  0.044744  0.021047   \n23  0.051050 -0.020664 -0.020664  0.051050 -0.020664  0.051050 -0.020664   \n24  0.020862 -0.028256 -0.028256  0.020862 -0.028256  0.020862 -0.028256   \n25  0.019272 -0.014671 -0.014671  0.019272 -0.014671  0.019272 -0.014671   \n26  0.010341  0.047728  0.047728  0.010341  0.047728  0.010341  0.047728   \n27 -0.002228 -0.060396 -0.060396 -0.002228 -0.060396 -0.002228 -0.060396   \n28 -0.067760  0.026154  0.026154 -0.067760  0.026154 -0.067760  0.026154   \n29 -0.010763  0.031174  0.031174 -0.010763  0.031174 -0.010763  0.031174   \n30 -0.000782  0.012446  0.012446 -0.000782  0.012446 -0.000782  0.012446   \n31 -0.052864  0.023033  0.023033 -0.052864  0.023033 -0.052864  0.023033   \n32  0.005583 -0.004701 -0.004701  0.005583 -0.004701  0.005583 -0.004701   \n33  0.009125  0.005180  0.005180  0.009125  0.005180  0.009125  0.005180   \n34 -0.026617  0.012961  0.012961 -0.026617  0.012961 -0.026617  0.012961   \n35  0.053087  0.047455  0.047455  0.053087  0.047455  0.053087  0.047455   \n36  0.039265 -0.026327 -0.026327  0.039265 -0.026327  0.039265 -0.026327   \n37  0.019537  0.038844  0.038844  0.019537  0.038844  0.019537  0.038844   \n38 -0.046295  0.016098  0.016098 -0.046295  0.016098 -0.046295  0.016098   \n39 -0.005667 -0.045840 -0.045840 -0.005667 -0.045840 -0.005667 -0.045840   \n\n           1         1         0  ...         1         1         1         1  \\\n0  -0.029022 -0.029022  1.000000  ... -0.029022 -0.029022 -0.029022 -0.029022   \n1   1.000000  1.000000 -0.029022  ...  1.000000  1.000000  1.000000  1.000000   \n2   0.014202  0.014202  0.033437  ...  0.014202  0.014202  0.014202  0.014202   \n3   0.009663  0.009663  0.012054  ...  0.009663  0.009663  0.009663  0.009663   \n4   0.044758  0.044758 -0.022404  ...  0.044758  0.044758  0.044758  0.044758   \n5  -0.034173 -0.034173  0.037209  ... -0.034173 -0.034173 -0.034173 -0.034173   \n6  -0.008474 -0.008474  0.019134  ... -0.008474 -0.008474 -0.008474 -0.008474   \n7   0.006568  0.006568  0.015277  ...  0.006568  0.006568  0.006568  0.006568   \n8   0.039895  0.039895 -0.045568  ...  0.039895  0.039895  0.039895  0.039895   \n9   0.008368  0.008368 -0.023777  ...  0.008368  0.008368  0.008368  0.008368   \n10  0.022105  0.022105 -0.037427  ...  0.022105  0.022105  0.022105  0.022105   \n11 -0.034953 -0.034953  0.012477  ... -0.034953 -0.034953 -0.034953 -0.034953   \n12 -0.065364 -0.065364 -0.004410  ... -0.065364 -0.065364 -0.065364 -0.065364   \n13 -0.039695 -0.039695  0.044999  ... -0.039695 -0.039695 -0.039695 -0.039695   \n14 -0.069600 -0.069600  0.002984  ... -0.069600 -0.069600 -0.069600 -0.069600   \n15 -0.001228 -0.001228  0.006890  ... -0.001228 -0.001228 -0.001228 -0.001228   \n16 -0.033658 -0.033658  0.023151  ... -0.033658 -0.033658 -0.033658 -0.033658   \n17  0.044709  0.044709  0.039499  ...  0.044709  0.044709  0.044709  0.044709   \n18  0.018864  0.018864 -0.051614  ...  0.018864  0.018864  0.018864  0.018864   \n19  0.009298  0.009298  0.004408  ...  0.009298  0.009298  0.009298  0.009298   \n20  0.021246  0.021246 -0.001347  ...  0.021246  0.021246  0.021246  0.021246   \n21  0.020263  0.020263  0.016485  ...  0.020263  0.020263  0.020263  0.020263   \n22  0.044744  0.044744  0.021047  ...  0.044744  0.044744  0.044744  0.044744   \n23  0.051050  0.051050 -0.020664  ...  0.051050  0.051050  0.051050  0.051050   \n24  0.020862  0.020862 -0.028256  ...  0.020862  0.020862  0.020862  0.020862   \n25  0.019272  0.019272 -0.014671  ...  0.019272  0.019272  0.019272  0.019272   \n26  0.010341  0.010341  0.047728  ...  0.010341  0.010341  0.010341  0.010341   \n27 -0.002228 -0.002228 -0.060396  ... -0.002228 -0.002228 -0.002228 -0.002228   \n28 -0.067760 -0.067760  0.026154  ... -0.067760 -0.067760 -0.067760 -0.067760   \n29 -0.010763 -0.010763  0.031174  ... -0.010763 -0.010763 -0.010763 -0.010763   \n30 -0.000782 -0.000782  0.012446  ... -0.000782 -0.000782 -0.000782 -0.000782   \n31 -0.052864 -0.052864  0.023033  ... -0.052864 -0.052864 -0.052864 -0.052864   \n32  0.005583  0.005583 -0.004701  ...  0.005583  0.005583  0.005583  0.005583   \n33  0.009125  0.009125  0.005180  ...  0.009125  0.009125  0.009125  0.009125   \n34 -0.026617 -0.026617  0.012961  ... -0.026617 -0.026617 -0.026617 -0.026617   \n35  0.053087  0.053087  0.047455  ...  0.053087  0.053087  0.053087  0.053087   \n36  0.039265  0.039265 -0.026327  ...  0.039265  0.039265  0.039265  0.039265   \n37  0.019537  0.019537  0.038844  ...  0.019537  0.019537  0.019537  0.019537   \n38 -0.046295 -0.046295  0.016098  ... -0.046295 -0.046295 -0.046295 -0.046295   \n39 -0.005667 -0.005667 -0.045840  ... -0.005667 -0.005667 -0.005667 -0.005667   \n\n           0         0         1         1         0         0  \n0   1.000000  1.000000 -0.029022 -0.029022  1.000000  1.000000  \n1  -0.029022 -0.029022  1.000000  1.000000 -0.029022 -0.029022  \n2   0.033437  0.033437  0.014202  0.014202  0.033437  0.033437  \n3   0.012054  0.012054  0.009663  0.009663  0.012054  0.012054  \n4  -0.022404 -0.022404  0.044758  0.044758 -0.022404 -0.022404  \n5   0.037209  0.037209 -0.034173 -0.034173  0.037209  0.037209  \n6   0.019134  0.019134 -0.008474 -0.008474  0.019134  0.019134  \n7   0.015277  0.015277  0.006568  0.006568  0.015277  0.015277  \n8  -0.045568 -0.045568  0.039895  0.039895 -0.045568 -0.045568  \n9  -0.023777 -0.023777  0.008368  0.008368 -0.023777 -0.023777  \n10 -0.037427 -0.037427  0.022105  0.022105 -0.037427 -0.037427  \n11  0.012477  0.012477 -0.034953 -0.034953  0.012477  0.012477  \n12 -0.004410 -0.004410 -0.065364 -0.065364 -0.004410 -0.004410  \n13  0.044999  0.044999 -0.039695 -0.039695  0.044999  0.044999  \n14  0.002984  0.002984 -0.069600 -0.069600  0.002984  0.002984  \n15  0.006890  0.006890 -0.001228 -0.001228  0.006890  0.006890  \n16  0.023151  0.023151 -0.033658 -0.033658  0.023151  0.023151  \n17  0.039499  0.039499  0.044709  0.044709  0.039499  0.039499  \n18 -0.051614 -0.051614  0.018864  0.018864 -0.051614 -0.051614  \n19  0.004408  0.004408  0.009298  0.009298  0.004408  0.004408  \n20 -0.001347 -0.001347  0.021246  0.021246 -0.001347 -0.001347  \n21  0.016485  0.016485  0.020263  0.020263  0.016485  0.016485  \n22  0.021047  0.021047  0.044744  0.044744  0.021047  0.021047  \n23 -0.020664 -0.020664  0.051050  0.051050 -0.020664 -0.020664  \n24 -0.028256 -0.028256  0.020862  0.020862 -0.028256 -0.028256  \n25 -0.014671 -0.014671  0.019272  0.019272 -0.014671 -0.014671  \n26  0.047728  0.047728  0.010341  0.010341  0.047728  0.047728  \n27 -0.060396 -0.060396 -0.002228 -0.002228 -0.060396 -0.060396  \n28  0.026154  0.026154 -0.067760 -0.067760  0.026154  0.026154  \n29  0.031174  0.031174 -0.010763 -0.010763  0.031174  0.031174  \n30  0.012446  0.012446 -0.000782 -0.000782  0.012446  0.012446  \n31  0.023033  0.023033 -0.052864 -0.052864  0.023033  0.023033  \n32 -0.004701 -0.004701  0.005583  0.005583 -0.004701 -0.004701  \n33  0.005180  0.005180  0.009125  0.009125  0.005180  0.005180  \n34  0.012961  0.012961 -0.026617 -0.026617  0.012961  0.012961  \n35  0.047455  0.047455  0.053087  0.053087  0.047455  0.047455  \n36 -0.026327 -0.026327  0.039265  0.039265 -0.026327 -0.026327  \n37  0.038844  0.038844  0.019537  0.019537  0.038844  0.038844  \n38  0.016098  0.016098 -0.046295 -0.046295  0.016098  0.016098  \n39 -0.045840 -0.045840 -0.005667 -0.005667 -0.045840 -0.045840  \n\n[40 rows x 1000 columns]",
      "text/html": "<div>\n<style scoped>\n    .dataframe tbody tr th:only-of-type {\n        vertical-align: middle;\n    }\n\n    .dataframe tbody tr th {\n        vertical-align: top;\n    }\n\n    .dataframe thead th {\n        text-align: right;\n    }\n</style>\n<table border=\"1\" class=\"dataframe\">\n  <thead>\n    <tr style=\"text-align: right;\">\n      <th></th>\n      <th>1</th>\n      <th>0</th>\n      <th>0</th>\n      <th>1</th>\n      <th>0</th>\n      <th>1</th>\n      <th>0</th>\n      <th>1</th>\n      <th>1</th>\n      <th>0</th>\n      <th>...</th>\n      <th>1</th>\n      <th>1</th>\n      <th>1</th>\n      <th>1</th>\n      <th>0</th>\n      <th>0</th>\n      <th>1</th>\n      <th>1</th>\n      <th>0</th>\n      <th>0</th>\n    </tr>\n  </thead>\n  <tbody>\n    <tr>\n      <th>0</th>\n      <td>-0.029022</td>\n      <td>1.000000</td>\n      <td>1.000000</td>\n      <td>-0.029022</td>\n      <td>1.000000</td>\n      <td>-0.029022</td>\n      <td>1.000000</td>\n      <td>-0.029022</td>\n      <td>-0.029022</td>\n      <td>1.000000</td>\n      <td>...</td>\n      <td>-0.029022</td>\n      <td>-0.029022</td>\n      <td>-0.029022</td>\n      <td>-0.029022</td>\n      <td>1.000000</td>\n      <td>1.000000</td>\n      <td>-0.029022</td>\n      <td>-0.029022</td>\n      <td>1.000000</td>\n      <td>1.000000</td>\n    </tr>\n    <tr>\n      <th>1</th>\n      <td>1.000000</td>\n      <td>-0.029022</td>\n      <td>-0.029022</td>\n      <td>1.000000</td>\n      <td>-0.029022</td>\n      <td>1.000000</td>\n      <td>-0.029022</td>\n      <td>1.000000</td>\n      <td>1.000000</td>\n      <td>-0.029022</td>\n      <td>...</td>\n      <td>1.000000</td>\n      <td>1.000000</td>\n      <td>1.000000</td>\n      <td>1.000000</td>\n      <td>-0.029022</td>\n      <td>-0.029022</td>\n      <td>1.000000</td>\n      <td>1.000000</td>\n      <td>-0.029022</td>\n      <td>-0.029022</td>\n    </tr>\n    <tr>\n      <th>2</th>\n      <td>0.014202</td>\n      <td>0.033437</td>\n      <td>0.033437</td>\n      <td>0.014202</td>\n      <td>0.033437</td>\n      <td>0.014202</td>\n      <td>0.033437</td>\n      <td>0.014202</td>\n      <td>0.014202</td>\n      <td>0.033437</td>\n      <td>...</td>\n      <td>0.014202</td>\n      <td>0.014202</td>\n      <td>0.014202</td>\n      <td>0.014202</td>\n      <td>0.033437</td>\n      <td>0.033437</td>\n      <td>0.014202</td>\n      <td>0.014202</td>\n      <td>0.033437</td>\n      <td>0.033437</td>\n    </tr>\n    <tr>\n      <th>3</th>\n      <td>0.009663</td>\n      <td>0.012054</td>\n      <td>0.012054</td>\n      <td>0.009663</td>\n      <td>0.012054</td>\n      <td>0.009663</td>\n      <td>0.012054</td>\n      <td>0.009663</td>\n      <td>0.009663</td>\n      <td>0.012054</td>\n      <td>...</td>\n      <td>0.009663</td>\n      <td>0.009663</td>\n      <td>0.009663</td>\n      <td>0.009663</td>\n      <td>0.012054</td>\n      <td>0.012054</td>\n      <td>0.009663</td>\n      <td>0.009663</td>\n      <td>0.012054</td>\n      <td>0.012054</td>\n    </tr>\n    <tr>\n      <th>4</th>\n      <td>0.044758</td>\n      <td>-0.022404</td>\n      <td>-0.022404</td>\n      <td>0.044758</td>\n      <td>-0.022404</td>\n      <td>0.044758</td>\n      <td>-0.022404</td>\n      <td>0.044758</td>\n      <td>0.044758</td>\n      <td>-0.022404</td>\n      <td>...</td>\n      <td>0.044758</td>\n      <td>0.044758</td>\n      <td>0.044758</td>\n      <td>0.044758</td>\n      <td>-0.022404</td>\n      <td>-0.022404</td>\n      <td>0.044758</td>\n      <td>0.044758</td>\n      <td>-0.022404</td>\n      <td>-0.022404</td>\n    </tr>\n    <tr>\n      <th>5</th>\n      <td>-0.034173</td>\n      <td>0.037209</td>\n      <td>0.037209</td>\n      <td>-0.034173</td>\n      <td>0.037209</td>\n      <td>-0.034173</td>\n      <td>0.037209</td>\n      <td>-0.034173</td>\n      <td>-0.034173</td>\n      <td>0.037209</td>\n      <td>...</td>\n      <td>-0.034173</td>\n      <td>-0.034173</td>\n      <td>-0.034173</td>\n      <td>-0.034173</td>\n      <td>0.037209</td>\n      <td>0.037209</td>\n      <td>-0.034173</td>\n      <td>-0.034173</td>\n      <td>0.037209</td>\n      <td>0.037209</td>\n    </tr>\n    <tr>\n      <th>6</th>\n      <td>-0.008474</td>\n      <td>0.019134</td>\n      <td>0.019134</td>\n      <td>-0.008474</td>\n      <td>0.019134</td>\n      <td>-0.008474</td>\n      <td>0.019134</td>\n      <td>-0.008474</td>\n      <td>-0.008474</td>\n      <td>0.019134</td>\n      <td>...</td>\n      <td>-0.008474</td>\n      <td>-0.008474</td>\n      <td>-0.008474</td>\n      <td>-0.008474</td>\n      <td>0.019134</td>\n      <td>0.019134</td>\n      <td>-0.008474</td>\n      <td>-0.008474</td>\n      <td>0.019134</td>\n      <td>0.019134</td>\n    </tr>\n    <tr>\n      <th>7</th>\n      <td>0.006568</td>\n      <td>0.015277</td>\n      <td>0.015277</td>\n      <td>0.006568</td>\n      <td>0.015277</td>\n      <td>0.006568</td>\n      <td>0.015277</td>\n      <td>0.006568</td>\n      <td>0.006568</td>\n      <td>0.015277</td>\n      <td>...</td>\n      <td>0.006568</td>\n      <td>0.006568</td>\n      <td>0.006568</td>\n      <td>0.006568</td>\n      <td>0.015277</td>\n      <td>0.015277</td>\n      <td>0.006568</td>\n      <td>0.006568</td>\n      <td>0.015277</td>\n      <td>0.015277</td>\n    </tr>\n    <tr>\n      <th>8</th>\n      <td>0.039895</td>\n      <td>-0.045568</td>\n      <td>-0.045568</td>\n      <td>0.039895</td>\n      <td>-0.045568</td>\n      <td>0.039895</td>\n      <td>-0.045568</td>\n      <td>0.039895</td>\n      <td>0.039895</td>\n      <td>-0.045568</td>\n      <td>...</td>\n      <td>0.039895</td>\n      <td>0.039895</td>\n      <td>0.039895</td>\n      <td>0.039895</td>\n      <td>-0.045568</td>\n      <td>-0.045568</td>\n      <td>0.039895</td>\n      <td>0.039895</td>\n      <td>-0.045568</td>\n      <td>-0.045568</td>\n    </tr>\n    <tr>\n      <th>9</th>\n      <td>0.008368</td>\n      <td>-0.023777</td>\n      <td>-0.023777</td>\n      <td>0.008368</td>\n      <td>-0.023777</td>\n      <td>0.008368</td>\n      <td>-0.023777</td>\n      <td>0.008368</td>\n      <td>0.008368</td>\n      <td>-0.023777</td>\n      <td>...</td>\n      <td>0.008368</td>\n      <td>0.008368</td>\n      <td>0.008368</td>\n      <td>0.008368</td>\n      <td>-0.023777</td>\n      <td>-0.023777</td>\n      <td>0.008368</td>\n      <td>0.008368</td>\n      <td>-0.023777</td>\n      <td>-0.023777</td>\n    </tr>\n    <tr>\n      <th>10</th>\n      <td>0.022105</td>\n      <td>-0.037427</td>\n      <td>-0.037427</td>\n      <td>0.022105</td>\n      <td>-0.037427</td>\n      <td>0.022105</td>\n      <td>-0.037427</td>\n      <td>0.022105</td>\n      <td>0.022105</td>\n      <td>-0.037427</td>\n      <td>...</td>\n      <td>0.022105</td>\n      <td>0.022105</td>\n      <td>0.022105</td>\n      <td>0.022105</td>\n      <td>-0.037427</td>\n      <td>-0.037427</td>\n      <td>0.022105</td>\n      <td>0.022105</td>\n      <td>-0.037427</td>\n      <td>-0.037427</td>\n    </tr>\n    <tr>\n      <th>11</th>\n      <td>-0.034953</td>\n      <td>0.012477</td>\n      <td>0.012477</td>\n      <td>-0.034953</td>\n      <td>0.012477</td>\n      <td>-0.034953</td>\n      <td>0.012477</td>\n      <td>-0.034953</td>\n      <td>-0.034953</td>\n      <td>0.012477</td>\n      <td>...</td>\n      <td>-0.034953</td>\n      <td>-0.034953</td>\n      <td>-0.034953</td>\n      <td>-0.034953</td>\n      <td>0.012477</td>\n      <td>0.012477</td>\n      <td>-0.034953</td>\n      <td>-0.034953</td>\n      <td>0.012477</td>\n      <td>0.012477</td>\n    </tr>\n    <tr>\n      <th>12</th>\n      <td>-0.065364</td>\n      <td>-0.004410</td>\n      <td>-0.004410</td>\n      <td>-0.065364</td>\n      <td>-0.004410</td>\n      <td>-0.065364</td>\n      <td>-0.004410</td>\n      <td>-0.065364</td>\n      <td>-0.065364</td>\n      <td>-0.004410</td>\n      <td>...</td>\n      <td>-0.065364</td>\n      <td>-0.065364</td>\n      <td>-0.065364</td>\n      <td>-0.065364</td>\n      <td>-0.004410</td>\n      <td>-0.004410</td>\n      <td>-0.065364</td>\n      <td>-0.065364</td>\n      <td>-0.004410</td>\n      <td>-0.004410</td>\n    </tr>\n    <tr>\n      <th>13</th>\n      <td>-0.039695</td>\n      <td>0.044999</td>\n      <td>0.044999</td>\n      <td>-0.039695</td>\n      <td>0.044999</td>\n      <td>-0.039695</td>\n      <td>0.044999</td>\n      <td>-0.039695</td>\n      <td>-0.039695</td>\n      <td>0.044999</td>\n      <td>...</td>\n      <td>-0.039695</td>\n      <td>-0.039695</td>\n      <td>-0.039695</td>\n      <td>-0.039695</td>\n      <td>0.044999</td>\n      <td>0.044999</td>\n      <td>-0.039695</td>\n      <td>-0.039695</td>\n      <td>0.044999</td>\n      <td>0.044999</td>\n    </tr>\n    <tr>\n      <th>14</th>\n      <td>-0.069600</td>\n      <td>0.002984</td>\n      <td>0.002984</td>\n      <td>-0.069600</td>\n      <td>0.002984</td>\n      <td>-0.069600</td>\n      <td>0.002984</td>\n      <td>-0.069600</td>\n      <td>-0.069600</td>\n      <td>0.002984</td>\n      <td>...</td>\n      <td>-0.069600</td>\n      <td>-0.069600</td>\n      <td>-0.069600</td>\n      <td>-0.069600</td>\n      <td>0.002984</td>\n      <td>0.002984</td>\n      <td>-0.069600</td>\n      <td>-0.069600</td>\n      <td>0.002984</td>\n      <td>0.002984</td>\n    </tr>\n    <tr>\n      <th>15</th>\n      <td>-0.001228</td>\n      <td>0.006890</td>\n      <td>0.006890</td>\n      <td>-0.001228</td>\n      <td>0.006890</td>\n      <td>-0.001228</td>\n      <td>0.006890</td>\n      <td>-0.001228</td>\n      <td>-0.001228</td>\n      <td>0.006890</td>\n      <td>...</td>\n      <td>-0.001228</td>\n      <td>-0.001228</td>\n      <td>-0.001228</td>\n      <td>-0.001228</td>\n      <td>0.006890</td>\n      <td>0.006890</td>\n      <td>-0.001228</td>\n      <td>-0.001228</td>\n      <td>0.006890</td>\n      <td>0.006890</td>\n    </tr>\n    <tr>\n      <th>16</th>\n      <td>-0.033658</td>\n      <td>0.023151</td>\n      <td>0.023151</td>\n      <td>-0.033658</td>\n      <td>0.023151</td>\n      <td>-0.033658</td>\n      <td>0.023151</td>\n      <td>-0.033658</td>\n      <td>-0.033658</td>\n      <td>0.023151</td>\n      <td>...</td>\n      <td>-0.033658</td>\n      <td>-0.033658</td>\n      <td>-0.033658</td>\n      <td>-0.033658</td>\n      <td>0.023151</td>\n      <td>0.023151</td>\n      <td>-0.033658</td>\n      <td>-0.033658</td>\n      <td>0.023151</td>\n      <td>0.023151</td>\n    </tr>\n    <tr>\n      <th>17</th>\n      <td>0.044709</td>\n      <td>0.039499</td>\n      <td>0.039499</td>\n      <td>0.044709</td>\n      <td>0.039499</td>\n      <td>0.044709</td>\n      <td>0.039499</td>\n      <td>0.044709</td>\n      <td>0.044709</td>\n      <td>0.039499</td>\n      <td>...</td>\n      <td>0.044709</td>\n      <td>0.044709</td>\n      <td>0.044709</td>\n      <td>0.044709</td>\n      <td>0.039499</td>\n      <td>0.039499</td>\n      <td>0.044709</td>\n      <td>0.044709</td>\n      <td>0.039499</td>\n      <td>0.039499</td>\n    </tr>\n    <tr>\n      <th>18</th>\n      <td>0.018864</td>\n      <td>-0.051614</td>\n      <td>-0.051614</td>\n      <td>0.018864</td>\n      <td>-0.051614</td>\n      <td>0.018864</td>\n      <td>-0.051614</td>\n      <td>0.018864</td>\n      <td>0.018864</td>\n      <td>-0.051614</td>\n      <td>...</td>\n      <td>0.018864</td>\n      <td>0.018864</td>\n      <td>0.018864</td>\n      <td>0.018864</td>\n      <td>-0.051614</td>\n      <td>-0.051614</td>\n      <td>0.018864</td>\n      <td>0.018864</td>\n      <td>-0.051614</td>\n      <td>-0.051614</td>\n    </tr>\n    <tr>\n      <th>19</th>\n      <td>0.009298</td>\n      <td>0.004408</td>\n      <td>0.004408</td>\n      <td>0.009298</td>\n      <td>0.004408</td>\n      <td>0.009298</td>\n      <td>0.004408</td>\n      <td>0.009298</td>\n      <td>0.009298</td>\n      <td>0.004408</td>\n      <td>...</td>\n      <td>0.009298</td>\n      <td>0.009298</td>\n      <td>0.009298</td>\n      <td>0.009298</td>\n      <td>0.004408</td>\n      <td>0.004408</td>\n      <td>0.009298</td>\n      <td>0.009298</td>\n      <td>0.004408</td>\n      <td>0.004408</td>\n    </tr>\n    <tr>\n      <th>20</th>\n      <td>0.021246</td>\n      <td>-0.001347</td>\n      <td>-0.001347</td>\n      <td>0.021246</td>\n      <td>-0.001347</td>\n      <td>0.021246</td>\n      <td>-0.001347</td>\n      <td>0.021246</td>\n      <td>0.021246</td>\n      <td>-0.001347</td>\n      <td>...</td>\n      <td>0.021246</td>\n      <td>0.021246</td>\n      <td>0.021246</td>\n      <td>0.021246</td>\n      <td>-0.001347</td>\n      <td>-0.001347</td>\n      <td>0.021246</td>\n      <td>0.021246</td>\n      <td>-0.001347</td>\n      <td>-0.001347</td>\n    </tr>\n    <tr>\n      <th>21</th>\n      <td>0.020263</td>\n      <td>0.016485</td>\n      <td>0.016485</td>\n      <td>0.020263</td>\n      <td>0.016485</td>\n      <td>0.020263</td>\n      <td>0.016485</td>\n      <td>0.020263</td>\n      <td>0.020263</td>\n      <td>0.016485</td>\n      <td>...</td>\n      <td>0.020263</td>\n      <td>0.020263</td>\n      <td>0.020263</td>\n      <td>0.020263</td>\n      <td>0.016485</td>\n      <td>0.016485</td>\n      <td>0.020263</td>\n      <td>0.020263</td>\n      <td>0.016485</td>\n      <td>0.016485</td>\n    </tr>\n    <tr>\n      <th>22</th>\n      <td>0.044744</td>\n      <td>0.021047</td>\n      <td>0.021047</td>\n      <td>0.044744</td>\n      <td>0.021047</td>\n      <td>0.044744</td>\n      <td>0.021047</td>\n      <td>0.044744</td>\n      <td>0.044744</td>\n      <td>0.021047</td>\n      <td>...</td>\n      <td>0.044744</td>\n      <td>0.044744</td>\n      <td>0.044744</td>\n      <td>0.044744</td>\n      <td>0.021047</td>\n      <td>0.021047</td>\n      <td>0.044744</td>\n      <td>0.044744</td>\n      <td>0.021047</td>\n      <td>0.021047</td>\n    </tr>\n    <tr>\n      <th>23</th>\n      <td>0.051050</td>\n      <td>-0.020664</td>\n      <td>-0.020664</td>\n      <td>0.051050</td>\n      <td>-0.020664</td>\n      <td>0.051050</td>\n      <td>-0.020664</td>\n      <td>0.051050</td>\n      <td>0.051050</td>\n      <td>-0.020664</td>\n      <td>...</td>\n      <td>0.051050</td>\n      <td>0.051050</td>\n      <td>0.051050</td>\n      <td>0.051050</td>\n      <td>-0.020664</td>\n      <td>-0.020664</td>\n      <td>0.051050</td>\n      <td>0.051050</td>\n      <td>-0.020664</td>\n      <td>-0.020664</td>\n    </tr>\n    <tr>\n      <th>24</th>\n      <td>0.020862</td>\n      <td>-0.028256</td>\n      <td>-0.028256</td>\n      <td>0.020862</td>\n      <td>-0.028256</td>\n      <td>0.020862</td>\n      <td>-0.028256</td>\n      <td>0.020862</td>\n      <td>0.020862</td>\n      <td>-0.028256</td>\n      <td>...</td>\n      <td>0.020862</td>\n      <td>0.020862</td>\n      <td>0.020862</td>\n      <td>0.020862</td>\n      <td>-0.028256</td>\n      <td>-0.028256</td>\n      <td>0.020862</td>\n      <td>0.020862</td>\n      <td>-0.028256</td>\n      <td>-0.028256</td>\n    </tr>\n    <tr>\n      <th>25</th>\n      <td>0.019272</td>\n      <td>-0.014671</td>\n      <td>-0.014671</td>\n      <td>0.019272</td>\n      <td>-0.014671</td>\n      <td>0.019272</td>\n      <td>-0.014671</td>\n      <td>0.019272</td>\n      <td>0.019272</td>\n      <td>-0.014671</td>\n      <td>...</td>\n      <td>0.019272</td>\n      <td>0.019272</td>\n      <td>0.019272</td>\n      <td>0.019272</td>\n      <td>-0.014671</td>\n      <td>-0.014671</td>\n      <td>0.019272</td>\n      <td>0.019272</td>\n      <td>-0.014671</td>\n      <td>-0.014671</td>\n    </tr>\n    <tr>\n      <th>26</th>\n      <td>0.010341</td>\n      <td>0.047728</td>\n      <td>0.047728</td>\n      <td>0.010341</td>\n      <td>0.047728</td>\n      <td>0.010341</td>\n      <td>0.047728</td>\n      <td>0.010341</td>\n      <td>0.010341</td>\n      <td>0.047728</td>\n      <td>...</td>\n      <td>0.010341</td>\n      <td>0.010341</td>\n      <td>0.010341</td>\n      <td>0.010341</td>\n      <td>0.047728</td>\n      <td>0.047728</td>\n      <td>0.010341</td>\n      <td>0.010341</td>\n      <td>0.047728</td>\n      <td>0.047728</td>\n    </tr>\n    <tr>\n      <th>27</th>\n      <td>-0.002228</td>\n      <td>-0.060396</td>\n      <td>-0.060396</td>\n      <td>-0.002228</td>\n      <td>-0.060396</td>\n      <td>-0.002228</td>\n      <td>-0.060396</td>\n      <td>-0.002228</td>\n      <td>-0.002228</td>\n      <td>-0.060396</td>\n      <td>...</td>\n      <td>-0.002228</td>\n      <td>-0.002228</td>\n      <td>-0.002228</td>\n      <td>-0.002228</td>\n      <td>-0.060396</td>\n      <td>-0.060396</td>\n      <td>-0.002228</td>\n      <td>-0.002228</td>\n      <td>-0.060396</td>\n      <td>-0.060396</td>\n    </tr>\n    <tr>\n      <th>28</th>\n      <td>-0.067760</td>\n      <td>0.026154</td>\n      <td>0.026154</td>\n      <td>-0.067760</td>\n      <td>0.026154</td>\n      <td>-0.067760</td>\n      <td>0.026154</td>\n      <td>-0.067760</td>\n      <td>-0.067760</td>\n      <td>0.026154</td>\n      <td>...</td>\n      <td>-0.067760</td>\n      <td>-0.067760</td>\n      <td>-0.067760</td>\n      <td>-0.067760</td>\n      <td>0.026154</td>\n      <td>0.026154</td>\n      <td>-0.067760</td>\n      <td>-0.067760</td>\n      <td>0.026154</td>\n      <td>0.026154</td>\n    </tr>\n    <tr>\n      <th>29</th>\n      <td>-0.010763</td>\n      <td>0.031174</td>\n      <td>0.031174</td>\n      <td>-0.010763</td>\n      <td>0.031174</td>\n      <td>-0.010763</td>\n      <td>0.031174</td>\n      <td>-0.010763</td>\n      <td>-0.010763</td>\n      <td>0.031174</td>\n      <td>...</td>\n      <td>-0.010763</td>\n      <td>-0.010763</td>\n      <td>-0.010763</td>\n      <td>-0.010763</td>\n      <td>0.031174</td>\n      <td>0.031174</td>\n      <td>-0.010763</td>\n      <td>-0.010763</td>\n      <td>0.031174</td>\n      <td>0.031174</td>\n    </tr>\n    <tr>\n      <th>30</th>\n      <td>-0.000782</td>\n      <td>0.012446</td>\n      <td>0.012446</td>\n      <td>-0.000782</td>\n      <td>0.012446</td>\n      <td>-0.000782</td>\n      <td>0.012446</td>\n      <td>-0.000782</td>\n      <td>-0.000782</td>\n      <td>0.012446</td>\n      <td>...</td>\n      <td>-0.000782</td>\n      <td>-0.000782</td>\n      <td>-0.000782</td>\n      <td>-0.000782</td>\n      <td>0.012446</td>\n      <td>0.012446</td>\n      <td>-0.000782</td>\n      <td>-0.000782</td>\n      <td>0.012446</td>\n      <td>0.012446</td>\n    </tr>\n    <tr>\n      <th>31</th>\n      <td>-0.052864</td>\n      <td>0.023033</td>\n      <td>0.023033</td>\n      <td>-0.052864</td>\n      <td>0.023033</td>\n      <td>-0.052864</td>\n      <td>0.023033</td>\n      <td>-0.052864</td>\n      <td>-0.052864</td>\n      <td>0.023033</td>\n      <td>...</td>\n      <td>-0.052864</td>\n      <td>-0.052864</td>\n      <td>-0.052864</td>\n      <td>-0.052864</td>\n      <td>0.023033</td>\n      <td>0.023033</td>\n      <td>-0.052864</td>\n      <td>-0.052864</td>\n      <td>0.023033</td>\n      <td>0.023033</td>\n    </tr>\n    <tr>\n      <th>32</th>\n      <td>0.005583</td>\n      <td>-0.004701</td>\n      <td>-0.004701</td>\n      <td>0.005583</td>\n      <td>-0.004701</td>\n      <td>0.005583</td>\n      <td>-0.004701</td>\n      <td>0.005583</td>\n      <td>0.005583</td>\n      <td>-0.004701</td>\n      <td>...</td>\n      <td>0.005583</td>\n      <td>0.005583</td>\n      <td>0.005583</td>\n      <td>0.005583</td>\n      <td>-0.004701</td>\n      <td>-0.004701</td>\n      <td>0.005583</td>\n      <td>0.005583</td>\n      <td>-0.004701</td>\n      <td>-0.004701</td>\n    </tr>\n    <tr>\n      <th>33</th>\n      <td>0.009125</td>\n      <td>0.005180</td>\n      <td>0.005180</td>\n      <td>0.009125</td>\n      <td>0.005180</td>\n      <td>0.009125</td>\n      <td>0.005180</td>\n      <td>0.009125</td>\n      <td>0.009125</td>\n      <td>0.005180</td>\n      <td>...</td>\n      <td>0.009125</td>\n      <td>0.009125</td>\n      <td>0.009125</td>\n      <td>0.009125</td>\n      <td>0.005180</td>\n      <td>0.005180</td>\n      <td>0.009125</td>\n      <td>0.009125</td>\n      <td>0.005180</td>\n      <td>0.005180</td>\n    </tr>\n    <tr>\n      <th>34</th>\n      <td>-0.026617</td>\n      <td>0.012961</td>\n      <td>0.012961</td>\n      <td>-0.026617</td>\n      <td>0.012961</td>\n      <td>-0.026617</td>\n      <td>0.012961</td>\n      <td>-0.026617</td>\n      <td>-0.026617</td>\n      <td>0.012961</td>\n      <td>...</td>\n      <td>-0.026617</td>\n      <td>-0.026617</td>\n      <td>-0.026617</td>\n      <td>-0.026617</td>\n      <td>0.012961</td>\n      <td>0.012961</td>\n      <td>-0.026617</td>\n      <td>-0.026617</td>\n      <td>0.012961</td>\n      <td>0.012961</td>\n    </tr>\n    <tr>\n      <th>35</th>\n      <td>0.053087</td>\n      <td>0.047455</td>\n      <td>0.047455</td>\n      <td>0.053087</td>\n      <td>0.047455</td>\n      <td>0.053087</td>\n      <td>0.047455</td>\n      <td>0.053087</td>\n      <td>0.053087</td>\n      <td>0.047455</td>\n      <td>...</td>\n      <td>0.053087</td>\n      <td>0.053087</td>\n      <td>0.053087</td>\n      <td>0.053087</td>\n      <td>0.047455</td>\n      <td>0.047455</td>\n      <td>0.053087</td>\n      <td>0.053087</td>\n      <td>0.047455</td>\n      <td>0.047455</td>\n    </tr>\n    <tr>\n      <th>36</th>\n      <td>0.039265</td>\n      <td>-0.026327</td>\n      <td>-0.026327</td>\n      <td>0.039265</td>\n      <td>-0.026327</td>\n      <td>0.039265</td>\n      <td>-0.026327</td>\n      <td>0.039265</td>\n      <td>0.039265</td>\n      <td>-0.026327</td>\n      <td>...</td>\n      <td>0.039265</td>\n      <td>0.039265</td>\n      <td>0.039265</td>\n      <td>0.039265</td>\n      <td>-0.026327</td>\n      <td>-0.026327</td>\n      <td>0.039265</td>\n      <td>0.039265</td>\n      <td>-0.026327</td>\n      <td>-0.026327</td>\n    </tr>\n    <tr>\n      <th>37</th>\n      <td>0.019537</td>\n      <td>0.038844</td>\n      <td>0.038844</td>\n      <td>0.019537</td>\n      <td>0.038844</td>\n      <td>0.019537</td>\n      <td>0.038844</td>\n      <td>0.019537</td>\n      <td>0.019537</td>\n      <td>0.038844</td>\n      <td>...</td>\n      <td>0.019537</td>\n      <td>0.019537</td>\n      <td>0.019537</td>\n      <td>0.019537</td>\n      <td>0.038844</td>\n      <td>0.038844</td>\n      <td>0.019537</td>\n      <td>0.019537</td>\n      <td>0.038844</td>\n      <td>0.038844</td>\n    </tr>\n    <tr>\n      <th>38</th>\n      <td>-0.046295</td>\n      <td>0.016098</td>\n      <td>0.016098</td>\n      <td>-0.046295</td>\n      <td>0.016098</td>\n      <td>-0.046295</td>\n      <td>0.016098</td>\n      <td>-0.046295</td>\n      <td>-0.046295</td>\n      <td>0.016098</td>\n      <td>...</td>\n      <td>-0.046295</td>\n      <td>-0.046295</td>\n      <td>-0.046295</td>\n      <td>-0.046295</td>\n      <td>0.016098</td>\n      <td>0.016098</td>\n      <td>-0.046295</td>\n      <td>-0.046295</td>\n      <td>0.016098</td>\n      <td>0.016098</td>\n    </tr>\n    <tr>\n      <th>39</th>\n      <td>-0.005667</td>\n      <td>-0.045840</td>\n      <td>-0.045840</td>\n      <td>-0.005667</td>\n      <td>-0.045840</td>\n      <td>-0.005667</td>\n      <td>-0.045840</td>\n      <td>-0.005667</td>\n      <td>-0.005667</td>\n      <td>-0.045840</td>\n      <td>...</td>\n      <td>-0.005667</td>\n      <td>-0.005667</td>\n      <td>-0.005667</td>\n      <td>-0.005667</td>\n      <td>-0.045840</td>\n      <td>-0.045840</td>\n      <td>-0.005667</td>\n      <td>-0.005667</td>\n      <td>-0.045840</td>\n      <td>-0.045840</td>\n    </tr>\n  </tbody>\n</table>\n<p>40 rows × 1000 columns</p>\n</div>"
     },
     "execution_count": 228,
     "metadata": {},
     "output_type": "execute_result"
    }
   ],
   "source": [
    "corr = X_train.corr()\n",
    "corr[y_data[0]]"
   ],
   "metadata": {
    "collapsed": false,
    "pycharm": {
     "name": "#%%\n"
    }
   }
  },
  {
   "cell_type": "code",
   "execution_count": 229,
   "outputs": [
    {
     "data": {
      "text/plain": "0      21.373315\n1       1.735072\n2     -26.206324\n3      21.416064\n4     -33.399363\n         ...    \n995    -8.541896\n996    -2.666215\n997     8.269914\n998   -17.732640\n999    15.492088\nName: 39, Length: 1000, dtype: float64"
     },
     "execution_count": 229,
     "metadata": {},
     "output_type": "execute_result"
    }
   ],
   "source": [
    "l = [x for x in X_train.columns if X_train[x].dtype == 'float64']\n",
    "X_train['39'] = 0\n",
    "for i in l:\n",
    "    X_train['39'] = X_train['39'] + X_train[i]\n",
    "X_train['39']"
   ],
   "metadata": {
    "collapsed": false,
    "pycharm": {
     "name": "#%%\n"
    }
   }
  },
  {
   "cell_type": "code",
   "execution_count": 230,
   "outputs": [
    {
     "data": {
      "text/plain": "0        7.325511\n1      -18.863280\n2      -10.107358\n3      -12.057489\n4       -7.994502\n          ...    \n8995     8.657272\n8996    22.571818\n8997    10.788161\n8998     8.250794\n8999    12.218932\nName: 39, Length: 9000, dtype: float64"
     },
     "execution_count": 230,
     "metadata": {},
     "output_type": "execute_result"
    }
   ],
   "source": [
    "test_data['39'] = 0\n",
    "for i in l:\n",
    "    test_data['39'] = test_data['39'] + test_data[i]\n",
    "test_data['39']"
   ],
   "metadata": {
    "collapsed": false,
    "pycharm": {
     "name": "#%%\n"
    }
   }
  },
  {
   "cell_type": "code",
   "execution_count": 231,
   "outputs": [],
   "source": [
    "from sklearn.preprocessing import StandardScaler\n",
    "sc = StandardScaler()\n",
    "X_train = sc.fit_transform(X_train)\n",
    "test_data = sc.transform(test_data)"
   ],
   "metadata": {
    "collapsed": false,
    "pycharm": {
     "name": "#%%\n"
    }
   }
  },
  {
   "cell_type": "code",
   "execution_count": 232,
   "outputs": [
    {
     "name": "stderr",
     "output_type": "stream",
     "text": [
      "C:\\Users\\HP\\AppData\\Local\\Temp/ipykernel_18960/3698041140.py:3: DataConversionWarning: A column-vector y was passed when a 1d array was expected. Please change the shape of y to (n_samples,), for example using ravel().\n",
      "  forest_clf.fit(X_train, y_train)\n"
     ]
    },
    {
     "data": {
      "text/plain": "RandomForestClassifier()"
     },
     "execution_count": 232,
     "metadata": {},
     "output_type": "execute_result"
    }
   ],
   "source": [
    "from sklearn.ensemble import RandomForestClassifier\n",
    "forest_clf = RandomForestClassifier()\n",
    "forest_clf.fit(X_train, y_train)"
   ],
   "metadata": {
    "collapsed": false,
    "pycharm": {
     "name": "#%%\n"
    }
   }
  },
  {
   "cell_type": "code",
   "execution_count": 233,
   "outputs": [
    {
     "name": "stderr",
     "output_type": "stream",
     "text": [
      "d:\\my work\\kaggle\\sickit learn\\venv\\lib\\site-packages\\sklearn\\model_selection\\_validation.py:598: DataConversionWarning: A column-vector y was passed when a 1d array was expected. Please change the shape of y to (n_samples,), for example using ravel().\n",
      "  estimator.fit(X_train, y_train, **fit_params)\n",
      "d:\\my work\\kaggle\\sickit learn\\venv\\lib\\site-packages\\sklearn\\model_selection\\_validation.py:598: DataConversionWarning: A column-vector y was passed when a 1d array was expected. Please change the shape of y to (n_samples,), for example using ravel().\n",
      "  estimator.fit(X_train, y_train, **fit_params)\n",
      "d:\\my work\\kaggle\\sickit learn\\venv\\lib\\site-packages\\sklearn\\model_selection\\_validation.py:598: DataConversionWarning: A column-vector y was passed when a 1d array was expected. Please change the shape of y to (n_samples,), for example using ravel().\n",
      "  estimator.fit(X_train, y_train, **fit_params)\n"
     ]
    },
    {
     "data": {
      "text/plain": "array([0.86526946, 0.84984985, 0.84984985])"
     },
     "execution_count": 233,
     "metadata": {},
     "output_type": "execute_result"
    }
   ],
   "source": [
    "from sklearn.model_selection import cross_val_score\n",
    "score = cross_val_score(forest_clf, X_train, y_data, cv=3, scoring=\"accuracy\")\n",
    "score"
   ],
   "metadata": {
    "collapsed": false,
    "pycharm": {
     "name": "#%%\n"
    }
   }
  },
  {
   "cell_type": "code",
   "execution_count": 234,
   "outputs": [
    {
     "name": "stderr",
     "output_type": "stream",
     "text": [
      "d:\\my work\\kaggle\\sickit learn\\venv\\lib\\site-packages\\sklearn\\model_selection\\_validation.py:960: DataConversionWarning: A column-vector y was passed when a 1d array was expected. Please change the shape of y to (n_samples,), for example using ravel().\n",
      "  estimator.fit(X_train, y_train, **fit_params)\n",
      "d:\\my work\\kaggle\\sickit learn\\venv\\lib\\site-packages\\sklearn\\model_selection\\_validation.py:960: DataConversionWarning: A column-vector y was passed when a 1d array was expected. Please change the shape of y to (n_samples,), for example using ravel().\n",
      "  estimator.fit(X_train, y_train, **fit_params)\n",
      "d:\\my work\\kaggle\\sickit learn\\venv\\lib\\site-packages\\sklearn\\model_selection\\_validation.py:960: DataConversionWarning: A column-vector y was passed when a 1d array was expected. Please change the shape of y to (n_samples,), for example using ravel().\n",
      "  estimator.fit(X_train, y_train, **fit_params)\n"
     ]
    },
    {
     "data": {
      "text/plain": "array([1, 0, 0, 1, 0, 1, 0, 1, 1, 0, 1, 0, 0, 0, 0, 1, 1, 0, 1, 0, 0, 1,\n       0, 1, 1, 1, 1, 1, 0, 1, 1, 1, 0, 0, 0, 0, 0, 1, 1, 1, 1, 1, 1, 0,\n       1, 0, 1, 0, 1, 0, 1, 1, 0, 0, 1, 0, 1, 0, 0, 0, 1, 1, 1, 1, 0, 1,\n       0, 0, 1, 1, 1, 0, 0, 1, 0, 0, 0, 1, 0, 1, 1, 1, 0, 1, 1, 0, 0, 1,\n       1, 1, 0, 1, 0, 1, 1, 1, 0, 1, 0, 0, 1, 0, 0, 1, 1, 1, 0, 1, 1, 1,\n       1, 0, 1, 0, 0, 0, 1, 1, 0, 0, 0, 0, 0, 0, 1, 0, 0, 0, 0, 0, 1, 1,\n       1, 0, 0, 0, 0, 1, 0, 0, 1, 1, 0, 1, 0, 0, 0, 0, 1, 1, 0, 0, 1, 1,\n       1, 0, 0, 0, 0, 1, 0, 1, 0, 0, 1, 0, 0, 1, 0, 1, 0, 1, 0, 1, 0, 1,\n       0, 1, 1, 1, 0, 0, 1, 0, 1, 0, 0, 1, 0, 1, 1, 0, 0, 0, 0, 0, 1, 0,\n       0, 1, 0, 0, 0, 0, 1, 1, 1, 0, 1, 1, 1, 1, 1, 0, 1, 1, 1, 0, 0, 0,\n       1, 0, 1, 0, 1, 0, 0, 1, 1, 0, 1, 1, 1, 0, 1, 1, 1, 0, 0, 1, 0, 1,\n       1, 0, 1, 0, 0, 0, 0, 1, 1, 1, 0, 0, 1, 1, 1, 0, 1, 0, 1, 0, 0, 0,\n       1, 0, 1, 1, 1, 0, 0, 0, 1, 0, 0, 0, 0, 0, 0, 0, 1, 1, 0, 0, 0, 0,\n       1, 0, 1, 0, 0, 1, 1, 0, 0, 0, 0, 1, 0, 1, 1, 1, 1, 1, 1, 0, 1, 0,\n       1, 0, 1, 1, 1, 1, 1, 0, 1, 0, 1, 1, 0, 0, 1, 1, 0, 0, 0, 1, 0, 1,\n       0, 0, 0, 0, 0, 0, 0, 1, 0, 0, 0, 1, 1, 1, 0, 1, 1, 1, 0, 1, 1, 1,\n       1, 0, 0, 0, 0, 1, 1, 1, 1, 0, 0, 1, 0, 0, 0, 0, 1, 1, 1, 1, 0, 1,\n       1, 0, 1, 0, 0, 1, 1, 1, 0, 1, 1, 1, 0, 1, 0, 0, 1, 0, 0, 1, 0, 1,\n       1, 0, 0, 1, 0, 1, 0, 1, 0, 0, 0, 0, 0, 1, 1, 1, 1, 0, 0, 1, 1, 0,\n       0, 1, 1, 1, 0, 1, 1, 0, 1, 1, 0, 0, 0, 1, 0, 1, 0, 0, 1, 1, 0, 1,\n       0, 0, 1, 0, 1, 0, 0, 0, 1, 0, 0, 0, 0, 1, 0, 1, 0, 1, 0, 0, 1, 1,\n       0, 0, 1, 1, 0, 1, 1, 0, 0, 0, 0, 1, 1, 0, 1, 1, 0, 1, 1, 0, 1, 0,\n       1, 0, 1, 0, 1, 0, 1, 0, 1, 1, 1, 1, 1, 1, 0, 1, 0, 1, 0, 0, 0, 0,\n       0, 0, 1, 1, 1, 1, 1, 1, 0, 0, 1, 1, 0, 0, 1, 0, 1, 0, 1, 0, 1, 0,\n       0, 1, 1, 0, 0, 0, 0, 1, 1, 0, 0, 1, 1, 1, 0, 0, 1, 0, 1, 1, 0, 1,\n       1, 0, 0, 0, 1, 1, 1, 1, 1, 1, 0, 1, 0, 1, 0, 0, 0, 0, 1, 1, 0, 0,\n       0, 1, 0, 0, 0, 1, 1, 1, 1, 0, 0, 1, 1, 0, 1, 1, 0, 0, 1, 1, 1, 1,\n       0, 1, 0, 0, 1, 1, 1, 1, 0, 1, 1, 0, 0, 1, 1, 1, 1, 0, 0, 1, 1, 0,\n       0, 1, 0, 1, 1, 1, 0, 0, 1, 1, 1, 1, 0, 0, 1, 1, 0, 1, 0, 0, 0, 0,\n       1, 0, 1, 1, 1, 1, 0, 1, 1, 0, 0, 1, 0, 1, 0, 0, 0, 1, 1, 0, 0, 0,\n       0, 0, 0, 0, 1, 0, 1, 1, 1, 1, 0, 1, 1, 1, 0, 1, 1, 1, 0, 1, 0, 0,\n       1, 0, 1, 1, 1, 0, 0, 1, 0, 1, 1, 1, 1, 0, 0, 1, 0, 0, 0, 0, 0, 0,\n       1, 0, 1, 1, 0, 0, 0, 1, 0, 1, 0, 0, 1, 0, 1, 1, 1, 0, 1, 0, 1, 1,\n       0, 1, 1, 1, 1, 1, 0, 1, 0, 0, 0, 0, 1, 0, 1, 1, 1, 0, 1, 0, 1, 0,\n       1, 1, 1, 0, 1, 0, 1, 1, 1, 1, 1, 1, 1, 0, 1, 0, 0, 0, 1, 1, 1, 1,\n       0, 0, 1, 1, 0, 0, 0, 1, 0, 0, 1, 0, 1, 1, 1, 0, 0, 0, 0, 1, 0, 0,\n       1, 1, 0, 0, 1, 0, 1, 1, 0, 0, 0, 0, 0, 0, 0, 1, 0, 0, 0, 0, 0, 1,\n       1, 1, 1, 0, 0, 0, 0, 1, 0, 0, 1, 1, 0, 0, 0, 1, 0, 0, 1, 0, 0, 1,\n       1, 0, 0, 1, 1, 1, 1, 0, 1, 1, 0, 1, 1, 0, 0, 0, 1, 0, 1, 1, 1, 0,\n       0, 0, 1, 1, 1, 1, 1, 0, 1, 0, 0, 1, 1, 1, 1, 1, 1, 0, 0, 1, 0, 0,\n       0, 1, 0, 0, 1, 1, 1, 0, 1, 1, 1, 0, 0, 0, 1, 1, 1, 1, 1, 1, 0, 1,\n       1, 0, 0, 1, 0, 0, 1, 0, 0, 1, 0, 0, 0, 1, 1, 1, 1, 1, 1, 0, 0, 1,\n       1, 0, 0, 0, 1, 1, 0, 1, 1, 1, 1, 1, 0, 0, 1, 1, 1, 0, 0, 0, 0, 1,\n       1, 0, 1, 1, 1, 0, 0, 0, 1, 0, 1, 0, 1, 0, 1, 0, 0, 1, 1, 0, 1, 1,\n       1, 0, 1, 1, 1, 1, 0, 1, 0, 0, 0, 0, 0, 1, 1, 0, 0, 1, 0, 0, 0, 0,\n       0, 0, 1, 1, 0, 0, 1, 1, 0, 1], dtype=int64)"
     },
     "execution_count": 234,
     "metadata": {},
     "output_type": "execute_result"
    }
   ],
   "source": [
    "from sklearn.model_selection import cross_val_predict\n",
    "score_ = cross_val_predict(forest_clf, X_train, y_data, cv=3)\n",
    "score_"
   ],
   "metadata": {
    "collapsed": false,
    "pycharm": {
     "name": "#%%\n"
    }
   }
  },
  {
   "cell_type": "code",
   "execution_count": 235,
   "outputs": [
    {
     "name": "stderr",
     "output_type": "stream",
     "text": [
      "d:\\my work\\kaggle\\sickit learn\\venv\\lib\\site-packages\\sklearn\\utils\\validation.py:63: DataConversionWarning: A column-vector y was passed when a 1d array was expected. Please change the shape of y to (n_samples, ), for example using ravel().\n",
      "  return f(*args, **kwargs)\n"
     ]
    },
    {
     "data": {
      "text/plain": "SVC()"
     },
     "execution_count": 235,
     "metadata": {},
     "output_type": "execute_result"
    }
   ],
   "source": [
    "from sklearn.svm import SVC\n",
    "SVC_clf = SVC()\n",
    "SVC_clf.fit(X_train, y_data)"
   ],
   "metadata": {
    "collapsed": false,
    "pycharm": {
     "name": "#%%\n"
    }
   }
  },
  {
   "cell_type": "code",
   "execution_count": 236,
   "outputs": [
    {
     "name": "stderr",
     "output_type": "stream",
     "text": [
      "d:\\my work\\kaggle\\sickit learn\\venv\\lib\\site-packages\\sklearn\\utils\\validation.py:63: DataConversionWarning: A column-vector y was passed when a 1d array was expected. Please change the shape of y to (n_samples, ), for example using ravel().\n",
      "  return f(*args, **kwargs)\n",
      "d:\\my work\\kaggle\\sickit learn\\venv\\lib\\site-packages\\sklearn\\utils\\validation.py:63: DataConversionWarning: A column-vector y was passed when a 1d array was expected. Please change the shape of y to (n_samples, ), for example using ravel().\n",
      "  return f(*args, **kwargs)\n",
      "d:\\my work\\kaggle\\sickit learn\\venv\\lib\\site-packages\\sklearn\\utils\\validation.py:63: DataConversionWarning: A column-vector y was passed when a 1d array was expected. Please change the shape of y to (n_samples, ), for example using ravel().\n",
      "  return f(*args, **kwargs)\n"
     ]
    },
    {
     "data": {
      "text/plain": "array([0.87724551, 0.87087087, 0.83483483])"
     },
     "execution_count": 236,
     "metadata": {},
     "output_type": "execute_result"
    }
   ],
   "source": [
    "from sklearn.model_selection import cross_val_score\n",
    "SVC_score = cross_val_score(SVC_clf, X_train, y_data, cv=3, scoring=\"accuracy\")\n",
    "SVC_score"
   ],
   "metadata": {
    "collapsed": false,
    "pycharm": {
     "name": "#%%\n"
    }
   }
  },
  {
   "cell_type": "code",
   "execution_count": 237,
   "outputs": [],
   "source": [
    "y_forest_test_pred = forest_clf.predict(test_data)\n",
    "y_SVC_test_pred = SVC_clf.predict(test_data)"
   ],
   "metadata": {
    "collapsed": false,
    "pycharm": {
     "name": "#%%\n"
    }
   }
  },
  {
   "cell_type": "code",
   "execution_count": 237,
   "outputs": [],
   "source": [],
   "metadata": {
    "collapsed": false,
    "pycharm": {
     "name": "#%%\n"
    }
   }
  },
  {
   "cell_type": "code",
   "execution_count": 238,
   "outputs": [],
   "source": [
    "submission = pd.DataFrame(y_SVC_test_pred, columns=[\"Solution\"])\n",
    "submission.to_csv(\"submission.csv\")"
   ],
   "metadata": {
    "collapsed": false,
    "pycharm": {
     "name": "#%%\n"
    }
   }
  },
  {
   "cell_type": "code",
   "execution_count": 239,
   "outputs": [],
   "source": [
    "sub_data = pd.read_csv(\"D:\\my work\\kaggle\\sickit learn\\submission.csv\")\n"
   ],
   "metadata": {
    "collapsed": false,
    "pycharm": {
     "name": "#%%\n"
    }
   }
  },
  {
   "cell_type": "code",
   "execution_count": 240,
   "outputs": [
    {
     "data": {
      "text/plain": "      Unnamed: 0  Solution\n0              0         1\n1              1         0\n2              2         0\n3              3         0\n4              4         0\n...          ...       ...\n8995        8995         1\n8996        8996         1\n8997        8997         1\n8998        8998         0\n8999        8999         1\n\n[9000 rows x 2 columns]",
      "text/html": "<div>\n<style scoped>\n    .dataframe tbody tr th:only-of-type {\n        vertical-align: middle;\n    }\n\n    .dataframe tbody tr th {\n        vertical-align: top;\n    }\n\n    .dataframe thead th {\n        text-align: right;\n    }\n</style>\n<table border=\"1\" class=\"dataframe\">\n  <thead>\n    <tr style=\"text-align: right;\">\n      <th></th>\n      <th>Unnamed: 0</th>\n      <th>Solution</th>\n    </tr>\n  </thead>\n  <tbody>\n    <tr>\n      <th>0</th>\n      <td>0</td>\n      <td>1</td>\n    </tr>\n    <tr>\n      <th>1</th>\n      <td>1</td>\n      <td>0</td>\n    </tr>\n    <tr>\n      <th>2</th>\n      <td>2</td>\n      <td>0</td>\n    </tr>\n    <tr>\n      <th>3</th>\n      <td>3</td>\n      <td>0</td>\n    </tr>\n    <tr>\n      <th>4</th>\n      <td>4</td>\n      <td>0</td>\n    </tr>\n    <tr>\n      <th>...</th>\n      <td>...</td>\n      <td>...</td>\n    </tr>\n    <tr>\n      <th>8995</th>\n      <td>8995</td>\n      <td>1</td>\n    </tr>\n    <tr>\n      <th>8996</th>\n      <td>8996</td>\n      <td>1</td>\n    </tr>\n    <tr>\n      <th>8997</th>\n      <td>8997</td>\n      <td>1</td>\n    </tr>\n    <tr>\n      <th>8998</th>\n      <td>8998</td>\n      <td>0</td>\n    </tr>\n    <tr>\n      <th>8999</th>\n      <td>8999</td>\n      <td>1</td>\n    </tr>\n  </tbody>\n</table>\n<p>9000 rows × 2 columns</p>\n</div>"
     },
     "execution_count": 240,
     "metadata": {},
     "output_type": "execute_result"
    }
   ],
   "source": [
    "sub_data"
   ],
   "metadata": {
    "collapsed": false,
    "pycharm": {
     "name": "#%%\n"
    }
   }
  },
  {
   "cell_type": "code",
   "execution_count": 241,
   "outputs": [],
   "source": [
    "sub_data[\"ID\"] = 0\n",
    "sub_data[\"Unnamed: 0\"]\n",
    "sub_data[\"ID\"] = 1 + sub_data[\"Unnamed: 0\"]\n",
    "sub_data.drop(\"Unnamed: 0\", axis=1, inplace=True)"
   ],
   "metadata": {
    "collapsed": false,
    "pycharm": {
     "name": "#%%\n"
    }
   }
  },
  {
   "cell_type": "code",
   "execution_count": 242,
   "outputs": [],
   "source": [
    "sub_data\n",
    "sub_data.to_csv(\"submission.csv\",)"
   ],
   "metadata": {
    "collapsed": false,
    "pycharm": {
     "name": "#%%\n"
    }
   }
  },
  {
   "cell_type": "code",
   "execution_count": 242,
   "outputs": [],
   "source": [],
   "metadata": {
    "collapsed": false,
    "pycharm": {
     "name": "#%%\n"
    }
   }
  }
 ],
 "metadata": {
  "kernelspec": {
   "display_name": "Python 3",
   "language": "python",
   "name": "python3"
  },
  "language_info": {
   "codemirror_mode": {
    "name": "ipython",
    "version": 2
   },
   "file_extension": ".py",
   "mimetype": "text/x-python",
   "name": "python",
   "nbconvert_exporter": "python",
   "pygments_lexer": "ipython2",
   "version": "2.7.6"
  }
 },
 "nbformat": 4,
 "nbformat_minor": 0
}