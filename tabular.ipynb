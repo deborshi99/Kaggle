{
 "cells": [
  {
   "cell_type": "code",
   "execution_count": 247,
   "outputs": [
    {
     "name": "stdout",
     "output_type": "stream",
     "text": [
      "tabular-playground-series-mar-2021.zip: Skipping, found more recently modified local copy (use --force to force download)\n"
     ]
    }
   ],
   "source": [
    "import kaggle\n",
    "!kaggle competitions download -c tabular-playground-series-mar-2021"
   ],
   "metadata": {
    "collapsed": false,
    "pycharm": {
     "name": "#%%\n"
    }
   }
  },
  {
   "cell_type": "code",
   "execution_count": 248,
   "outputs": [],
   "source": [
    "import os\n",
    "from zipfile import ZipFile\n",
    "file = os.listdir()\n",
    "if \"data\" in file:\n",
    "    for i in file:\n",
    "        if i.endswith(\".zip\"):\n",
    "            file_path = os.getcwd()+\"/\"+i\n",
    "            ZipFile(file_path).extractall(os.getcwd()+\"/data\")\n",
    "else:\n",
    "    for i in file:\n",
    "        if i.endswith(\".zip\"):\n",
    "            os.makedirs(os.getcwd()+\"/data\")\n",
    "            file_path = os.getcwd()+\"/\"+i\n",
    "            ZipFile(file_path).extractall(os.getcwd()+\"/data\")\n"
   ],
   "metadata": {
    "collapsed": false,
    "pycharm": {
     "name": "#%%\n"
    }
   }
  },
  {
   "cell_type": "code",
   "execution_count": 249,
   "outputs": [],
   "source": [
    "import pandas as pd\n",
    "def fetch_data():\n",
    "    train_data = pd.read_csv(os.getcwd()+\"//data/train.csv\")\n",
    "    test_data = pd.read_csv(os.getcwd()+\"//data/test.csv\")\n",
    "    sub_data = pd.read_csv(os.getcwd()+\"//data/sample_submission.csv\")\n",
    "    return train_data, test_data, sub_data"
   ],
   "metadata": {
    "collapsed": false,
    "pycharm": {
     "name": "#%%\n"
    }
   }
  },
  {
   "cell_type": "code",
   "execution_count": 250,
   "outputs": [],
   "source": [
    "train_data, test_data, sub_data = fetch_data()"
   ],
   "metadata": {
    "collapsed": false,
    "pycharm": {
     "name": "#%%\n"
    }
   }
  },
  {
   "cell_type": "code",
   "execution_count": 251,
   "outputs": [
    {
     "data": {
      "text/plain": "            id cat0 cat1 cat2 cat3 cat4 cat5 cat6 cat7 cat8  ...     cont2  \\\n0            0    A    I    A    B    B   BI    A    S    Q  ...  0.759439   \n1            1    A    I    A    A    E   BI    K    W   AD  ...  0.386385   \n2            2    A    K    A    A    E   BI    A    E   BM  ...  0.343255   \n3            3    A    K    A    C    E   BI    A    Y   AD  ...  0.831147   \n4            4    A    I    G    B    E   BI    C    G    Q  ...  0.338818   \n...        ...  ...  ...  ...  ...  ...  ...  ...  ...  ...  ...       ...   \n299995  499993    A    N    F    A    E   BU    A   AS    K  ...  0.662428   \n299996  499995    A    K    A    A    G   BI    A    K   AE  ...  0.821657   \n299997  499996    A    G    M    A    H   BI    C    L    F  ...  0.407037   \n299998  499997    B    H    A    D    B   BI    A   AA   AX  ...  0.808045   \n299999  499999    A    F    C    A    E   BI    C   AV    S  ...  0.775451   \n\n           cont3     cont4     cont5     cont6     cont7     cont8     cont9  \\\n0       0.795549  0.681917  0.621672  0.592184  0.791921  0.815254  0.965006   \n1       0.541366  0.388982  0.357778  0.600044  0.408701  0.399353  0.927406   \n2       0.616352  0.793687  0.552877  0.352113  0.388835  0.412303  0.292696   \n3       0.807807  0.800032  0.619147  0.221789  0.897617  0.633669  0.760318   \n4       0.277308  0.610578  0.128291  0.578764  0.279167  0.351103  0.357084   \n...          ...       ...       ...       ...       ...       ...       ...   \n299995  0.671927  0.390566  0.145840  0.262767  0.514248  0.519340  0.617436   \n299996  0.620356  0.384891  0.735879  0.547731  0.726653  0.470575  0.275743   \n299997  0.232436  0.832482  0.810663  0.596939  0.308821  0.373997  0.518024   \n299998  0.630708  0.346898  0.735147  0.563488  0.609836  0.680430  0.318453   \n299999  0.848696  0.819377  0.355467  0.218153  0.968856  0.823655  0.330515   \n\n          cont10 target  \n0       0.665915      0  \n1       0.493729      0  \n2       0.549452      0  \n3       0.934242      0  \n4       0.328960      1  \n...          ...    ...  \n299995  0.688007      0  \n299996  0.638939      0  \n299997  0.452144      1  \n299998  0.335822      0  \n299999  0.972569      0  \n\n[300000 rows x 32 columns]",
      "text/html": "<div>\n<style scoped>\n    .dataframe tbody tr th:only-of-type {\n        vertical-align: middle;\n    }\n\n    .dataframe tbody tr th {\n        vertical-align: top;\n    }\n\n    .dataframe thead th {\n        text-align: right;\n    }\n</style>\n<table border=\"1\" class=\"dataframe\">\n  <thead>\n    <tr style=\"text-align: right;\">\n      <th></th>\n      <th>id</th>\n      <th>cat0</th>\n      <th>cat1</th>\n      <th>cat2</th>\n      <th>cat3</th>\n      <th>cat4</th>\n      <th>cat5</th>\n      <th>cat6</th>\n      <th>cat7</th>\n      <th>cat8</th>\n      <th>...</th>\n      <th>cont2</th>\n      <th>cont3</th>\n      <th>cont4</th>\n      <th>cont5</th>\n      <th>cont6</th>\n      <th>cont7</th>\n      <th>cont8</th>\n      <th>cont9</th>\n      <th>cont10</th>\n      <th>target</th>\n    </tr>\n  </thead>\n  <tbody>\n    <tr>\n      <th>0</th>\n      <td>0</td>\n      <td>A</td>\n      <td>I</td>\n      <td>A</td>\n      <td>B</td>\n      <td>B</td>\n      <td>BI</td>\n      <td>A</td>\n      <td>S</td>\n      <td>Q</td>\n      <td>...</td>\n      <td>0.759439</td>\n      <td>0.795549</td>\n      <td>0.681917</td>\n      <td>0.621672</td>\n      <td>0.592184</td>\n      <td>0.791921</td>\n      <td>0.815254</td>\n      <td>0.965006</td>\n      <td>0.665915</td>\n      <td>0</td>\n    </tr>\n    <tr>\n      <th>1</th>\n      <td>1</td>\n      <td>A</td>\n      <td>I</td>\n      <td>A</td>\n      <td>A</td>\n      <td>E</td>\n      <td>BI</td>\n      <td>K</td>\n      <td>W</td>\n      <td>AD</td>\n      <td>...</td>\n      <td>0.386385</td>\n      <td>0.541366</td>\n      <td>0.388982</td>\n      <td>0.357778</td>\n      <td>0.600044</td>\n      <td>0.408701</td>\n      <td>0.399353</td>\n      <td>0.927406</td>\n      <td>0.493729</td>\n      <td>0</td>\n    </tr>\n    <tr>\n      <th>2</th>\n      <td>2</td>\n      <td>A</td>\n      <td>K</td>\n      <td>A</td>\n      <td>A</td>\n      <td>E</td>\n      <td>BI</td>\n      <td>A</td>\n      <td>E</td>\n      <td>BM</td>\n      <td>...</td>\n      <td>0.343255</td>\n      <td>0.616352</td>\n      <td>0.793687</td>\n      <td>0.552877</td>\n      <td>0.352113</td>\n      <td>0.388835</td>\n      <td>0.412303</td>\n      <td>0.292696</td>\n      <td>0.549452</td>\n      <td>0</td>\n    </tr>\n    <tr>\n      <th>3</th>\n      <td>3</td>\n      <td>A</td>\n      <td>K</td>\n      <td>A</td>\n      <td>C</td>\n      <td>E</td>\n      <td>BI</td>\n      <td>A</td>\n      <td>Y</td>\n      <td>AD</td>\n      <td>...</td>\n      <td>0.831147</td>\n      <td>0.807807</td>\n      <td>0.800032</td>\n      <td>0.619147</td>\n      <td>0.221789</td>\n      <td>0.897617</td>\n      <td>0.633669</td>\n      <td>0.760318</td>\n      <td>0.934242</td>\n      <td>0</td>\n    </tr>\n    <tr>\n      <th>4</th>\n      <td>4</td>\n      <td>A</td>\n      <td>I</td>\n      <td>G</td>\n      <td>B</td>\n      <td>E</td>\n      <td>BI</td>\n      <td>C</td>\n      <td>G</td>\n      <td>Q</td>\n      <td>...</td>\n      <td>0.338818</td>\n      <td>0.277308</td>\n      <td>0.610578</td>\n      <td>0.128291</td>\n      <td>0.578764</td>\n      <td>0.279167</td>\n      <td>0.351103</td>\n      <td>0.357084</td>\n      <td>0.328960</td>\n      <td>1</td>\n    </tr>\n    <tr>\n      <th>...</th>\n      <td>...</td>\n      <td>...</td>\n      <td>...</td>\n      <td>...</td>\n      <td>...</td>\n      <td>...</td>\n      <td>...</td>\n      <td>...</td>\n      <td>...</td>\n      <td>...</td>\n      <td>...</td>\n      <td>...</td>\n      <td>...</td>\n      <td>...</td>\n      <td>...</td>\n      <td>...</td>\n      <td>...</td>\n      <td>...</td>\n      <td>...</td>\n      <td>...</td>\n      <td>...</td>\n    </tr>\n    <tr>\n      <th>299995</th>\n      <td>499993</td>\n      <td>A</td>\n      <td>N</td>\n      <td>F</td>\n      <td>A</td>\n      <td>E</td>\n      <td>BU</td>\n      <td>A</td>\n      <td>AS</td>\n      <td>K</td>\n      <td>...</td>\n      <td>0.662428</td>\n      <td>0.671927</td>\n      <td>0.390566</td>\n      <td>0.145840</td>\n      <td>0.262767</td>\n      <td>0.514248</td>\n      <td>0.519340</td>\n      <td>0.617436</td>\n      <td>0.688007</td>\n      <td>0</td>\n    </tr>\n    <tr>\n      <th>299996</th>\n      <td>499995</td>\n      <td>A</td>\n      <td>K</td>\n      <td>A</td>\n      <td>A</td>\n      <td>G</td>\n      <td>BI</td>\n      <td>A</td>\n      <td>K</td>\n      <td>AE</td>\n      <td>...</td>\n      <td>0.821657</td>\n      <td>0.620356</td>\n      <td>0.384891</td>\n      <td>0.735879</td>\n      <td>0.547731</td>\n      <td>0.726653</td>\n      <td>0.470575</td>\n      <td>0.275743</td>\n      <td>0.638939</td>\n      <td>0</td>\n    </tr>\n    <tr>\n      <th>299997</th>\n      <td>499996</td>\n      <td>A</td>\n      <td>G</td>\n      <td>M</td>\n      <td>A</td>\n      <td>H</td>\n      <td>BI</td>\n      <td>C</td>\n      <td>L</td>\n      <td>F</td>\n      <td>...</td>\n      <td>0.407037</td>\n      <td>0.232436</td>\n      <td>0.832482</td>\n      <td>0.810663</td>\n      <td>0.596939</td>\n      <td>0.308821</td>\n      <td>0.373997</td>\n      <td>0.518024</td>\n      <td>0.452144</td>\n      <td>1</td>\n    </tr>\n    <tr>\n      <th>299998</th>\n      <td>499997</td>\n      <td>B</td>\n      <td>H</td>\n      <td>A</td>\n      <td>D</td>\n      <td>B</td>\n      <td>BI</td>\n      <td>A</td>\n      <td>AA</td>\n      <td>AX</td>\n      <td>...</td>\n      <td>0.808045</td>\n      <td>0.630708</td>\n      <td>0.346898</td>\n      <td>0.735147</td>\n      <td>0.563488</td>\n      <td>0.609836</td>\n      <td>0.680430</td>\n      <td>0.318453</td>\n      <td>0.335822</td>\n      <td>0</td>\n    </tr>\n    <tr>\n      <th>299999</th>\n      <td>499999</td>\n      <td>A</td>\n      <td>F</td>\n      <td>C</td>\n      <td>A</td>\n      <td>E</td>\n      <td>BI</td>\n      <td>C</td>\n      <td>AV</td>\n      <td>S</td>\n      <td>...</td>\n      <td>0.775451</td>\n      <td>0.848696</td>\n      <td>0.819377</td>\n      <td>0.355467</td>\n      <td>0.218153</td>\n      <td>0.968856</td>\n      <td>0.823655</td>\n      <td>0.330515</td>\n      <td>0.972569</td>\n      <td>0</td>\n    </tr>\n  </tbody>\n</table>\n<p>300000 rows × 32 columns</p>\n</div>"
     },
     "execution_count": 251,
     "metadata": {},
     "output_type": "execute_result"
    }
   ],
   "source": [
    "train_data"
   ],
   "metadata": {
    "collapsed": false,
    "pycharm": {
     "name": "#%%\n"
    }
   }
  },
  {
   "cell_type": "code",
   "execution_count": 252,
   "outputs": [
    {
     "name": "stdout",
     "output_type": "stream",
     "text": [
      "<class 'pandas.core.frame.DataFrame'>\n",
      "RangeIndex: 300000 entries, 0 to 299999\n",
      "Data columns (total 32 columns):\n",
      " #   Column  Non-Null Count   Dtype  \n",
      "---  ------  --------------   -----  \n",
      " 0   id      300000 non-null  int64  \n",
      " 1   cat0    300000 non-null  object \n",
      " 2   cat1    300000 non-null  object \n",
      " 3   cat2    300000 non-null  object \n",
      " 4   cat3    300000 non-null  object \n",
      " 5   cat4    300000 non-null  object \n",
      " 6   cat5    300000 non-null  object \n",
      " 7   cat6    300000 non-null  object \n",
      " 8   cat7    300000 non-null  object \n",
      " 9   cat8    300000 non-null  object \n",
      " 10  cat9    300000 non-null  object \n",
      " 11  cat10   300000 non-null  object \n",
      " 12  cat11   300000 non-null  object \n",
      " 13  cat12   300000 non-null  object \n",
      " 14  cat13   300000 non-null  object \n",
      " 15  cat14   300000 non-null  object \n",
      " 16  cat15   300000 non-null  object \n",
      " 17  cat16   300000 non-null  object \n",
      " 18  cat17   300000 non-null  object \n",
      " 19  cat18   300000 non-null  object \n",
      " 20  cont0   300000 non-null  float64\n",
      " 21  cont1   300000 non-null  float64\n",
      " 22  cont2   300000 non-null  float64\n",
      " 23  cont3   300000 non-null  float64\n",
      " 24  cont4   300000 non-null  float64\n",
      " 25  cont5   300000 non-null  float64\n",
      " 26  cont6   300000 non-null  float64\n",
      " 27  cont7   300000 non-null  float64\n",
      " 28  cont8   300000 non-null  float64\n",
      " 29  cont9   300000 non-null  float64\n",
      " 30  cont10  300000 non-null  float64\n",
      " 31  target  300000 non-null  int64  \n",
      "dtypes: float64(11), int64(2), object(19)\n",
      "memory usage: 73.2+ MB\n"
     ]
    }
   ],
   "source": [
    "train_data.info()\n"
   ],
   "metadata": {
    "collapsed": false,
    "pycharm": {
     "name": "#%%\n"
    }
   }
  },
  {
   "cell_type": "code",
   "execution_count": 253,
   "outputs": [
    {
     "data": {
      "text/plain": "  cat0 cat1 cat2 cat3 cat4 cat5 cat6 cat7 cat8 cat9  ...     cont2     cont3  \\\n0    A    I    A    B    B   BI    A    S    Q    A  ...  0.759439  0.795549   \n1    A    I    A    A    E   BI    K    W   AD    F  ...  0.386385  0.541366   \n2    A    K    A    A    E   BI    A    E   BM    L  ...  0.343255  0.616352   \n3    A    K    A    C    E   BI    A    Y   AD    F  ...  0.831147  0.807807   \n4    A    I    G    B    E   BI    C    G    Q    A  ...  0.338818  0.277308   \n\n      cont4     cont5     cont6     cont7     cont8     cont9    cont10  \\\n0  0.681917  0.621672  0.592184  0.791921  0.815254  0.965006  0.665915   \n1  0.388982  0.357778  0.600044  0.408701  0.399353  0.927406  0.493729   \n2  0.793687  0.552877  0.352113  0.388835  0.412303  0.292696  0.549452   \n3  0.800032  0.619147  0.221789  0.897617  0.633669  0.760318  0.934242   \n4  0.610578  0.128291  0.578764  0.279167  0.351103  0.357084  0.328960   \n\n   target  \n0       0  \n1       0  \n2       0  \n3       0  \n4       1  \n\n[5 rows x 31 columns]",
      "text/html": "<div>\n<style scoped>\n    .dataframe tbody tr th:only-of-type {\n        vertical-align: middle;\n    }\n\n    .dataframe tbody tr th {\n        vertical-align: top;\n    }\n\n    .dataframe thead th {\n        text-align: right;\n    }\n</style>\n<table border=\"1\" class=\"dataframe\">\n  <thead>\n    <tr style=\"text-align: right;\">\n      <th></th>\n      <th>cat0</th>\n      <th>cat1</th>\n      <th>cat2</th>\n      <th>cat3</th>\n      <th>cat4</th>\n      <th>cat5</th>\n      <th>cat6</th>\n      <th>cat7</th>\n      <th>cat8</th>\n      <th>cat9</th>\n      <th>...</th>\n      <th>cont2</th>\n      <th>cont3</th>\n      <th>cont4</th>\n      <th>cont5</th>\n      <th>cont6</th>\n      <th>cont7</th>\n      <th>cont8</th>\n      <th>cont9</th>\n      <th>cont10</th>\n      <th>target</th>\n    </tr>\n  </thead>\n  <tbody>\n    <tr>\n      <th>0</th>\n      <td>A</td>\n      <td>I</td>\n      <td>A</td>\n      <td>B</td>\n      <td>B</td>\n      <td>BI</td>\n      <td>A</td>\n      <td>S</td>\n      <td>Q</td>\n      <td>A</td>\n      <td>...</td>\n      <td>0.759439</td>\n      <td>0.795549</td>\n      <td>0.681917</td>\n      <td>0.621672</td>\n      <td>0.592184</td>\n      <td>0.791921</td>\n      <td>0.815254</td>\n      <td>0.965006</td>\n      <td>0.665915</td>\n      <td>0</td>\n    </tr>\n    <tr>\n      <th>1</th>\n      <td>A</td>\n      <td>I</td>\n      <td>A</td>\n      <td>A</td>\n      <td>E</td>\n      <td>BI</td>\n      <td>K</td>\n      <td>W</td>\n      <td>AD</td>\n      <td>F</td>\n      <td>...</td>\n      <td>0.386385</td>\n      <td>0.541366</td>\n      <td>0.388982</td>\n      <td>0.357778</td>\n      <td>0.600044</td>\n      <td>0.408701</td>\n      <td>0.399353</td>\n      <td>0.927406</td>\n      <td>0.493729</td>\n      <td>0</td>\n    </tr>\n    <tr>\n      <th>2</th>\n      <td>A</td>\n      <td>K</td>\n      <td>A</td>\n      <td>A</td>\n      <td>E</td>\n      <td>BI</td>\n      <td>A</td>\n      <td>E</td>\n      <td>BM</td>\n      <td>L</td>\n      <td>...</td>\n      <td>0.343255</td>\n      <td>0.616352</td>\n      <td>0.793687</td>\n      <td>0.552877</td>\n      <td>0.352113</td>\n      <td>0.388835</td>\n      <td>0.412303</td>\n      <td>0.292696</td>\n      <td>0.549452</td>\n      <td>0</td>\n    </tr>\n    <tr>\n      <th>3</th>\n      <td>A</td>\n      <td>K</td>\n      <td>A</td>\n      <td>C</td>\n      <td>E</td>\n      <td>BI</td>\n      <td>A</td>\n      <td>Y</td>\n      <td>AD</td>\n      <td>F</td>\n      <td>...</td>\n      <td>0.831147</td>\n      <td>0.807807</td>\n      <td>0.800032</td>\n      <td>0.619147</td>\n      <td>0.221789</td>\n      <td>0.897617</td>\n      <td>0.633669</td>\n      <td>0.760318</td>\n      <td>0.934242</td>\n      <td>0</td>\n    </tr>\n    <tr>\n      <th>4</th>\n      <td>A</td>\n      <td>I</td>\n      <td>G</td>\n      <td>B</td>\n      <td>E</td>\n      <td>BI</td>\n      <td>C</td>\n      <td>G</td>\n      <td>Q</td>\n      <td>A</td>\n      <td>...</td>\n      <td>0.338818</td>\n      <td>0.277308</td>\n      <td>0.610578</td>\n      <td>0.128291</td>\n      <td>0.578764</td>\n      <td>0.279167</td>\n      <td>0.351103</td>\n      <td>0.357084</td>\n      <td>0.328960</td>\n      <td>1</td>\n    </tr>\n  </tbody>\n</table>\n<p>5 rows × 31 columns</p>\n</div>"
     },
     "execution_count": 253,
     "metadata": {},
     "output_type": "execute_result"
    }
   ],
   "source": [
    "train_data.drop('id', axis=1, inplace=True)\n",
    "train_data.head()"
   ],
   "metadata": {
    "collapsed": false,
    "pycharm": {
     "name": "#%%\n"
    }
   }
  },
  {
   "cell_type": "code",
   "execution_count": 254,
   "outputs": [
    {
     "data": {
      "text/plain": "               cont0          cont1          cont2          cont3  \\\ncount  300000.000000  300000.000000  300000.000000  300000.000000   \nmean        0.504749       0.494073       0.516632       0.474235   \nstd         0.206788       0.213037       0.214851       0.216636   \nmin        -0.049562       0.084480       0.094493      -0.045316   \n25%         0.344985       0.317363       0.326047       0.292249   \n50%         0.479650       0.463170       0.471247       0.387564   \n75%         0.637657       0.693992       0.704625       0.644950   \nmax         1.004559       1.009958       1.016600       0.952187   \n\n               cont4          cont5          cont6          cont7  \\\ncount  300000.000000  300000.000000  300000.000000  300000.000000   \nmean        0.504848       0.502257       0.488229       0.501739   \nstd         0.227474       0.241243       0.211335       0.203496   \nmin         0.168071      -0.036379       0.005199       0.090901   \n25%         0.279303       0.276442       0.323914       0.353054   \n50%         0.479858       0.554768       0.518089       0.435404   \n75%         0.725779       0.735225       0.608537       0.642023   \nmax         0.858578       0.853022       0.966553       1.035818   \n\n               cont8          cont9         cont10         target  \ncount  300000.000000  300000.000000  300000.000000  300000.000000  \nmean        0.488074       0.469496       0.508230       0.264870  \nstd         0.179048       0.194516       0.203393       0.441265  \nmin         0.024139       0.214866       0.097789       0.000000  \n25%         0.358915       0.309934       0.368312       0.000000  \n50%         0.410908       0.407477       0.446576       0.000000  \n75%         0.612725       0.586793       0.581957       1.000000  \nmax         1.055885       1.005652       1.011331       1.000000  ",
      "text/html": "<div>\n<style scoped>\n    .dataframe tbody tr th:only-of-type {\n        vertical-align: middle;\n    }\n\n    .dataframe tbody tr th {\n        vertical-align: top;\n    }\n\n    .dataframe thead th {\n        text-align: right;\n    }\n</style>\n<table border=\"1\" class=\"dataframe\">\n  <thead>\n    <tr style=\"text-align: right;\">\n      <th></th>\n      <th>cont0</th>\n      <th>cont1</th>\n      <th>cont2</th>\n      <th>cont3</th>\n      <th>cont4</th>\n      <th>cont5</th>\n      <th>cont6</th>\n      <th>cont7</th>\n      <th>cont8</th>\n      <th>cont9</th>\n      <th>cont10</th>\n      <th>target</th>\n    </tr>\n  </thead>\n  <tbody>\n    <tr>\n      <th>count</th>\n      <td>300000.000000</td>\n      <td>300000.000000</td>\n      <td>300000.000000</td>\n      <td>300000.000000</td>\n      <td>300000.000000</td>\n      <td>300000.000000</td>\n      <td>300000.000000</td>\n      <td>300000.000000</td>\n      <td>300000.000000</td>\n      <td>300000.000000</td>\n      <td>300000.000000</td>\n      <td>300000.000000</td>\n    </tr>\n    <tr>\n      <th>mean</th>\n      <td>0.504749</td>\n      <td>0.494073</td>\n      <td>0.516632</td>\n      <td>0.474235</td>\n      <td>0.504848</td>\n      <td>0.502257</td>\n      <td>0.488229</td>\n      <td>0.501739</td>\n      <td>0.488074</td>\n      <td>0.469496</td>\n      <td>0.508230</td>\n      <td>0.264870</td>\n    </tr>\n    <tr>\n      <th>std</th>\n      <td>0.206788</td>\n      <td>0.213037</td>\n      <td>0.214851</td>\n      <td>0.216636</td>\n      <td>0.227474</td>\n      <td>0.241243</td>\n      <td>0.211335</td>\n      <td>0.203496</td>\n      <td>0.179048</td>\n      <td>0.194516</td>\n      <td>0.203393</td>\n      <td>0.441265</td>\n    </tr>\n    <tr>\n      <th>min</th>\n      <td>-0.049562</td>\n      <td>0.084480</td>\n      <td>0.094493</td>\n      <td>-0.045316</td>\n      <td>0.168071</td>\n      <td>-0.036379</td>\n      <td>0.005199</td>\n      <td>0.090901</td>\n      <td>0.024139</td>\n      <td>0.214866</td>\n      <td>0.097789</td>\n      <td>0.000000</td>\n    </tr>\n    <tr>\n      <th>25%</th>\n      <td>0.344985</td>\n      <td>0.317363</td>\n      <td>0.326047</td>\n      <td>0.292249</td>\n      <td>0.279303</td>\n      <td>0.276442</td>\n      <td>0.323914</td>\n      <td>0.353054</td>\n      <td>0.358915</td>\n      <td>0.309934</td>\n      <td>0.368312</td>\n      <td>0.000000</td>\n    </tr>\n    <tr>\n      <th>50%</th>\n      <td>0.479650</td>\n      <td>0.463170</td>\n      <td>0.471247</td>\n      <td>0.387564</td>\n      <td>0.479858</td>\n      <td>0.554768</td>\n      <td>0.518089</td>\n      <td>0.435404</td>\n      <td>0.410908</td>\n      <td>0.407477</td>\n      <td>0.446576</td>\n      <td>0.000000</td>\n    </tr>\n    <tr>\n      <th>75%</th>\n      <td>0.637657</td>\n      <td>0.693992</td>\n      <td>0.704625</td>\n      <td>0.644950</td>\n      <td>0.725779</td>\n      <td>0.735225</td>\n      <td>0.608537</td>\n      <td>0.642023</td>\n      <td>0.612725</td>\n      <td>0.586793</td>\n      <td>0.581957</td>\n      <td>1.000000</td>\n    </tr>\n    <tr>\n      <th>max</th>\n      <td>1.004559</td>\n      <td>1.009958</td>\n      <td>1.016600</td>\n      <td>0.952187</td>\n      <td>0.858578</td>\n      <td>0.853022</td>\n      <td>0.966553</td>\n      <td>1.035818</td>\n      <td>1.055885</td>\n      <td>1.005652</td>\n      <td>1.011331</td>\n      <td>1.000000</td>\n    </tr>\n  </tbody>\n</table>\n</div>"
     },
     "execution_count": 254,
     "metadata": {},
     "output_type": "execute_result"
    }
   ],
   "source": [
    "train_data.describe()"
   ],
   "metadata": {
    "collapsed": false,
    "pycharm": {
     "name": "#%%\n"
    }
   }
  },
  {
   "cell_type": "code",
   "execution_count": 254,
   "outputs": [],
   "source": [],
   "metadata": {
    "collapsed": false,
    "pycharm": {
     "name": "#%%\n"
    }
   }
  },
  {
   "cell_type": "code",
   "execution_count": 254,
   "outputs": [],
   "source": [],
   "metadata": {
    "collapsed": false,
    "pycharm": {
     "name": "#%%\n"
    }
   }
  },
  {
   "cell_type": "code",
   "execution_count": 255,
   "outputs": [
    {
     "data": {
      "text/plain": "cat0      0\ncat1      0\ncat2      0\ncat3      0\ncat4      0\ncat5      0\ncat6      0\ncat7      0\ncat8      0\ncat9      0\ncat10     0\ncat11     0\ncat12     0\ncat13     0\ncat14     0\ncat15     0\ncat16     0\ncat17     0\ncat18     0\ncont0     0\ncont1     0\ncont2     0\ncont3     0\ncont4     0\ncont5     0\ncont6     0\ncont7     0\ncont8     0\ncont9     0\ncont10    0\ntarget    0\ndtype: int64"
     },
     "execution_count": 255,
     "metadata": {},
     "output_type": "execute_result"
    }
   ],
   "source": [
    "train_data.isnull().sum()"
   ],
   "metadata": {
    "collapsed": false,
    "pycharm": {
     "name": "#%%\n"
    }
   }
  },
  {
   "cell_type": "code",
   "execution_count": 256,
   "outputs": [
    {
     "data": {
      "text/plain": "array([[<AxesSubplot:title={'center':'cont0'}>,\n        <AxesSubplot:title={'center':'cont1'}>,\n        <AxesSubplot:title={'center':'cont2'}>],\n       [<AxesSubplot:title={'center':'cont3'}>,\n        <AxesSubplot:title={'center':'cont4'}>,\n        <AxesSubplot:title={'center':'cont5'}>],\n       [<AxesSubplot:title={'center':'cont6'}>,\n        <AxesSubplot:title={'center':'cont7'}>,\n        <AxesSubplot:title={'center':'cont8'}>],\n       [<AxesSubplot:title={'center':'cont9'}>,\n        <AxesSubplot:title={'center':'cont10'}>,\n        <AxesSubplot:title={'center':'target'}>]], dtype=object)"
     },
     "execution_count": 256,
     "metadata": {},
     "output_type": "execute_result"
    },
    {
     "data": {
      "text/plain": "<Figure size 432x288 with 12 Axes>",
      "image/png": "[encoded data removed]"
     },
     "metadata": {
      "needs_background": "light"
     },
     "output_type": "display_data"
    }
   ],
   "source": [
    "import matplotlib.pyplot as plt\n",
    "train_data.hist(bins=50)"
   ],
   "metadata": {
    "collapsed": false,
    "pycharm": {
     "name": "#%%\n"
    }
   }
  },
  {
   "cell_type": "code",
   "execution_count": 257,
   "outputs": [
    {
     "data": {
      "text/plain": "cont0     0.474046\ncont1     1.000000\ncont2     0.861623\ncont3     0.256854\ncont4     0.133988\ncont5     0.185838\ncont6     0.116296\ncont7     0.581201\ncont8     0.672587\ncont9     0.393313\ncont10    0.471084\ntarget    0.164655\nName: cont1, dtype: float64"
     },
     "execution_count": 257,
     "metadata": {},
     "output_type": "execute_result"
    }
   ],
   "source": [
    "corr = train_data.corr()\n",
    "corr['cont1']"
   ],
   "metadata": {
    "collapsed": false,
    "pycharm": {
     "name": "#%%\n"
    }
   }
  },
  {
   "cell_type": "code",
   "execution_count": 257,
   "outputs": [],
   "source": [],
   "metadata": {
    "collapsed": false,
    "pycharm": {
     "name": "#%%\n"
    }
   }
  },
  {
   "cell_type": "code",
   "execution_count": 258,
   "outputs": [],
   "source": [
    "num_value_ = [x for x in train_data.columns if train_data[x].dtype != 'O' and x!='target']"
   ],
   "metadata": {
    "collapsed": false,
    "pycharm": {
     "name": "#%%\n"
    }
   }
  },
  {
   "cell_type": "code",
   "execution_count": 259,
   "outputs": [],
   "source": [
    "train_data[\"contsum\"] = 0\n",
    "for i in num_value_:\n",
    "    train_data[\"contsum\"] = train_data['contsum'] + train_data[i]"
   ],
   "metadata": {
    "collapsed": false,
    "pycharm": {
     "name": "#%%\n"
    }
   }
  },
  {
   "cell_type": "code",
   "execution_count": 260,
   "outputs": [],
   "source": [
    "train_value = [x for x in train_data.columns if x!='target']\n",
    "test_value = [x for x in train_data.columns if x == 'target']\n",
    "cat_value = [x for x in train_data.columns if train_data[x].dtype == 'O' and x!='target']\n",
    "num_value = [x for x in train_data.columns if train_data[x].dtype != 'O' and x!='target']"
   ],
   "metadata": {
    "collapsed": false,
    "pycharm": {
     "name": "#%%\n"
    }
   }
  },
  {
   "cell_type": "code",
   "execution_count": 261,
   "outputs": [],
   "source": [
    "X_train = train_data[train_value]\n",
    "y_train = train_data[test_value]"
   ],
   "metadata": {
    "collapsed": false,
    "pycharm": {
     "name": "#%%\n"
    }
   }
  },
  {
   "cell_type": "code",
   "execution_count": 262,
   "outputs": [
    {
     "data": {
      "text/plain": "       cat0 cat1 cat2 cat3 cat4 cat5 cat6 cat7 cat8 cat9  ...     cont2  \\\n0         A    I    A    B    B   BI    A    S    Q    A  ...  0.759439   \n1         A    I    A    A    E   BI    K    W   AD    F  ...  0.386385   \n2         A    K    A    A    E   BI    A    E   BM    L  ...  0.343255   \n3         A    K    A    C    E   BI    A    Y   AD    F  ...  0.831147   \n4         A    I    G    B    E   BI    C    G    Q    A  ...  0.338818   \n...     ...  ...  ...  ...  ...  ...  ...  ...  ...  ...  ...       ...   \n299995    A    N    F    A    E   BU    A   AS    K    A  ...  0.662428   \n299996    A    K    A    A    G   BI    A    K   AE    E  ...  0.821657   \n299997    A    G    M    A    H   BI    C    L    F    A  ...  0.407037   \n299998    B    H    A    D    B   BI    A   AA   AX    A  ...  0.808045   \n299999    A    F    C    A    E   BI    C   AV    S    A  ...  0.775451   \n\n           cont3     cont4     cont5     cont6     cont7     cont8     cont9  \\\n0       0.795549  0.681917  0.621672  0.592184  0.791921  0.815254  0.965006   \n1       0.541366  0.388982  0.357778  0.600044  0.408701  0.399353  0.927406   \n2       0.616352  0.793687  0.552877  0.352113  0.388835  0.412303  0.292696   \n3       0.807807  0.800032  0.619147  0.221789  0.897617  0.633669  0.760318   \n4       0.277308  0.610578  0.128291  0.578764  0.279167  0.351103  0.357084   \n...          ...       ...       ...       ...       ...       ...       ...   \n299995  0.671927  0.390566  0.145840  0.262767  0.514248  0.519340  0.617436   \n299996  0.620356  0.384891  0.735879  0.547731  0.726653  0.470575  0.275743   \n299997  0.232436  0.832482  0.810663  0.596939  0.308821  0.373997  0.518024   \n299998  0.630708  0.346898  0.735147  0.563488  0.609836  0.680430  0.318453   \n299999  0.848696  0.819377  0.355467  0.218153  0.968856  0.823655  0.330515   \n\n          cont10   contsum  \n0       0.665915  8.174064  \n1       0.493729  5.203401  \n2       0.549452  5.126590  \n3       0.934242  8.147675  \n4       0.328960  3.779013  \n...          ...       ...  \n299995  0.688007  5.654990  \n299996  0.638939  6.502314  \n299997  0.452144  5.542772  \n299998  0.335822  6.173618  \n299999  0.972569  7.755073  \n\n[300000 rows x 31 columns]",
      "text/html": "<div>\n<style scoped>\n    .dataframe tbody tr th:only-of-type {\n        vertical-align: middle;\n    }\n\n    .dataframe tbody tr th {\n        vertical-align: top;\n    }\n\n    .dataframe thead th {\n        text-align: right;\n    }\n</style>\n<table border=\"1\" class=\"dataframe\">\n  <thead>\n    <tr style=\"text-align: right;\">\n      <th></th>\n      <th>cat0</th>\n      <th>cat1</th>\n      <th>cat2</th>\n      <th>cat3</th>\n      <th>cat4</th>\n      <th>cat5</th>\n      <th>cat6</th>\n      <th>cat7</th>\n      <th>cat8</th>\n      <th>cat9</th>\n      <th>...</th>\n      <th>cont2</th>\n      <th>cont3</th>\n      <th>cont4</th>\n      <th>cont5</th>\n      <th>cont6</th>\n      <th>cont7</th>\n      <th>cont8</th>\n      <th>cont9</th>\n      <th>cont10</th>\n      <th>contsum</th>\n    </tr>\n  </thead>\n  <tbody>\n    <tr>\n      <th>0</th>\n      <td>A</td>\n      <td>I</td>\n      <td>A</td>\n      <td>B</td>\n      <td>B</td>\n      <td>BI</td>\n      <td>A</td>\n      <td>S</td>\n      <td>Q</td>\n      <td>A</td>\n      <td>...</td>\n      <td>0.759439</td>\n      <td>0.795549</td>\n      <td>0.681917</td>\n      <td>0.621672</td>\n      <td>0.592184</td>\n      <td>0.791921</td>\n      <td>0.815254</td>\n      <td>0.965006</td>\n      <td>0.665915</td>\n      <td>8.174064</td>\n    </tr>\n    <tr>\n      <th>1</th>\n      <td>A</td>\n      <td>I</td>\n      <td>A</td>\n      <td>A</td>\n      <td>E</td>\n      <td>BI</td>\n      <td>K</td>\n      <td>W</td>\n      <td>AD</td>\n      <td>F</td>\n      <td>...</td>\n      <td>0.386385</td>\n      <td>0.541366</td>\n      <td>0.388982</td>\n      <td>0.357778</td>\n      <td>0.600044</td>\n      <td>0.408701</td>\n      <td>0.399353</td>\n      <td>0.927406</td>\n      <td>0.493729</td>\n      <td>5.203401</td>\n    </tr>\n    <tr>\n      <th>2</th>\n      <td>A</td>\n      <td>K</td>\n      <td>A</td>\n      <td>A</td>\n      <td>E</td>\n      <td>BI</td>\n      <td>A</td>\n      <td>E</td>\n      <td>BM</td>\n      <td>L</td>\n      <td>...</td>\n      <td>0.343255</td>\n      <td>0.616352</td>\n      <td>0.793687</td>\n      <td>0.552877</td>\n      <td>0.352113</td>\n      <td>0.388835</td>\n      <td>0.412303</td>\n      <td>0.292696</td>\n      <td>0.549452</td>\n      <td>5.126590</td>\n    </tr>\n    <tr>\n      <th>3</th>\n      <td>A</td>\n      <td>K</td>\n      <td>A</td>\n      <td>C</td>\n      <td>E</td>\n      <td>BI</td>\n      <td>A</td>\n      <td>Y</td>\n      <td>AD</td>\n      <td>F</td>\n      <td>...</td>\n      <td>0.831147</td>\n      <td>0.807807</td>\n      <td>0.800032</td>\n      <td>0.619147</td>\n      <td>0.221789</td>\n      <td>0.897617</td>\n      <td>0.633669</td>\n      <td>0.760318</td>\n      <td>0.934242</td>\n      <td>8.147675</td>\n    </tr>\n    <tr>\n      <th>4</th>\n      <td>A</td>\n      <td>I</td>\n      <td>G</td>\n      <td>B</td>\n      <td>E</td>\n      <td>BI</td>\n      <td>C</td>\n      <td>G</td>\n      <td>Q</td>\n      <td>A</td>\n      <td>...</td>\n      <td>0.338818</td>\n      <td>0.277308</td>\n      <td>0.610578</td>\n      <td>0.128291</td>\n      <td>0.578764</td>\n      <td>0.279167</td>\n      <td>0.351103</td>\n      <td>0.357084</td>\n      <td>0.328960</td>\n      <td>3.779013</td>\n    </tr>\n    <tr>\n      <th>...</th>\n      <td>...</td>\n      <td>...</td>\n      <td>...</td>\n      <td>...</td>\n      <td>...</td>\n      <td>...</td>\n      <td>...</td>\n      <td>...</td>\n      <td>...</td>\n      <td>...</td>\n      <td>...</td>\n      <td>...</td>\n      <td>...</td>\n      <td>...</td>\n      <td>...</td>\n      <td>...</td>\n      <td>...</td>\n      <td>...</td>\n      <td>...</td>\n      <td>...</td>\n      <td>...</td>\n    </tr>\n    <tr>\n      <th>299995</th>\n      <td>A</td>\n      <td>N</td>\n      <td>F</td>\n      <td>A</td>\n      <td>E</td>\n      <td>BU</td>\n      <td>A</td>\n      <td>AS</td>\n      <td>K</td>\n      <td>A</td>\n      <td>...</td>\n      <td>0.662428</td>\n      <td>0.671927</td>\n      <td>0.390566</td>\n      <td>0.145840</td>\n      <td>0.262767</td>\n      <td>0.514248</td>\n      <td>0.519340</td>\n      <td>0.617436</td>\n      <td>0.688007</td>\n      <td>5.654990</td>\n    </tr>\n    <tr>\n      <th>299996</th>\n      <td>A</td>\n      <td>K</td>\n      <td>A</td>\n      <td>A</td>\n      <td>G</td>\n      <td>BI</td>\n      <td>A</td>\n      <td>K</td>\n      <td>AE</td>\n      <td>E</td>\n      <td>...</td>\n      <td>0.821657</td>\n      <td>0.620356</td>\n      <td>0.384891</td>\n      <td>0.735879</td>\n      <td>0.547731</td>\n      <td>0.726653</td>\n      <td>0.470575</td>\n      <td>0.275743</td>\n      <td>0.638939</td>\n      <td>6.502314</td>\n    </tr>\n    <tr>\n      <th>299997</th>\n      <td>A</td>\n      <td>G</td>\n      <td>M</td>\n      <td>A</td>\n      <td>H</td>\n      <td>BI</td>\n      <td>C</td>\n      <td>L</td>\n      <td>F</td>\n      <td>A</td>\n      <td>...</td>\n      <td>0.407037</td>\n      <td>0.232436</td>\n      <td>0.832482</td>\n      <td>0.810663</td>\n      <td>0.596939</td>\n      <td>0.308821</td>\n      <td>0.373997</td>\n      <td>0.518024</td>\n      <td>0.452144</td>\n      <td>5.542772</td>\n    </tr>\n    <tr>\n      <th>299998</th>\n      <td>B</td>\n      <td>H</td>\n      <td>A</td>\n      <td>D</td>\n      <td>B</td>\n      <td>BI</td>\n      <td>A</td>\n      <td>AA</td>\n      <td>AX</td>\n      <td>A</td>\n      <td>...</td>\n      <td>0.808045</td>\n      <td>0.630708</td>\n      <td>0.346898</td>\n      <td>0.735147</td>\n      <td>0.563488</td>\n      <td>0.609836</td>\n      <td>0.680430</td>\n      <td>0.318453</td>\n      <td>0.335822</td>\n      <td>6.173618</td>\n    </tr>\n    <tr>\n      <th>299999</th>\n      <td>A</td>\n      <td>F</td>\n      <td>C</td>\n      <td>A</td>\n      <td>E</td>\n      <td>BI</td>\n      <td>C</td>\n      <td>AV</td>\n      <td>S</td>\n      <td>A</td>\n      <td>...</td>\n      <td>0.775451</td>\n      <td>0.848696</td>\n      <td>0.819377</td>\n      <td>0.355467</td>\n      <td>0.218153</td>\n      <td>0.968856</td>\n      <td>0.823655</td>\n      <td>0.330515</td>\n      <td>0.972569</td>\n      <td>7.755073</td>\n    </tr>\n  </tbody>\n</table>\n<p>300000 rows × 31 columns</p>\n</div>"
     },
     "execution_count": 262,
     "metadata": {},
     "output_type": "execute_result"
    }
   ],
   "source": [
    "X_train"
   ],
   "metadata": {
    "collapsed": false,
    "pycharm": {
     "name": "#%%\n"
    }
   }
  },
  {
   "cell_type": "code",
   "execution_count": 263,
   "outputs": [
    {
     "data": {
      "text/plain": "       cat0 cat1 cat2 cat3 cat4 cat5 cat6 cat7 cat8 cat9  ...     cont2  \\\n0         A    I    A    B    B   BI    A    S    Q    A  ...  0.759439   \n1         A    I    A    A    E   BI    K    W   AD    F  ...  0.386385   \n2         A    K    A    A    E   BI    A    E   BM    L  ...  0.343255   \n3         A    K    A    C    E   BI    A    Y   AD    F  ...  0.831147   \n4         A    I    G    B    E   BI    C    G    Q    A  ...  0.338818   \n...     ...  ...  ...  ...  ...  ...  ...  ...  ...  ...  ...       ...   \n299995    A    N    F    A    E   BU    A   AS    K    A  ...  0.662428   \n299996    A    K    A    A    G   BI    A    K   AE    E  ...  0.821657   \n299997    A    G    M    A    H   BI    C    L    F    A  ...  0.407037   \n299998    B    H    A    D    B   BI    A   AA   AX    A  ...  0.808045   \n299999    A    F    C    A    E   BI    C   AV    S    A  ...  0.775451   \n\n           cont3     cont4     cont5     cont6     cont7     cont8     cont9  \\\n0       0.795549  0.681917  0.621672  0.592184  0.791921  0.815254  0.965006   \n1       0.541366  0.388982  0.357778  0.600044  0.408701  0.399353  0.927406   \n2       0.616352  0.793687  0.552877  0.352113  0.388835  0.412303  0.292696   \n3       0.807807  0.800032  0.619147  0.221789  0.897617  0.633669  0.760318   \n4       0.277308  0.610578  0.128291  0.578764  0.279167  0.351103  0.357084   \n...          ...       ...       ...       ...       ...       ...       ...   \n299995  0.671927  0.390566  0.145840  0.262767  0.514248  0.519340  0.617436   \n299996  0.620356  0.384891  0.735879  0.547731  0.726653  0.470575  0.275743   \n299997  0.232436  0.832482  0.810663  0.596939  0.308821  0.373997  0.518024   \n299998  0.630708  0.346898  0.735147  0.563488  0.609836  0.680430  0.318453   \n299999  0.848696  0.819377  0.355467  0.218153  0.968856  0.823655  0.330515   \n\n          cont10   contsum  \n0       0.665915  8.174064  \n1       0.493729  5.203401  \n2       0.549452  5.126590  \n3       0.934242  8.147675  \n4       0.328960  3.779013  \n...          ...       ...  \n299995  0.688007  5.654990  \n299996  0.638939  6.502314  \n299997  0.452144  5.542772  \n299998  0.335822  6.173618  \n299999  0.972569  7.755073  \n\n[300000 rows x 31 columns]",
      "text/html": "<div>\n<style scoped>\n    .dataframe tbody tr th:only-of-type {\n        vertical-align: middle;\n    }\n\n    .dataframe tbody tr th {\n        vertical-align: top;\n    }\n\n    .dataframe thead th {\n        text-align: right;\n    }\n</style>\n<table border=\"1\" class=\"dataframe\">\n  <thead>\n    <tr style=\"text-align: right;\">\n      <th></th>\n      <th>cat0</th>\n      <th>cat1</th>\n      <th>cat2</th>\n      <th>cat3</th>\n      <th>cat4</th>\n      <th>cat5</th>\n      <th>cat6</th>\n      <th>cat7</th>\n      <th>cat8</th>\n      <th>cat9</th>\n      <th>...</th>\n      <th>cont2</th>\n      <th>cont3</th>\n      <th>cont4</th>\n      <th>cont5</th>\n      <th>cont6</th>\n      <th>cont7</th>\n      <th>cont8</th>\n      <th>cont9</th>\n      <th>cont10</th>\n      <th>contsum</th>\n    </tr>\n  </thead>\n  <tbody>\n    <tr>\n      <th>0</th>\n      <td>A</td>\n      <td>I</td>\n      <td>A</td>\n      <td>B</td>\n      <td>B</td>\n      <td>BI</td>\n      <td>A</td>\n      <td>S</td>\n      <td>Q</td>\n      <td>A</td>\n      <td>...</td>\n      <td>0.759439</td>\n      <td>0.795549</td>\n      <td>0.681917</td>\n      <td>0.621672</td>\n      <td>0.592184</td>\n      <td>0.791921</td>\n      <td>0.815254</td>\n      <td>0.965006</td>\n      <td>0.665915</td>\n      <td>8.174064</td>\n    </tr>\n    <tr>\n      <th>1</th>\n      <td>A</td>\n      <td>I</td>\n      <td>A</td>\n      <td>A</td>\n      <td>E</td>\n      <td>BI</td>\n      <td>K</td>\n      <td>W</td>\n      <td>AD</td>\n      <td>F</td>\n      <td>...</td>\n      <td>0.386385</td>\n      <td>0.541366</td>\n      <td>0.388982</td>\n      <td>0.357778</td>\n      <td>0.600044</td>\n      <td>0.408701</td>\n      <td>0.399353</td>\n      <td>0.927406</td>\n      <td>0.493729</td>\n      <td>5.203401</td>\n    </tr>\n    <tr>\n      <th>2</th>\n      <td>A</td>\n      <td>K</td>\n      <td>A</td>\n      <td>A</td>\n      <td>E</td>\n      <td>BI</td>\n      <td>A</td>\n      <td>E</td>\n      <td>BM</td>\n      <td>L</td>\n      <td>...</td>\n      <td>0.343255</td>\n      <td>0.616352</td>\n      <td>0.793687</td>\n      <td>0.552877</td>\n      <td>0.352113</td>\n      <td>0.388835</td>\n      <td>0.412303</td>\n      <td>0.292696</td>\n      <td>0.549452</td>\n      <td>5.126590</td>\n    </tr>\n    <tr>\n      <th>3</th>\n      <td>A</td>\n      <td>K</td>\n      <td>A</td>\n      <td>C</td>\n      <td>E</td>\n      <td>BI</td>\n      <td>A</td>\n      <td>Y</td>\n      <td>AD</td>\n      <td>F</td>\n      <td>...</td>\n      <td>0.831147</td>\n      <td>0.807807</td>\n      <td>0.800032</td>\n      <td>0.619147</td>\n      <td>0.221789</td>\n      <td>0.897617</td>\n      <td>0.633669</td>\n      <td>0.760318</td>\n      <td>0.934242</td>\n      <td>8.147675</td>\n    </tr>\n    <tr>\n      <th>4</th>\n      <td>A</td>\n      <td>I</td>\n      <td>G</td>\n      <td>B</td>\n      <td>E</td>\n      <td>BI</td>\n      <td>C</td>\n      <td>G</td>\n      <td>Q</td>\n      <td>A</td>\n      <td>...</td>\n      <td>0.338818</td>\n      <td>0.277308</td>\n      <td>0.610578</td>\n      <td>0.128291</td>\n      <td>0.578764</td>\n      <td>0.279167</td>\n      <td>0.351103</td>\n      <td>0.357084</td>\n      <td>0.328960</td>\n      <td>3.779013</td>\n    </tr>\n    <tr>\n      <th>...</th>\n      <td>...</td>\n      <td>...</td>\n      <td>...</td>\n      <td>...</td>\n      <td>...</td>\n      <td>...</td>\n      <td>...</td>\n      <td>...</td>\n      <td>...</td>\n      <td>...</td>\n      <td>...</td>\n      <td>...</td>\n      <td>...</td>\n      <td>...</td>\n      <td>...</td>\n      <td>...</td>\n      <td>...</td>\n      <td>...</td>\n      <td>...</td>\n      <td>...</td>\n      <td>...</td>\n    </tr>\n    <tr>\n      <th>299995</th>\n      <td>A</td>\n      <td>N</td>\n      <td>F</td>\n      <td>A</td>\n      <td>E</td>\n      <td>BU</td>\n      <td>A</td>\n      <td>AS</td>\n      <td>K</td>\n      <td>A</td>\n      <td>...</td>\n      <td>0.662428</td>\n      <td>0.671927</td>\n      <td>0.390566</td>\n      <td>0.145840</td>\n      <td>0.262767</td>\n      <td>0.514248</td>\n      <td>0.519340</td>\n      <td>0.617436</td>\n      <td>0.688007</td>\n      <td>5.654990</td>\n    </tr>\n    <tr>\n      <th>299996</th>\n      <td>A</td>\n      <td>K</td>\n      <td>A</td>\n      <td>A</td>\n      <td>G</td>\n      <td>BI</td>\n      <td>A</td>\n      <td>K</td>\n      <td>AE</td>\n      <td>E</td>\n      <td>...</td>\n      <td>0.821657</td>\n      <td>0.620356</td>\n      <td>0.384891</td>\n      <td>0.735879</td>\n      <td>0.547731</td>\n      <td>0.726653</td>\n      <td>0.470575</td>\n      <td>0.275743</td>\n      <td>0.638939</td>\n      <td>6.502314</td>\n    </tr>\n    <tr>\n      <th>299997</th>\n      <td>A</td>\n      <td>G</td>\n      <td>M</td>\n      <td>A</td>\n      <td>H</td>\n      <td>BI</td>\n      <td>C</td>\n      <td>L</td>\n      <td>F</td>\n      <td>A</td>\n      <td>...</td>\n      <td>0.407037</td>\n      <td>0.232436</td>\n      <td>0.832482</td>\n      <td>0.810663</td>\n      <td>0.596939</td>\n      <td>0.308821</td>\n      <td>0.373997</td>\n      <td>0.518024</td>\n      <td>0.452144</td>\n      <td>5.542772</td>\n    </tr>\n    <tr>\n      <th>299998</th>\n      <td>B</td>\n      <td>H</td>\n      <td>A</td>\n      <td>D</td>\n      <td>B</td>\n      <td>BI</td>\n      <td>A</td>\n      <td>AA</td>\n      <td>AX</td>\n      <td>A</td>\n      <td>...</td>\n      <td>0.808045</td>\n      <td>0.630708</td>\n      <td>0.346898</td>\n      <td>0.735147</td>\n      <td>0.563488</td>\n      <td>0.609836</td>\n      <td>0.680430</td>\n      <td>0.318453</td>\n      <td>0.335822</td>\n      <td>6.173618</td>\n    </tr>\n    <tr>\n      <th>299999</th>\n      <td>A</td>\n      <td>F</td>\n      <td>C</td>\n      <td>A</td>\n      <td>E</td>\n      <td>BI</td>\n      <td>C</td>\n      <td>AV</td>\n      <td>S</td>\n      <td>A</td>\n      <td>...</td>\n      <td>0.775451</td>\n      <td>0.848696</td>\n      <td>0.819377</td>\n      <td>0.355467</td>\n      <td>0.218153</td>\n      <td>0.968856</td>\n      <td>0.823655</td>\n      <td>0.330515</td>\n      <td>0.972569</td>\n      <td>7.755073</td>\n    </tr>\n  </tbody>\n</table>\n<p>300000 rows × 31 columns</p>\n</div>"
     },
     "execution_count": 263,
     "metadata": {},
     "output_type": "execute_result"
    }
   ],
   "source": [
    "X_train\n"
   ],
   "metadata": {
    "collapsed": false,
    "pycharm": {
     "name": "#%%\n"
    }
   }
  },
  {
   "cell_type": "code",
   "execution_count": 264,
   "outputs": [
    {
     "data": {
      "text/plain": "cont0     -0.015172\ncont1      0.164655\ncont2      0.140459\ncont3     -0.148316\ncont4     -0.075585\ncont5      0.215184\ncont6      0.189832\ncont7     -0.040646\ncont8      0.183726\ncont9      0.059242\ncont10    -0.047077\ntarget     1.000000\ncontsum    0.100150\nName: target, dtype: float64"
     },
     "execution_count": 264,
     "metadata": {},
     "output_type": "execute_result"
    }
   ],
   "source": [
    "corr = train_data.corr()\n",
    "corr['target']"
   ],
   "metadata": {
    "collapsed": false,
    "pycharm": {
     "name": "#%%\n"
    }
   }
  },
  {
   "cell_type": "code",
   "execution_count": 265,
   "outputs": [
    {
     "name": "stderr",
     "output_type": "stream",
     "text": [
      "d:\\my work\\kaggle\\stock\\venv\\lib\\site-packages\\pandas\\core\\frame.py:3673: SettingWithCopyWarning: \n",
      "A value is trying to be set on a copy of a slice from a DataFrame.\n",
      "Try using .loc[row_indexer,col_indexer] = value instead\n",
      "\n",
      "See the caveats in the documentation: https://pandas.pydata.org/pandas-docs/stable/user_guide/indexing.html#returning-a-view-versus-a-copy\n",
      "  self[col] = igetitem(value, i)\n"
     ]
    }
   ],
   "source": [
    "from sklearn.preprocessing import StandardScaler\n",
    "sc = StandardScaler()\n",
    "X_train[num_value] = sc.fit_transform(X_train[num_value])"
   ],
   "metadata": {
    "collapsed": false,
    "pycharm": {
     "name": "#%%\n"
    }
   }
  },
  {
   "cell_type": "code",
   "execution_count": 266,
   "outputs": [],
   "source": [
    "from sklearn.compose import ColumnTransformer\n",
    "from sklearn.preprocessing import OneHotEncoder\n",
    "ct = ColumnTransformer([\n",
    "    ('encoding', OneHotEncoder(handle_unknown='ignore'), cat_value),\n",
    "], remainder='passthrough')\n",
    "X_train = ct.fit_transform(X_train)\n"
   ],
   "metadata": {
    "collapsed": false,
    "pycharm": {
     "name": "#%%\n"
    }
   }
  },
  {
   "cell_type": "code",
   "execution_count": 267,
   "outputs": [
    {
     "data": {
      "text/plain": "<300000x635 sparse matrix of type '<class 'numpy.float64'>'\n\twith 9300000 stored elements in Compressed Sparse Row format>"
     },
     "execution_count": 267,
     "metadata": {},
     "output_type": "execute_result"
    }
   ],
   "source": [
    "X_train\n"
   ],
   "metadata": {
    "collapsed": false,
    "pycharm": {
     "name": "#%%\n"
    }
   }
  },
  {
   "cell_type": "code",
   "execution_count": 268,
   "outputs": [
    {
     "data": {
      "text/plain": "SGDClassifier()"
     },
     "execution_count": 268,
     "metadata": {},
     "output_type": "execute_result"
    }
   ],
   "source": [
    "from sklearn.linear_model import SGDClassifier\n",
    "SGD_clf = SGDClassifier()\n",
    "SGD_clf.fit(X_train, y_train.values.ravel())\n"
   ],
   "metadata": {
    "collapsed": false,
    "pycharm": {
     "name": "#%%\n"
    }
   }
  },
  {
   "cell_type": "code",
   "execution_count": 269,
   "outputs": [
    {
     "name": "stderr",
     "output_type": "stream",
     "text": [
      "d:\\my work\\kaggle\\stock\\venv\\lib\\site-packages\\sklearn\\utils\\validation.py:63: DataConversionWarning: A column-vector y was passed when a 1d array was expected. Please change the shape of y to (n_samples, ), for example using ravel().\n",
      "  return f(*args, **kwargs)\n",
      "d:\\my work\\kaggle\\stock\\venv\\lib\\site-packages\\sklearn\\utils\\validation.py:63: DataConversionWarning: A column-vector y was passed when a 1d array was expected. Please change the shape of y to (n_samples, ), for example using ravel().\n",
      "  return f(*args, **kwargs)\n",
      "d:\\my work\\kaggle\\stock\\venv\\lib\\site-packages\\sklearn\\utils\\validation.py:63: DataConversionWarning: A column-vector y was passed when a 1d array was expected. Please change the shape of y to (n_samples, ), for example using ravel().\n",
      "  return f(*args, **kwargs)\n"
     ]
    }
   ],
   "source": [
    "from sklearn.model_selection import cross_val_score\n",
    "score = cross_val_score(SGD_clf, X_train, y_train, cv=3, scoring=\"accuracy\")"
   ],
   "metadata": {
    "collapsed": false,
    "pycharm": {
     "name": "#%%\n"
    }
   }
  },
  {
   "cell_type": "code",
   "execution_count": 270,
   "outputs": [
    {
     "data": {
      "text/plain": "array([0.84114, 0.83762, 0.84341])"
     },
     "execution_count": 270,
     "metadata": {},
     "output_type": "execute_result"
    }
   ],
   "source": [
    "score"
   ],
   "metadata": {
    "collapsed": false,
    "pycharm": {
     "name": "#%%\n"
    }
   }
  },
  {
   "cell_type": "code",
   "execution_count": 271,
   "outputs": [
    {
     "name": "stdout",
     "output_type": "stream",
     "text": [
      "damn\n"
     ]
    }
   ],
   "source": [
    "print(\"damn\")"
   ],
   "metadata": {
    "collapsed": false,
    "pycharm": {
     "name": "#%%\n"
    }
   }
  },
  {
   "cell_type": "code",
   "execution_count": 272,
   "outputs": [],
   "source": [
    "X_test = test_data\n",
    "X_test.drop(\"id\", axis=1, inplace=True)"
   ],
   "metadata": {
    "collapsed": false,
    "pycharm": {
     "name": "#%%\n"
    }
   }
  },
  {
   "cell_type": "code",
   "execution_count": 273,
   "outputs": [],
   "source": [
    "X_test[\"contsum\"] = 0\n",
    "for i in num_value:\n",
    "    X_test[\"contsum\"] = X_test['contsum'] + X_test[i]\n"
   ],
   "metadata": {
    "collapsed": false,
    "pycharm": {
     "name": "#%%\n"
    }
   }
  },
  {
   "cell_type": "code",
   "execution_count": 274,
   "outputs": [],
   "source": [
    "X_test[num_value] = sc.transform(X_test[num_value])"
   ],
   "metadata": {
    "collapsed": false,
    "pycharm": {
     "name": "#%%\n"
    }
   }
  },
  {
   "cell_type": "code",
   "execution_count": 275,
   "outputs": [],
   "source": [
    "X_test = ct.transform(X_test)\n"
   ],
   "metadata": {
    "collapsed": false,
    "pycharm": {
     "name": "#%%\n"
    }
   }
  },
  {
   "cell_type": "code",
   "execution_count": 276,
   "outputs": [
    {
     "data": {
      "text/plain": "<200000x635 sparse matrix of type '<class 'numpy.float64'>'\n\twith 6199990 stored elements in Compressed Sparse Row format>"
     },
     "execution_count": 276,
     "metadata": {},
     "output_type": "execute_result"
    }
   ],
   "source": [
    "X_test"
   ],
   "metadata": {
    "collapsed": false,
    "pycharm": {
     "name": "#%%\n"
    }
   }
  },
  {
   "cell_type": "code",
   "execution_count": 277,
   "outputs": [],
   "source": [
    "sub_data.drop('id', axis=1, inplace=True)"
   ],
   "metadata": {
    "collapsed": false,
    "pycharm": {
     "name": "#%%\n"
    }
   }
  },
  {
   "cell_type": "code",
   "execution_count": 279,
   "outputs": [],
   "source": [
    "y_test_pred = SGD_clf.predict(X_test)"
   ],
   "metadata": {
    "collapsed": false,
    "pycharm": {
     "name": "#%%\n"
    }
   }
  },
  {
   "cell_type": "code",
   "execution_count": 282,
   "outputs": [],
   "source": [
    "submission = pd.DataFrame(y_test_pred, columns=[\"target\"])"
   ],
   "metadata": {
    "collapsed": false,
    "pycharm": {
     "name": "#%%\n"
    }
   }
  },
  {
   "cell_type": "code",
   "execution_count": 283,
   "outputs": [],
   "source": [
    "submission.to_csv(\"submission.csv\")\n"
   ],
   "metadata": {
    "collapsed": false,
    "pycharm": {
     "name": "#%%\n"
    }
   }
  },
  {
   "cell_type": "code",
   "execution_count": 284,
   "outputs": [
    {
     "data": {
      "text/plain": "        Unnamed: 0  target\n0                0       0\n1                1       1\n2                2       0\n3                3       0\n4                4       0\n...            ...     ...\n199995      199995       1\n199996      199996       0\n199997      199997       1\n199998      199998       0\n199999      199999       0\n\n[200000 rows x 2 columns]",
      "text/html": "<div>\n<style scoped>\n    .dataframe tbody tr th:only-of-type {\n        vertical-align: middle;\n    }\n\n    .dataframe tbody tr th {\n        vertical-align: top;\n    }\n\n    .dataframe thead th {\n        text-align: right;\n    }\n</style>\n<table border=\"1\" class=\"dataframe\">\n  <thead>\n    <tr style=\"text-align: right;\">\n      <th></th>\n      <th>Unnamed: 0</th>\n      <th>target</th>\n    </tr>\n  </thead>\n  <tbody>\n    <tr>\n      <th>0</th>\n      <td>0</td>\n      <td>0</td>\n    </tr>\n    <tr>\n      <th>1</th>\n      <td>1</td>\n      <td>1</td>\n    </tr>\n    <tr>\n      <th>2</th>\n      <td>2</td>\n      <td>0</td>\n    </tr>\n    <tr>\n      <th>3</th>\n      <td>3</td>\n      <td>0</td>\n    </tr>\n    <tr>\n      <th>4</th>\n      <td>4</td>\n      <td>0</td>\n    </tr>\n    <tr>\n      <th>...</th>\n      <td>...</td>\n      <td>...</td>\n    </tr>\n    <tr>\n      <th>199995</th>\n      <td>199995</td>\n      <td>1</td>\n    </tr>\n    <tr>\n      <th>199996</th>\n      <td>199996</td>\n      <td>0</td>\n    </tr>\n    <tr>\n      <th>199997</th>\n      <td>199997</td>\n      <td>1</td>\n    </tr>\n    <tr>\n      <th>199998</th>\n      <td>199998</td>\n      <td>0</td>\n    </tr>\n    <tr>\n      <th>199999</th>\n      <td>199999</td>\n      <td>0</td>\n    </tr>\n  </tbody>\n</table>\n<p>200000 rows × 2 columns</p>\n</div>"
     },
     "execution_count": 284,
     "metadata": {},
     "output_type": "execute_result"
    }
   ],
   "source": [
    "sub = pd.read_csv('D:\\my work\\kaggle\\stock\\submission.csv')\n",
    "sub\n",
    "\n"
   ],
   "metadata": {
    "collapsed": false,
    "pycharm": {
     "name": "#%%\n"
    }
   }
  },
  {
   "cell_type": "code",
   "execution_count": 285,
   "outputs": [],
   "source": [
    "sub['id'] = sub['Unnamed: 0'] + 1\n"
   ],
   "metadata": {
    "collapsed": false,
    "pycharm": {
     "name": "#%%\n"
    }
   }
  },
  {
   "cell_type": "code",
   "execution_count": 286,
   "outputs": [
    {
     "data": {
      "text/plain": "        Unnamed: 0  target      id\n0                0       0       1\n1                1       1       2\n2                2       0       3\n3                3       0       4\n4                4       0       5\n...            ...     ...     ...\n199995      199995       1  199996\n199996      199996       0  199997\n199997      199997       1  199998\n199998      199998       0  199999\n199999      199999       0  200000\n\n[200000 rows x 3 columns]",
      "text/html": "<div>\n<style scoped>\n    .dataframe tbody tr th:only-of-type {\n        vertical-align: middle;\n    }\n\n    .dataframe tbody tr th {\n        vertical-align: top;\n    }\n\n    .dataframe thead th {\n        text-align: right;\n    }\n</style>\n<table border=\"1\" class=\"dataframe\">\n  <thead>\n    <tr style=\"text-align: right;\">\n      <th></th>\n      <th>Unnamed: 0</th>\n      <th>target</th>\n      <th>id</th>\n    </tr>\n  </thead>\n  <tbody>\n    <tr>\n      <th>0</th>\n      <td>0</td>\n      <td>0</td>\n      <td>1</td>\n    </tr>\n    <tr>\n      <th>1</th>\n      <td>1</td>\n      <td>1</td>\n      <td>2</td>\n    </tr>\n    <tr>\n      <th>2</th>\n      <td>2</td>\n      <td>0</td>\n      <td>3</td>\n    </tr>\n    <tr>\n      <th>3</th>\n      <td>3</td>\n      <td>0</td>\n      <td>4</td>\n    </tr>\n    <tr>\n      <th>4</th>\n      <td>4</td>\n      <td>0</td>\n      <td>5</td>\n    </tr>\n    <tr>\n      <th>...</th>\n      <td>...</td>\n      <td>...</td>\n      <td>...</td>\n    </tr>\n    <tr>\n      <th>199995</th>\n      <td>199995</td>\n      <td>1</td>\n      <td>199996</td>\n    </tr>\n    <tr>\n      <th>199996</th>\n      <td>199996</td>\n      <td>0</td>\n      <td>199997</td>\n    </tr>\n    <tr>\n      <th>199997</th>\n      <td>199997</td>\n      <td>1</td>\n      <td>199998</td>\n    </tr>\n    <tr>\n      <th>199998</th>\n      <td>199998</td>\n      <td>0</td>\n      <td>199999</td>\n    </tr>\n    <tr>\n      <th>199999</th>\n      <td>199999</td>\n      <td>0</td>\n      <td>200000</td>\n    </tr>\n  </tbody>\n</table>\n<p>200000 rows × 3 columns</p>\n</div>"
     },
     "execution_count": 286,
     "metadata": {},
     "output_type": "execute_result"
    }
   ],
   "source": [
    "sub"
   ],
   "metadata": {
    "collapsed": false,
    "pycharm": {
     "name": "#%%\n"
    }
   }
  },
  {
   "cell_type": "code",
   "execution_count": 287,
   "outputs": [],
   "source": [
    "sub.drop('Unnamed: 0', axis=1, inplace=True)\n"
   ],
   "metadata": {
    "collapsed": false,
    "pycharm": {
     "name": "#%%\n"
    }
   }
  },
  {
   "cell_type": "code",
   "execution_count": 288,
   "outputs": [],
   "source": [
    "sub.to_csv('submission.csv')"
   ],
   "metadata": {
    "collapsed": false,
    "pycharm": {
     "name": "#%%\n"
    }
   }
  },
  {
   "cell_type": "code",
   "execution_count": null,
   "outputs": [],
   "source": [
    "from sklearn.ensemble import RandomForestClassifier\n",
    "forest_clf = RandomForestClassifier()\n",
    "forest_clf.fit(X_train, y_train.values.ravel())"
   ],
   "metadata": {
    "collapsed": false,
    "pycharm": {
     "name": "#%%\n",
     "is_executing": true
    }
   }
  },
  {
   "cell_type": "code",
   "execution_count": null,
   "outputs": [],
   "source": [],
   "metadata": {
    "collapsed": false,
    "pycharm": {
     "name": "#%%\n"
    }
   }
  }
 ],
 "metadata": {
  "kernelspec": {
   "display_name": "Python 3",
   "language": "python",
   "name": "python3"
  },
  "language_info": {
   "codemirror_mode": {
    "name": "ipython",
    "version": 2
   },
   "file_extension": ".py",
   "mimetype": "text/x-python",
   "name": "python",
   "nbconvert_exporter": "python",
   "pygments_lexer": "ipython2",
   "version": "2.7.6"
  }
 },
 "nbformat": 4,
 "nbformat_minor": 0
}